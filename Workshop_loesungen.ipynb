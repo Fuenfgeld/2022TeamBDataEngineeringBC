{
 "cells": [
  {
   "cell_type": "markdown",
   "metadata": {
    "id": "lZfbJN0EadMl"
   },
   "source": [
    "# SQLite Workshop"
   ]
  },
  {
   "cell_type": "markdown",
   "metadata": {
    "id": "yjxTEKZSadMp"
   },
   "source": [
    "### Load Libraries"
   ]
  },
  {
   "cell_type": "code",
   "execution_count": 1,
   "metadata": {
    "id": "h7a6BCkrI3lC"
   },
   "outputs": [],
   "source": [
    "import sqlite3\n",
    "import pandas as pd"
   ]
  },
  {
   "cell_type": "markdown",
   "metadata": {
    "id": "-xrj1LUKadMr"
   },
   "source": [
    "### Load GitHub repo"
   ]
  },
  {
   "cell_type": "code",
   "execution_count": null,
   "metadata": {
    "colab": {
     "base_uri": "https://localhost:8080/"
    },
    "id": "51Emunq_gVrR",
    "outputId": "5f5edc26-47b8-4c11-d862-77d976363547"
   },
   "outputs": [],
   "source": [
    "%cd /content/\n",
    "%rm -r ./2022TeamBDataEngineeringBC\n",
    "!git clone https://github.com/Fuenfgeld/2022TeamBDataEngineeringBC.git\n",
    "%cd ./2022TeamBDataEngineeringBC/"
   ]
  },
  {
   "cell_type": "markdown",
   "metadata": {
    "id": "ludke7zgadMs"
   },
   "source": [
    "### Connect to Database"
   ]
  },
  {
   "cell_type": "code",
   "execution_count": 2,
   "metadata": {
    "colab": {
     "base_uri": "https://localhost:8080/"
    },
    "id": "5dgmrIH9gnX3",
    "outputId": "da027f88-54a1-45f0-e982-fbae5a06a991"
   },
   "outputs": [
    {
     "name": "stdout",
     "output_type": "stream",
     "text": [
      "Opened database successfully\n"
     ]
    }
   ],
   "source": [
    "conn = sqlite3.connect('sqlite_workshop.db')\n",
    "cursor = conn.cursor()\n",
    "print(\"Opened database successfully\");"
   ]
  },
  {
   "cell_type": "markdown",
   "metadata": {},
   "source": [
    "### Delete tables if exists"
   ]
  },
  {
   "cell_type": "code",
   "execution_count": 3,
   "metadata": {},
   "outputs": [
    {
     "data": {
      "text/plain": [
       "<sqlite3.Cursor at 0x2064fbb4a40>"
      ]
     },
     "execution_count": 3,
     "metadata": {},
     "output_type": "execute_result"
    }
   ],
   "source": [
    "cursor.execute(\"DROP TABLE IF EXISTS food\")\n",
    "cursor.execute(\"DROP TABLE IF EXISTS orders\")\n",
    "cursor.execute(\"DROP TABLE IF EXISTS animals\")\n",
    "cursor.execute(\"DROP TABLE IF EXISTS customer\")\n",
    "#cursor.execute(\"DROP TABLE IF EXISTS producer\")\n",
    "cursor.execute(\"DROP TABLE IF EXISTS customer_buys_food\")\n",
    "cursor.execute(\"DROP TABLE IF EXISTS employee\")\n",
    "cursor.execute(\"DROP TABLE IF EXISTS sales\")\n",
    "cursor.execute(\"DROP TABLE IF EXISTS food_new\")\n",
    "cursor.execute(\"DROP TABLE IF EXISTS customer_new\")\n",
    "cursor.execute(\"DROP TABLE IF EXISTS employee_new\")\n",
    "#cursor.execute(\"DROP TABLE IF EXISTS employee_sells_to_customer\")"
   ]
  },
  {
   "cell_type": "markdown",
   "metadata": {},
   "source": [
    "### Delete tables for Part 1"
   ]
  },
  {
   "cell_type": "code",
   "execution_count": 4,
   "metadata": {},
   "outputs": [
    {
     "data": {
      "text/plain": [
       "<sqlite3.Cursor at 0x2064fbb4a40>"
      ]
     },
     "execution_count": 4,
     "metadata": {},
     "output_type": "execute_result"
    }
   ],
   "source": [
    "cursor.execute(\"DROP TABLE IF EXISTS Liga\")\n",
    "cursor.execute(\"DROP TABLE IF EXISTS Verein\")\n",
    "cursor.execute(\"DROP TABLE IF EXISTS Spieler\")"
   ]
  },
  {
   "cell_type": "markdown",
   "metadata": {},
   "source": [
    "### create Tables for Part 1"
   ]
  },
  {
   "cell_type": "code",
   "execution_count": 5,
   "metadata": {},
   "outputs": [
    {
     "data": {
      "text/plain": [
       "<sqlite3.Cursor at 0x2064fbb4a40>"
      ]
     },
     "execution_count": 5,
     "metadata": {},
     "output_type": "execute_result"
    }
   ],
   "source": [
    "cursor.execute('''\n",
    "\t\tCREATE TABLE IF NOT EXISTS Liga (\n",
    "            L_name nvarchar(80) primary key,\n",
    "            Anzahl_Vereine int\n",
    "\t\t\t)\n",
    "               ''')\n",
    "\n",
    "cursor.execute('''\n",
    "\t\tCREATE TABLE IF NOT EXISTS Verein (\n",
    "\t\t\tV_name nvarchar(80) primary key,\n",
    "            Liga nvarchar(80),\n",
    "            Anzahl_Meisterschaften int,\n",
    "            foreign key(Liga) references Liga(L_name)\n",
    "\n",
    "\t\t\t)\n",
    "               ''')\n",
    "\n",
    "cursor.execute('''\n",
    "\t\tCREATE TABLE IF NOT EXISTS Spieler (\n",
    "\t\t\tS_name nvarchar(80) primary key,\n",
    "            Verein nvarchar(80),\n",
    "            foreign key(Verein) references Verein(V_name)\n",
    "\n",
    "\t\t\t)\n",
    "               ''')"
   ]
  },
  {
   "cell_type": "markdown",
   "metadata": {},
   "source": [
    "### fill Tables for Part 1"
   ]
  },
  {
   "cell_type": "code",
   "execution_count": 6,
   "metadata": {},
   "outputs": [
    {
     "data": {
      "text/plain": [
       "<sqlite3.Cursor at 0x2064fbb4a40>"
      ]
     },
     "execution_count": 6,
     "metadata": {},
     "output_type": "execute_result"
    }
   ],
   "source": [
    "cursor.execute('''\n",
    "\t\tINSERT INTO Liga (L_name,Anzahl_Vereine)\n",
    "            VALUES\n",
    "            (\"1. Bundesliga\", 18),\n",
    "            (\"2. Bundesliga\", 18), \n",
    "            (\"3. Bundesliga\",20)\n",
    "\n",
    "\t\t\t\n",
    "               ''')\n",
    "\n",
    "cursor.execute('''\n",
    "\t\tINSERT INTO Verein (V_name, Liga, Anzahl_Meisterschaften)\n",
    "            VALUES\n",
    "            (\"1. FC Bayern Muenchen\", \"1. Bundesliga\", 32),\n",
    "            (\"2. FC Kaiserslautern\", \"3. Bundesliga\", 4), \n",
    "            ( \"SV Waldhof Mannheim\", \"3. Bundesliga\", 0)\n",
    "\n",
    "\t\t\t\n",
    "               ''')\n",
    "cursor.execute('''\n",
    "\t\tINSERT INTO Spieler (S_name, Verein)\n",
    "            VALUES\n",
    "            (\"Manuel Neuer\",\"1. FC Bayern Muenchen\"),\n",
    "            (\"Matheo Raab\", \"1. FC Kaiserslautern\"), \n",
    "            (\"Timo Koenigsmann\", \"SV Waldhof Mannheim\")\n",
    "\n",
    "\t\t\t\n",
    "               ''')"
   ]
  },
  {
   "cell_type": "markdown",
   "metadata": {},
   "source": [
    "## Teil 1"
   ]
  },
  {
   "cell_type": "code",
   "execution_count": 7,
   "metadata": {},
   "outputs": [
    {
     "name": "stdout",
     "output_type": "stream",
     "text": [
      "      name\n",
      "0     Liga\n",
      "1   Verein\n",
      "2  Spieler\n"
     ]
    }
   ],
   "source": [
    "#Tabellennamen herausfinden\n",
    "print(pd.read_sql_query(\"SELECT name FROM sqlite_master WHERE type='table';\", conn))"
   ]
  },
  {
   "cell_type": "code",
   "execution_count": 8,
   "metadata": {},
   "outputs": [
    {
     "name": "stdout",
     "output_type": "stream",
     "text": [
      "   cid            name          type  notnull dflt_value  pk\n",
      "0    0          L_name  nvarchar(80)        0       None   1\n",
      "1    1  Anzahl_Vereine           int        0       None   0\n",
      "   cid                    name          type  notnull dflt_value  pk\n",
      "0    0                  V_name  nvarchar(80)        0       None   1\n",
      "1    1                    Liga  nvarchar(80)        0       None   0\n",
      "2    2  Anzahl_Meisterschaften           int        0       None   0\n",
      "   cid    name          type  notnull dflt_value  pk\n",
      "0    0  S_name  nvarchar(80)        0       None   1\n",
      "1    1  Verein  nvarchar(80)        0       None   0\n"
     ]
    }
   ],
   "source": [
    "# Private Keys herausfinden\n",
    "print(pd.read_sql_query(\"PRAGMA table_info('Liga')\", conn))\n",
    "print(pd.read_sql_query(\"PRAGMA table_info('Verein')\", conn))\n",
    "print(pd.read_sql_query(\"PRAGMA table_info('Spieler')\", conn))"
   ]
  },
  {
   "cell_type": "code",
   "execution_count": 9,
   "metadata": {},
   "outputs": [
    {
     "name": "stdout",
     "output_type": "stream",
     "text": [
      "Empty DataFrame\n",
      "Columns: [id, seq, table, from, to, on_update, on_delete, match]\n",
      "Index: []\n",
      "----------------------------------------\n",
      "   id  seq table  from      to  on_update  on_delete match\n",
      "0   0    0  Liga  Liga  L_name  NO ACTION  NO ACTION  NONE\n",
      "----------------------------------------\n",
      "   id  seq   table    from      to  on_update  on_delete match\n",
      "0   0    0  Verein  Verein  V_name  NO ACTION  NO ACTION  NONE\n"
     ]
    }
   ],
   "source": [
    "#Foreign keys herausfinden\n",
    "print(pd.read_sql_query(\"PRAGMA foreign_key_list('Liga')\", conn))\n",
    "print(\"----------------------------------------\")\n",
    "print(pd.read_sql_query(\"PRAGMA foreign_key_list('Verein')\", conn))\n",
    "print(\"----------------------------------------\")\n",
    "print(pd.read_sql_query(\"PRAGMA foreign_key_list('Spieler')\", conn))"
   ]
  },
  {
   "attachments": {
    "loesung_teil_1.png": {
     "image/png": "[encoded data removed]"
    }
   },
   "cell_type": "markdown",
   "metadata": {},
   "source": [
    "![loesung_teil_1.png](attachment:loesung_teil_1.png)"
   ]
  },
  {
   "cell_type": "code",
   "execution_count": 10,
   "metadata": {},
   "outputs": [
    {
     "name": "stdout",
     "output_type": "stream",
     "text": [
      "          L_name  Anzahl_Vereine\n",
      "0  1. Bundesliga              18\n",
      "1  2. Bundesliga              18\n",
      "2  3. Bundesliga              20\n",
      "----------------------------------------\n",
      "                  V_name           Liga  Anzahl_Meisterschaften\n",
      "0  1. FC Bayern Muenchen  1. Bundesliga                      32\n",
      "1   2. FC Kaiserslautern  3. Bundesliga                       4\n",
      "2    SV Waldhof Mannheim  3. Bundesliga                       0\n",
      "----------------------------------------\n",
      "             S_name                 Verein\n",
      "0      Manuel Neuer  1. FC Bayern Muenchen\n",
      "1       Matheo Raab   1. FC Kaiserslautern\n",
      "2  Timo Koenigsmann    SV Waldhof Mannheim\n"
     ]
    }
   ],
   "source": [
    "#tabellen ausgeben\n",
    "print(pd.read_sql_query(\"SELECT * FROM Liga\", conn))\n",
    "print(\"----------------------------------------\")\n",
    "print(pd.read_sql_query(\"SELECT * FROM Verein\", conn))\n",
    "print(\"----------------------------------------\")\n",
    "print(pd.read_sql_query(\"SELECT * FROM Spieler\", conn))"
   ]
  },
  {
   "cell_type": "markdown",
   "metadata": {
    "id": "2ySsuxihadMt"
   },
   "source": [
    "### Load CSVs into Dataframe"
   ]
  },
  {
   "cell_type": "code",
   "execution_count": null,
   "metadata": {},
   "outputs": [],
   "source": [
    "food = pd.read_csv('tables/initial_tables/Futter.csv', sep=\";\")\n",
    "customer = pd.read_csv('tables/initial_tables/Kunden.csv', sep=\";\")\n",
    "animals = pd.read_csv('tables/initial_tables/Tiere.csv', sep=\";\")\n",
    "orders = pd.read_csv('tables/initial_tables/Order.csv', sep=\";\")\n",
    "employee = pd.read_csv('tables/initial_tables/Verkaeufer.csv', sep=\";\")\n",
    "customer_buys_food = pd.read_csv('tables/initial_tables/Customer_buys_Food.csv', sep=\";\")"
   ]
  },
  {
   "cell_type": "markdown",
   "metadata": {
    "id": "LIUA1ROCadMu"
   },
   "source": [
    "### Create Tables"
   ]
  },
  {
   "cell_type": "code",
   "execution_count": null,
   "metadata": {},
   "outputs": [],
   "source": [
    "cursor.execute('''\n",
    "\t\tCREATE TABLE IF NOT EXISTS customer (\n",
    "\t\t\tcustomer_ID int primary key,\n",
    "            name nvarchar(50),\n",
    "\t\t\tpostal_code nvarchar(5),\n",
    "\t\t\tcity nvarchar(50)\n",
    "\t\t\t)\n",
    "               ''')\n",
    "\n",
    "cursor.execute('''\n",
    "\t\tCREATE TABLE IF NOT EXISTS employee (\n",
    "\t\t\temployee_ID int primary key,\n",
    "            name nvarchar(50),\n",
    "            gender nvarchar(1),\n",
    "\t\t\twage int\n",
    "\t\t\t)\n",
    "               ''')\n",
    "\n",
    "cursor.execute('''\n",
    "\t\tCREATE TABLE IF NOT EXISTS food (\n",
    "\t\t\tfood_ID int primary key,\n",
    "            name nvarchar(50),\n",
    "\t\t\tprice_per_kg float,\n",
    "            producer nvarchar(50),\n",
    "            origin nvarchar(50)\n",
    "\t\t\t)\n",
    "               ''')\n",
    "\n",
    "cursor.execute('''\n",
    "\t\tCREATE TABLE IF NOT EXISTS animals (\n",
    "            name nvarchar(50) primary key,\n",
    "\t\t\tfood int,\n",
    "\t\t\tforeign key(food) references food(food_ID)\n",
    "\t\t\t)\n",
    "               ''') \n",
    "cursor.execute('''\n",
    "\t\tCREATE TABLE IF NOT EXISTS orders (\n",
    "            order_Nr int primary key,\n",
    "            date Date,\n",
    "            transact int\n",
    "\t\t\t)\n",
    "               ''')\n",
    "\n",
    "\n",
    "cursor.execute('''\n",
    "\t\tCREATE TABLE IF NOT EXISTS customer_buys_food (\n",
    "            C_ID int,\n",
    "            F_ID int,\n",
    "\t\t\tamount int,\n",
    "            O_ID int,\n",
    "            E_ID int,\n",
    "            foreign key(C_ID) references customer(customer_ID)\n",
    "\t\t\tforeign key(F_ID) references food(food_ID)\n",
    "            foreign key(O_ID) references orders(order_Nr)\n",
    "            foreign key(E_ID) references employee(employee_ID)\n",
    "\t\t\t)\n",
    "               ''') "
   ]
  },
  {
   "cell_type": "markdown",
   "metadata": {
    "id": "hqexOZTDadMv"
   },
   "source": [
    "### Insert Dataframe in Table"
   ]
  },
  {
   "cell_type": "code",
   "execution_count": null,
   "metadata": {},
   "outputs": [],
   "source": [
    "customer.to_sql('customer', conn, if_exists='append', index=False)\n",
    "animals.to_sql('animals', conn, if_exists='append', index=False)\n",
    "food.to_sql('food', conn, if_exists='append', index=False)\n",
    "orders.to_sql('orders', conn, if_exists='append', index=False)\n",
    "employee.to_sql('employee', conn, if_exists='append', index=False)\n",
    "customer_buys_food.to_sql('customer_buys_food', conn, if_exists='append', index=False)"
   ]
  },
  {
   "cell_type": "markdown",
   "metadata": {
    "id": "4QthnM4tadMw"
   },
   "source": [
    "### Output table contents"
   ]
  },
  {
   "cell_type": "code",
   "execution_count": null,
   "metadata": {
    "colab": {
     "base_uri": "https://localhost:8080/"
    },
    "id": "EaYhlJx3adMx",
    "outputId": "9140483f-237d-4783-98c8-42d99d0c51da"
   },
   "outputs": [],
   "source": [
    "print(pd.read_sql_query(\"SELECT * FROM customer\", conn))\n",
    "print(\"--------------------------------------------------------\")\n",
    "print(pd.read_sql_query(\"SELECT * FROM food\", conn))\n",
    "print(\"--------------------------------------------------------\")\n",
    "print(pd.read_sql_query(\"SELECT * FROM animals\", conn))"
   ]
  },
  {
   "cell_type": "code",
   "execution_count": null,
   "metadata": {},
   "outputs": [],
   "source": [
    "print(pd.read_sql_query(\"SELECT * FROM orders\", conn))\n",
    "print(\"--------------------------------------------------------\")\n",
    "print(pd.read_sql_query(\"SELECT * FROM employee\", conn))\n",
    "print(\"--------------------------------------------------------\")\n",
    "print(\"Tab customer_buys_food\")\n",
    "print(pd.read_sql_query(\"SELECT * FROM customer_buys_food\", conn))\n",
    "print(\"--------------------------------------------------------\")"
   ]
  },
  {
   "cell_type": "markdown",
   "metadata": {
    "id": "jdLVR06CeLfN"
   },
   "source": [
    "### Output Table Info\n"
   ]
  },
  {
   "cell_type": "code",
   "execution_count": null,
   "metadata": {
    "colab": {
     "base_uri": "https://localhost:8080/"
    },
    "id": "rwVSe1sLeCM8",
    "outputId": "7b6fd612-307d-46e3-a7ee-fdf3f2bf2eac"
   },
   "outputs": [],
   "source": [
    "print(pd.read_sql_query(\"PRAGMA table_info('orders')\", conn))\n",
    "print(\"--------------------------------------------------------\")\n",
    "print(pd.read_sql_query(\"PRAGMA table_info('food')\", conn))\n",
    "print(\"--------------------------------------------------------\")\n",
    "print(pd.read_sql_query(\"PRAGMA table_info('animals')\", conn))"
   ]
  },
  {
   "cell_type": "code",
   "execution_count": null,
   "metadata": {},
   "outputs": [],
   "source": [
    "print(pd.read_sql_query(\"PRAGMA table_info('customer')\", conn))\n",
    "print(\"--------------------------------------------------------\")\n",
    "print(pd.read_sql_query(\"PRAGMA table_info('customer_buys_food')\", conn))\n",
    "print(\"--------------------------------------------------------\")\n",
    "print(pd.read_sql_query(\"PRAGMA table_info('employee')\", conn))"
   ]
  },
  {
   "cell_type": "markdown",
   "metadata": {},
   "source": [
    "### Get foreign keys\n",
    "Emtpy DataFrame means there are no foreign keys"
   ]
  },
  {
   "cell_type": "markdown",
   "metadata": {},
   "source": [
    "Orders table"
   ]
  },
  {
   "cell_type": "code",
   "execution_count": null,
   "metadata": {},
   "outputs": [],
   "source": [
    "print(pd.read_sql_query(\"PRAGMA foreign_key_list('orders')\", conn))"
   ]
  },
  {
   "cell_type": "markdown",
   "metadata": {},
   "source": [
    "Food table"
   ]
  },
  {
   "cell_type": "code",
   "execution_count": null,
   "metadata": {},
   "outputs": [],
   "source": [
    "print(pd.read_sql_query(\"PRAGMA foreign_key_list('food')\", conn))"
   ]
  },
  {
   "cell_type": "markdown",
   "metadata": {},
   "source": [
    "Animals table"
   ]
  },
  {
   "cell_type": "code",
   "execution_count": null,
   "metadata": {},
   "outputs": [],
   "source": [
    "print(pd.read_sql_query(\"PRAGMA foreign_key_list('Animals')\", conn))"
   ]
  },
  {
   "cell_type": "markdown",
   "metadata": {},
   "source": [
    "Customer Table"
   ]
  },
  {
   "cell_type": "code",
   "execution_count": null,
   "metadata": {},
   "outputs": [],
   "source": [
    "print(pd.read_sql_query(\"PRAGMA foreign_key_list('customer')\", conn))"
   ]
  },
  {
   "cell_type": "markdown",
   "metadata": {},
   "source": [
    "Customer_buys_food table"
   ]
  },
  {
   "cell_type": "code",
   "execution_count": null,
   "metadata": {},
   "outputs": [],
   "source": [
    "print(pd.read_sql_query(\"PRAGMA foreign_key_list('customer_buys_food')\", conn))"
   ]
  },
  {
   "cell_type": "markdown",
   "metadata": {},
   "source": [
    "Employee_sells_to_customer table"
   ]
  },
  {
   "cell_type": "code",
   "execution_count": null,
   "metadata": {},
   "outputs": [],
   "source": [
    "print(pd.read_sql_query(\"PRAGMA foreign_key_list('employee_sells_to_customer')\", conn))"
   ]
  },
  {
   "cell_type": "markdown",
   "metadata": {},
   "source": [
    "Employee table"
   ]
  },
  {
   "cell_type": "code",
   "execution_count": null,
   "metadata": {},
   "outputs": [],
   "source": [
    "print(pd.read_sql_query(\"PRAGMA foreign_key_list('employee')\", conn))"
   ]
  },
  {
   "cell_type": "markdown",
   "metadata": {},
   "source": [
    "### INNER JOIN\n",
    "\n",
    "SQLite INNER JOIN gibt die Datensätze zurück, bei denen sich tabel1 und tabel2 überschneiden."
   ]
  },
  {
   "cell_type": "code",
   "execution_count": null,
   "metadata": {},
   "outputs": [],
   "source": [
    "print(pd.read_sql_query('''\n",
    "SELECT animals.name,food.name as f_name FROM animals \n",
    "        INNER JOIN food ON animals.food = food.food_ID''', conn))"
   ]
  },
  {
   "cell_type": "markdown",
   "metadata": {},
   "source": [
    "###  LEFT JOIN\n",
    "\n",
    "SQLite LEFT OUTER JOIN gibt alle Datensätze aus tabele1 und nur die Datensätze aus tabele2 zurück, die sich mit Tabelle1 überschneiden."
   ]
  },
  {
   "attachments": {
    "image.png": {
     "image/png": "[encoded data removed]"
    }
   },
   "cell_type": "markdown",
   "metadata": {},
   "source": [
    "![image.png](attachment:image.png)"
   ]
  },
  {
   "cell_type": "code",
   "execution_count": null,
   "metadata": {},
   "outputs": [],
   "source": [
    "print(pd.read_sql_query('''\n",
    "    SELECT customer.name, customer_buys_food.amount FROM customer\n",
    "    LEFT JOIN customer_buys_food ON customer.customer_ID = customer_buys_food.C_ID''', conn\n",
    "    ))"
   ]
  },
  {
   "cell_type": "markdown",
   "metadata": {},
   "source": [
    "###  MULTIPLE JOIN"
   ]
  },
  {
   "cell_type": "code",
   "execution_count": null,
   "metadata": {},
   "outputs": [],
   "source": [
    "##Wie viel Geld hat jeder Kunder ausgegeben?\n",
    "print(pd.read_sql_query('''\n",
    "    SELECT \n",
    "    customer.name, customer_buys_food.amount,food.price_per_kg,\n",
    "    food.price_per_kg*customer_buys_food.amount as sum\n",
    "    FROM customer\n",
    "    LEFT JOIN \n",
    "    customer_buys_food  ON customer.customer_ID = customer_buys_food.C_ID\n",
    "    INNER JOIN \n",
    "    food ON customer_buys_food.F_ID = food.food_ID \n",
    "    GROUP BY customer.name\n",
    "    ''', conn))"
   ]
  },
  {
   "cell_type": "code",
   "execution_count": null,
   "metadata": {},
   "outputs": [],
   "source": [
    "##Subselct\n",
    "print(pd.read_sql_query('''\n",
    "    SELECT * FROM orders\n",
    "    WHERE orders.order_Nr IN\n",
    "        (SELECT customer_buys_food.O_ID FROM customer_buys_food\n",
    "    WHERE customer_buys_food.E_ID IN\n",
    "       (SELECT employee_ID FROM employee WHERE employee.wage > 2000))\n",
    "    ''', conn))"
   ]
  },
  {
   "cell_type": "code",
   "execution_count": null,
   "metadata": {},
   "outputs": [],
   "source": [
    "###Subselect\n",
    "print(pd.read_sql_query('''\n",
    " SELECT * FROM customer_buys_food\n",
    "    WHERE customer_buys_food.E_ID IN\n",
    "       (SELECT employee_ID FROM employee WHERE employee.wage > 2000)\n",
    "    ''', conn))"
   ]
  },
  {
   "cell_type": "code",
   "execution_count": null,
   "metadata": {},
   "outputs": [],
   "source": [
    "cursor.execute('''PRAGMA foreign_keys = OFF;''')  # disable foreign keys\n",
    "conn.commit()\n",
    "\n",
    "\n",
    "cursor.execute('''CREATE TABLE IF NOT EXISTS food_new(\n",
    "                  food_id INT PRIMARY KEY,\n",
    "                  name TEXT,\n",
    "                  price_per_kg FLOAT,\n",
    "                  producer TEXT,\n",
    "                  origin TEXT,\n",
    "                  animal TEXT\n",
    "                  );''')\n",
    "\n",
    "cursor.execute('''CREATE TABLE IF NOT EXISTS customer_new(\n",
    "                  cust_id INT PRIMARY KEY NOT NULL UNIQUE,\n",
    "                  name TEXT,\n",
    "                  postal_code nvarchar(5),\n",
    "                  city TEXT\n",
    "                  );''')\n",
    "\n",
    "cursor.execute('''CREATE TABLE IF NOT EXISTS employee_new(\n",
    "                  empl_id INT PRIMARY KEY NOT NULL UNIQUE,\n",
    "                  name TEXT,\n",
    "                  gender nvarchar(1),\n",
    "                  wage INT\n",
    "                  );''')\n",
    "\n",
    "conn.commit()\n",
    "\n",
    "\n",
    "cursor.execute('''INSERT INTO food_new(food_id, name, price_per_kg, producer, origin)\n",
    "                  SELECT food_ID, name, price_per_kg, producer, origin\n",
    "                  FROM food;\n",
    "                  ''')\n",
    "conn.commit()\n",
    "cursor.execute(''' SELECT * FROM food_new;''')\n",
    "cursor.execute(''' PRAGMA table_info(food_new);''')\n",
    "records = cursor.fetchall()\n",
    "for row in records:\n",
    "  print(row)\n",
    "    \n",
    "cursor.execute('''INSERT INTO employee_new(empl_id, name, gender, wage)\n",
    "                  SELECT employee_ID, name, gender, wage\n",
    "                  FROM employee;\n",
    "                  ''')\n",
    "\n",
    "conn.commit()\n",
    "cursor.execute(''' SELECT * FROM employee_new;''')\n",
    "records = cursor.fetchall()\n",
    "\n",
    "for row in records:\n",
    "  print(row)\n",
    "    \n",
    "    \n",
    "cursor.execute(''' SELECT * FROM customer_new;''')\n",
    "cursor.execute(''' PRAGMA table_info(customer_new);''')\n",
    "records = cursor.fetchall()\n",
    "for row in records:\n",
    "  print(row)\n",
    "    \n",
    "cursor.execute('''INSERT INTO customer_new(cust_id, name, postal_code, city)\n",
    "                  SELECT customer_ID, name, postal_code, city\n",
    "                  FROM customer;\n",
    "                  ''')\n",
    "\n",
    "conn.commit()\n",
    "cursor.execute(''' SELECT * FROM customer_new;''')\n",
    "records = cursor.fetchall()\n",
    "for row in records:\n",
    "  print(row)"
   ]
  },
  {
   "cell_type": "code",
   "execution_count": null,
   "metadata": {},
   "outputs": [],
   "source": [
    "### Joins for sales table\n",
    "print(pd.read_sql_query('''\n",
    "    SELECT order_Nr,transact, date, C_ID as customer_id, food_ID as food_id, amount, E_ID AS employee_id FROM orders\n",
    "    LEFT JOIN customer_buys_food ON orders.order_Nr = customer_buys_food.O_ID\n",
    "    LEFt JOIN food ON customer_buys_food.F_ID = food.food_ID \n",
    "    ''', conn))"
   ]
  },
  {
   "cell_type": "code",
   "execution_count": null,
   "metadata": {},
   "outputs": [],
   "source": [
    "cursor.execute('''CREATE TABLE IF NOT EXISTS sales(\n",
    "                  order_nr  INT PRIMARY KEY NOT NULL UNIQUE,\n",
    "                  transact,\n",
    "                  date DATE,\n",
    "                  custumer_id int, \n",
    "                  food_id INT,\n",
    "                  amount INT,\n",
    "                  employee_id INT,\n",
    "                  foreign key(food_id) references food_new(food_id),\n",
    "                  foreign key(custumer_id) references customer_new(cust_id),\n",
    "                  foreign key(employee_id) references employee_new(empl_id)\n",
    "                  );''')"
   ]
  },
  {
   "cell_type": "code",
   "execution_count": null,
   "metadata": {},
   "outputs": [],
   "source": [
    "cursor.execute('''INSERT INTO sales( order_nr, transact, date, custumer_id, food_id, amount,employee_id )\n",
    "                  SELECT order_Nr,transact, date, C_ID, food_ID, amount, E_ID FROM orders\n",
    "    LEFT JOIN customer_buys_food ON orders.order_Nr = customer_buys_food.O_ID\n",
    "    LEFt JOIN food ON customer_buys_food.F_ID = food.food_ID;\n",
    "    ''')"
   ]
  },
  {
   "cell_type": "code",
   "execution_count": null,
   "metadata": {},
   "outputs": [],
   "source": [
    "print(pd.read_sql_query(\"SELECT * FROM sales\", conn))"
   ]
  },
  {
   "cell_type": "code",
   "execution_count": null,
   "metadata": {},
   "outputs": [],
   "source": [
    "cursor.execute(''' PRAGMA table_info(sales);''')\n",
    "records = cursor.fetchall()"
   ]
  },
  {
   "cell_type": "markdown",
   "metadata": {},
   "source": [
    "### Teil 1"
   ]
  },
  {
   "cell_type": "code",
   "execution_count": null,
   "metadata": {},
   "outputs": [],
   "source": [
    "# Bitte lösche oben, was du nicht brauchst und was du brauchst mach in deinen Teil rein :)\n",
    "\n",
    "# Bitte schreibe deine Aufgaben hier:\n",
    "\n",
    "# Bitte mache deine Lösungen in Workshop_loesung rein :)"
   ]
  },
  {
   "cell_type": "markdown",
   "metadata": {},
   "source": [
    "### Teil 2"
   ]
  },
  {
   "cell_type": "code",
   "execution_count": null,
   "metadata": {},
   "outputs": [],
   "source": [
    "# Bitte lösche oben, was du nicht brauchst und was du brauchst mach in deinen Teil rein :)\n",
    "\n",
    "# Bitte schreibe deine Aufgaben hier:\n",
    "\n",
    "# Bitte mache deine Lösungen in Workshop_loesung rein :)"
   ]
  },
  {
   "cell_type": "markdown",
   "metadata": {},
   "source": [
    "### Teil 3"
   ]
  },
  {
   "cell_type": "code",
   "execution_count": null,
   "metadata": {},
   "outputs": [],
   "source": [
    "# Bitte lösche oben, was du nicht brauchst und was du brauchst mach in deinen Teil rein :)\n",
    "\n",
    "# Bitte schreibe deine Aufgaben hier:\n",
    "\n",
    "# Bitte mache deine Lösungen in Workshop_loesung rein :)"
   ]
  },
  {
   "cell_type": "markdown",
   "metadata": {
    "id": "Eu-QLJbladMx"
   },
   "source": [
    "### Close connection"
   ]
  },
  {
   "cell_type": "code",
   "execution_count": null,
   "metadata": {
    "id": "jWWrN75EadMx"
   },
   "outputs": [],
   "source": [
    "#conn.close()"
   ]
  }
 ],
 "metadata": {
  "colab": {
   "collapsed_sections": [],
   "name": "SQLite_Workshop.ipynb",
   "provenance": []
  },
  "kernelspec": {
   "display_name": "Python 3",
   "language": "python",
   "name": "python3"
  },
  "language_info": {
   "codemirror_mode": {
    "name": "ipython",
    "version": 3
   },
   "file_extension": ".py",
   "mimetype": "text/x-python",
   "name": "python",
   "nbconvert_exporter": "python",
   "pygments_lexer": "ipython3",
   "version": "3.8.9"
  }
 },
 "nbformat": 4,
 "nbformat_minor": 1
}
