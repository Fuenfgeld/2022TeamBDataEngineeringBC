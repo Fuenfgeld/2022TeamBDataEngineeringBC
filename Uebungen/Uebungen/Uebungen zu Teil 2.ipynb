{
 "cells": [
  {
   "cell_type": "markdown",
   "id": "a226cad5",
   "metadata": {},
   "source": [
    "[![Open in Colab](https://colab.research.google.com/assets/colab-badge.svg)](https://colab.research.google.com/github/Fuenfgeld/2022TeamBDataEngineeringBC/blob/main/Uebungen/Uebungen/Uebungen%20zu%20Teil%202.ipynb)"
   ]
  },
  {
   "cell_type": "markdown",
   "id": "9cb2a19a",
   "metadata": {},
   "source": [
    "# Übungen zu Teil 2"
   ]
  },
  {
   "cell_type": "markdown",
   "id": "1700f32c",
   "metadata": {},
   "source": [
    "## Bitte führen Sie die nächsten beiden Codeabschnitte aus"
   ]
  },
  {
   "cell_type": "markdown",
   "id": "9dc7d972",
   "metadata": {},
   "source": [
    "### Die Lösungen befinden sich im Ordner Uebungen/Loesungen und sind am Ende der Übung verlinkt"
   ]
  },
  {
   "cell_type": "code",
   "execution_count": 3,
   "id": "deee0a2f",
   "metadata": {},
   "outputs": [
    {
     "name": "stdout",
     "output_type": "stream",
     "text": [
      "[WinError 2] Das System kann die angegebene Datei nicht finden: '/content/'\n",
      "C:\\Users\\jungc\\Desktop\\2022TeamBDataEngineeringBC\\Uebungen\\Uebungen\n"
     ]
    },
    {
     "name": "stderr",
     "output_type": "stream",
     "text": [
      "UsageError: Line magic function `%rm` not found.\n"
     ]
    }
   ],
   "source": [
    "#Load Libraries\n",
    "import sqlite3\n",
    "import pandas as pd\n",
    "\n",
    "# Load GitHub repo\n",
    "%cd /content/\n",
    "%rm -r ./2022TeamBDataEngineeringBC\n",
    "!git clone https://github.com/Fuenfgeld/2022TeamBDataEngineeringBC.git\n",
    "%cd ./2022TeamBDataEngineeringBC/"
   ]
  },
  {
   "cell_type": "code",
   "execution_count": 4,
   "id": "899bef62",
   "metadata": {},
   "outputs": [
    {
     "name": "stdout",
     "output_type": "stream",
     "text": [
      "Opened database successfully\n"
     ]
    },
    {
     "ename": "FileNotFoundError",
     "evalue": "[Errno 2] No such file or directory: 'tables/initial_tables/Futter.csv'",
     "output_type": "error",
     "traceback": [
      "\u001b[1;31m---------------------------------------------------------------------------\u001b[0m",
      "\u001b[1;31mFileNotFoundError\u001b[0m                         Traceback (most recent call last)",
      "\u001b[1;32m<ipython-input-4-a93435aa800c>\u001b[0m in \u001b[0;36m<module>\u001b[1;34m\u001b[0m\n\u001b[0;32m     20\u001b[0m \u001b[1;33m\u001b[0m\u001b[0m\n\u001b[0;32m     21\u001b[0m \u001b[1;31m# Daten einlesen\u001b[0m\u001b[1;33m\u001b[0m\u001b[1;33m\u001b[0m\u001b[1;33m\u001b[0m\u001b[0m\n\u001b[1;32m---> 22\u001b[1;33m \u001b[0mfood\u001b[0m \u001b[1;33m=\u001b[0m \u001b[0mpd\u001b[0m\u001b[1;33m.\u001b[0m\u001b[0mread_csv\u001b[0m\u001b[1;33m(\u001b[0m\u001b[1;34m'tables/initial_tables/Futter.csv'\u001b[0m\u001b[1;33m,\u001b[0m \u001b[0msep\u001b[0m\u001b[1;33m=\u001b[0m\u001b[1;34m\";\"\u001b[0m\u001b[1;33m)\u001b[0m\u001b[1;33m\u001b[0m\u001b[1;33m\u001b[0m\u001b[0m\n\u001b[0m\u001b[0;32m     23\u001b[0m \u001b[0mcustomer\u001b[0m \u001b[1;33m=\u001b[0m \u001b[0mpd\u001b[0m\u001b[1;33m.\u001b[0m\u001b[0mread_csv\u001b[0m\u001b[1;33m(\u001b[0m\u001b[1;34m'tables/initial_tables/Kunden.csv'\u001b[0m\u001b[1;33m,\u001b[0m \u001b[0msep\u001b[0m\u001b[1;33m=\u001b[0m\u001b[1;34m\";\"\u001b[0m\u001b[1;33m)\u001b[0m\u001b[1;33m\u001b[0m\u001b[1;33m\u001b[0m\u001b[0m\n\u001b[0;32m     24\u001b[0m \u001b[0manimals\u001b[0m \u001b[1;33m=\u001b[0m \u001b[0mpd\u001b[0m\u001b[1;33m.\u001b[0m\u001b[0mread_csv\u001b[0m\u001b[1;33m(\u001b[0m\u001b[1;34m'tables/initial_tables/Tiere.csv'\u001b[0m\u001b[1;33m,\u001b[0m \u001b[0msep\u001b[0m\u001b[1;33m=\u001b[0m\u001b[1;34m\";\"\u001b[0m\u001b[1;33m)\u001b[0m\u001b[1;33m\u001b[0m\u001b[1;33m\u001b[0m\u001b[0m\n",
      "\u001b[1;32mC:\\opt\\WPy64-3890\\python-3.8.9.amd64\\lib\\site-packages\\pandas\\io\\parsers.py\u001b[0m in \u001b[0;36mread_csv\u001b[1;34m(filepath_or_buffer, sep, delimiter, header, names, index_col, usecols, squeeze, prefix, mangle_dupe_cols, dtype, engine, converters, true_values, false_values, skipinitialspace, skiprows, skipfooter, nrows, na_values, keep_default_na, na_filter, verbose, skip_blank_lines, parse_dates, infer_datetime_format, keep_date_col, date_parser, dayfirst, cache_dates, iterator, chunksize, compression, thousands, decimal, lineterminator, quotechar, quoting, doublequote, escapechar, comment, encoding, dialect, error_bad_lines, warn_bad_lines, delim_whitespace, low_memory, memory_map, float_precision, storage_options)\u001b[0m\n\u001b[0;32m    608\u001b[0m     \u001b[0mkwds\u001b[0m\u001b[1;33m.\u001b[0m\u001b[0mupdate\u001b[0m\u001b[1;33m(\u001b[0m\u001b[0mkwds_defaults\u001b[0m\u001b[1;33m)\u001b[0m\u001b[1;33m\u001b[0m\u001b[1;33m\u001b[0m\u001b[0m\n\u001b[0;32m    609\u001b[0m \u001b[1;33m\u001b[0m\u001b[0m\n\u001b[1;32m--> 610\u001b[1;33m     \u001b[1;32mreturn\u001b[0m \u001b[0m_read\u001b[0m\u001b[1;33m(\u001b[0m\u001b[0mfilepath_or_buffer\u001b[0m\u001b[1;33m,\u001b[0m \u001b[0mkwds\u001b[0m\u001b[1;33m)\u001b[0m\u001b[1;33m\u001b[0m\u001b[1;33m\u001b[0m\u001b[0m\n\u001b[0m\u001b[0;32m    611\u001b[0m \u001b[1;33m\u001b[0m\u001b[0m\n\u001b[0;32m    612\u001b[0m \u001b[1;33m\u001b[0m\u001b[0m\n",
      "\u001b[1;32mC:\\opt\\WPy64-3890\\python-3.8.9.amd64\\lib\\site-packages\\pandas\\io\\parsers.py\u001b[0m in \u001b[0;36m_read\u001b[1;34m(filepath_or_buffer, kwds)\u001b[0m\n\u001b[0;32m    460\u001b[0m \u001b[1;33m\u001b[0m\u001b[0m\n\u001b[0;32m    461\u001b[0m     \u001b[1;31m# Create the parser.\u001b[0m\u001b[1;33m\u001b[0m\u001b[1;33m\u001b[0m\u001b[1;33m\u001b[0m\u001b[0m\n\u001b[1;32m--> 462\u001b[1;33m     \u001b[0mparser\u001b[0m \u001b[1;33m=\u001b[0m \u001b[0mTextFileReader\u001b[0m\u001b[1;33m(\u001b[0m\u001b[0mfilepath_or_buffer\u001b[0m\u001b[1;33m,\u001b[0m \u001b[1;33m**\u001b[0m\u001b[0mkwds\u001b[0m\u001b[1;33m)\u001b[0m\u001b[1;33m\u001b[0m\u001b[1;33m\u001b[0m\u001b[0m\n\u001b[0m\u001b[0;32m    463\u001b[0m \u001b[1;33m\u001b[0m\u001b[0m\n\u001b[0;32m    464\u001b[0m     \u001b[1;32mif\u001b[0m \u001b[0mchunksize\u001b[0m \u001b[1;32mor\u001b[0m \u001b[0miterator\u001b[0m\u001b[1;33m:\u001b[0m\u001b[1;33m\u001b[0m\u001b[1;33m\u001b[0m\u001b[0m\n",
      "\u001b[1;32mC:\\opt\\WPy64-3890\\python-3.8.9.amd64\\lib\\site-packages\\pandas\\io\\parsers.py\u001b[0m in \u001b[0;36m__init__\u001b[1;34m(self, f, engine, **kwds)\u001b[0m\n\u001b[0;32m    817\u001b[0m             \u001b[0mself\u001b[0m\u001b[1;33m.\u001b[0m\u001b[0moptions\u001b[0m\u001b[1;33m[\u001b[0m\u001b[1;34m\"has_index_names\"\u001b[0m\u001b[1;33m]\u001b[0m \u001b[1;33m=\u001b[0m \u001b[0mkwds\u001b[0m\u001b[1;33m[\u001b[0m\u001b[1;34m\"has_index_names\"\u001b[0m\u001b[1;33m]\u001b[0m\u001b[1;33m\u001b[0m\u001b[1;33m\u001b[0m\u001b[0m\n\u001b[0;32m    818\u001b[0m \u001b[1;33m\u001b[0m\u001b[0m\n\u001b[1;32m--> 819\u001b[1;33m         \u001b[0mself\u001b[0m\u001b[1;33m.\u001b[0m\u001b[0m_engine\u001b[0m \u001b[1;33m=\u001b[0m \u001b[0mself\u001b[0m\u001b[1;33m.\u001b[0m\u001b[0m_make_engine\u001b[0m\u001b[1;33m(\u001b[0m\u001b[0mself\u001b[0m\u001b[1;33m.\u001b[0m\u001b[0mengine\u001b[0m\u001b[1;33m)\u001b[0m\u001b[1;33m\u001b[0m\u001b[1;33m\u001b[0m\u001b[0m\n\u001b[0m\u001b[0;32m    820\u001b[0m \u001b[1;33m\u001b[0m\u001b[0m\n\u001b[0;32m    821\u001b[0m     \u001b[1;32mdef\u001b[0m \u001b[0mclose\u001b[0m\u001b[1;33m(\u001b[0m\u001b[0mself\u001b[0m\u001b[1;33m)\u001b[0m\u001b[1;33m:\u001b[0m\u001b[1;33m\u001b[0m\u001b[1;33m\u001b[0m\u001b[0m\n",
      "\u001b[1;32mC:\\opt\\WPy64-3890\\python-3.8.9.amd64\\lib\\site-packages\\pandas\\io\\parsers.py\u001b[0m in \u001b[0;36m_make_engine\u001b[1;34m(self, engine)\u001b[0m\n\u001b[0;32m   1048\u001b[0m             )\n\u001b[0;32m   1049\u001b[0m         \u001b[1;31m# error: Too many arguments for \"ParserBase\"\u001b[0m\u001b[1;33m\u001b[0m\u001b[1;33m\u001b[0m\u001b[1;33m\u001b[0m\u001b[0m\n\u001b[1;32m-> 1050\u001b[1;33m         \u001b[1;32mreturn\u001b[0m \u001b[0mmapping\u001b[0m\u001b[1;33m[\u001b[0m\u001b[0mengine\u001b[0m\u001b[1;33m]\u001b[0m\u001b[1;33m(\u001b[0m\u001b[0mself\u001b[0m\u001b[1;33m.\u001b[0m\u001b[0mf\u001b[0m\u001b[1;33m,\u001b[0m \u001b[1;33m**\u001b[0m\u001b[0mself\u001b[0m\u001b[1;33m.\u001b[0m\u001b[0moptions\u001b[0m\u001b[1;33m)\u001b[0m  \u001b[1;31m# type: ignore[call-arg]\u001b[0m\u001b[1;33m\u001b[0m\u001b[1;33m\u001b[0m\u001b[0m\n\u001b[0m\u001b[0;32m   1051\u001b[0m \u001b[1;33m\u001b[0m\u001b[0m\n\u001b[0;32m   1052\u001b[0m     \u001b[1;32mdef\u001b[0m \u001b[0m_failover_to_python\u001b[0m\u001b[1;33m(\u001b[0m\u001b[0mself\u001b[0m\u001b[1;33m)\u001b[0m\u001b[1;33m:\u001b[0m\u001b[1;33m\u001b[0m\u001b[1;33m\u001b[0m\u001b[0m\n",
      "\u001b[1;32mC:\\opt\\WPy64-3890\\python-3.8.9.amd64\\lib\\site-packages\\pandas\\io\\parsers.py\u001b[0m in \u001b[0;36m__init__\u001b[1;34m(self, src, **kwds)\u001b[0m\n\u001b[0;32m   1865\u001b[0m \u001b[1;33m\u001b[0m\u001b[0m\n\u001b[0;32m   1866\u001b[0m         \u001b[1;31m# open handles\u001b[0m\u001b[1;33m\u001b[0m\u001b[1;33m\u001b[0m\u001b[1;33m\u001b[0m\u001b[0m\n\u001b[1;32m-> 1867\u001b[1;33m         \u001b[0mself\u001b[0m\u001b[1;33m.\u001b[0m\u001b[0m_open_handles\u001b[0m\u001b[1;33m(\u001b[0m\u001b[0msrc\u001b[0m\u001b[1;33m,\u001b[0m \u001b[0mkwds\u001b[0m\u001b[1;33m)\u001b[0m\u001b[1;33m\u001b[0m\u001b[1;33m\u001b[0m\u001b[0m\n\u001b[0m\u001b[0;32m   1868\u001b[0m         \u001b[1;32massert\u001b[0m \u001b[0mself\u001b[0m\u001b[1;33m.\u001b[0m\u001b[0mhandles\u001b[0m \u001b[1;32mis\u001b[0m \u001b[1;32mnot\u001b[0m \u001b[1;32mNone\u001b[0m\u001b[1;33m\u001b[0m\u001b[1;33m\u001b[0m\u001b[0m\n\u001b[0;32m   1869\u001b[0m         \u001b[1;32mfor\u001b[0m \u001b[0mkey\u001b[0m \u001b[1;32min\u001b[0m \u001b[1;33m(\u001b[0m\u001b[1;34m\"storage_options\"\u001b[0m\u001b[1;33m,\u001b[0m \u001b[1;34m\"encoding\"\u001b[0m\u001b[1;33m,\u001b[0m \u001b[1;34m\"memory_map\"\u001b[0m\u001b[1;33m,\u001b[0m \u001b[1;34m\"compression\"\u001b[0m\u001b[1;33m)\u001b[0m\u001b[1;33m:\u001b[0m\u001b[1;33m\u001b[0m\u001b[1;33m\u001b[0m\u001b[0m\n",
      "\u001b[1;32mC:\\opt\\WPy64-3890\\python-3.8.9.amd64\\lib\\site-packages\\pandas\\io\\parsers.py\u001b[0m in \u001b[0;36m_open_handles\u001b[1;34m(self, src, kwds)\u001b[0m\n\u001b[0;32m   1360\u001b[0m         \u001b[0mLet\u001b[0m \u001b[0mthe\u001b[0m \u001b[0mreaders\u001b[0m \u001b[0mopen\u001b[0m \u001b[0mIOHanldes\u001b[0m \u001b[0mafter\u001b[0m \u001b[0mthey\u001b[0m \u001b[0mare\u001b[0m \u001b[0mdone\u001b[0m \u001b[1;32mwith\u001b[0m \u001b[0mtheir\u001b[0m \u001b[0mpotential\u001b[0m \u001b[0mraises\u001b[0m\u001b[1;33m.\u001b[0m\u001b[1;33m\u001b[0m\u001b[1;33m\u001b[0m\u001b[0m\n\u001b[0;32m   1361\u001b[0m         \"\"\"\n\u001b[1;32m-> 1362\u001b[1;33m         self.handles = get_handle(\n\u001b[0m\u001b[0;32m   1363\u001b[0m             \u001b[0msrc\u001b[0m\u001b[1;33m,\u001b[0m\u001b[1;33m\u001b[0m\u001b[1;33m\u001b[0m\u001b[0m\n\u001b[0;32m   1364\u001b[0m             \u001b[1;34m\"r\"\u001b[0m\u001b[1;33m,\u001b[0m\u001b[1;33m\u001b[0m\u001b[1;33m\u001b[0m\u001b[0m\n",
      "\u001b[1;32mC:\\opt\\WPy64-3890\\python-3.8.9.amd64\\lib\\site-packages\\pandas\\io\\common.py\u001b[0m in \u001b[0;36mget_handle\u001b[1;34m(path_or_buf, mode, encoding, compression, memory_map, is_text, errors, storage_options)\u001b[0m\n\u001b[0;32m    640\u001b[0m                 \u001b[0merrors\u001b[0m \u001b[1;33m=\u001b[0m \u001b[1;34m\"replace\"\u001b[0m\u001b[1;33m\u001b[0m\u001b[1;33m\u001b[0m\u001b[0m\n\u001b[0;32m    641\u001b[0m             \u001b[1;31m# Encoding\u001b[0m\u001b[1;33m\u001b[0m\u001b[1;33m\u001b[0m\u001b[1;33m\u001b[0m\u001b[0m\n\u001b[1;32m--> 642\u001b[1;33m             handle = open(\n\u001b[0m\u001b[0;32m    643\u001b[0m                 \u001b[0mhandle\u001b[0m\u001b[1;33m,\u001b[0m\u001b[1;33m\u001b[0m\u001b[1;33m\u001b[0m\u001b[0m\n\u001b[0;32m    644\u001b[0m                 \u001b[0mioargs\u001b[0m\u001b[1;33m.\u001b[0m\u001b[0mmode\u001b[0m\u001b[1;33m,\u001b[0m\u001b[1;33m\u001b[0m\u001b[1;33m\u001b[0m\u001b[0m\n",
      "\u001b[1;31mFileNotFoundError\u001b[0m: [Errno 2] No such file or directory: 'tables/initial_tables/Futter.csv'"
     ]
    }
   ],
   "source": [
    "# Connect to Database\n",
    "conn = sqlite3.connect('sqlite_workshop.db')\n",
    "cursor = conn.cursor()\n",
    "print(\"Opened database successfully\");\n",
    "\n",
    "# Delete table if exists \n",
    "cursor.execute(\"DROP TABLE IF EXISTS food\")\n",
    "cursor.execute(\"DROP TABLE IF EXISTS orders\")\n",
    "cursor.execute(\"DROP TABLE IF EXISTS animals\")\n",
    "cursor.execute(\"DROP TABLE IF EXISTS customer\")\n",
    "cursor.execute(\"DROP TABLE IF EXISTS customer_buys_food\")\n",
    "cursor.execute(\"DROP TABLE IF EXISTS employee\")\n",
    "cursor.execute(\"DROP TABLE IF EXISTS sales\")\n",
    "cursor.execute(\"DROP TABLE IF EXISTS food_new\")\n",
    "cursor.execute(\"DROP TABLE IF EXISTS customer_new\")\n",
    "cursor.execute(\"DROP TABLE IF EXISTS employee_new\")\n",
    "cursor.execute(\"DROP TABLE IF EXISTS Liga\")\n",
    "cursor.execute(\"DROP TABLE IF EXISTS Verein\")\n",
    "cursor.execute(\"DROP TABLE IF EXISTS Spieler\")\n",
    "\n",
    "# Daten einlesen\n",
    "food = pd.read_csv('tables/initial_tables/Futter.csv', sep=\";\")\n",
    "customer = pd.read_csv('tables/initial_tables/Kunden.csv', sep=\";\")\n",
    "animals = pd.read_csv('tables/initial_tables/Tiere.csv', sep=\";\")\n",
    "orders = pd.read_csv('tables/initial_tables/Order.csv', sep=\";\")\n",
    "employee = pd.read_csv('tables/initial_tables/Verkaeufer.csv', sep=\";\")\n",
    "customer_buys_food = pd.read_csv('tables/initial_tables/Customer_buys_Food.csv', sep=\";\")\n",
    "\n",
    "\n",
    "# Tabellen erstellen\n",
    "cursor.execute('''\n",
    "\t\tCREATE TABLE IF NOT EXISTS customer (\n",
    "\t\t\tcustomer_ID int primary key,\n",
    "            name nvarchar(50),\n",
    "\t\t\tpostal_code nvarchar(5),\n",
    "\t\t\tcity nvarchar(50)\n",
    "\t\t\t)\n",
    "               ''')\n",
    "\n",
    "cursor.execute('''\n",
    "\t\tCREATE TABLE IF NOT EXISTS employee (\n",
    "\t\t\temployee_ID int primary key,\n",
    "            name nvarchar(50),\n",
    "            gender nvarchar(1),\n",
    "\t\t\twage int\n",
    "\t\t\t)\n",
    "               ''')\n",
    "\n",
    "cursor.execute('''\n",
    "\t\tCREATE TABLE IF NOT EXISTS food (\n",
    "\t\t\tfood_ID int primary key,\n",
    "            name nvarchar(50),\n",
    "\t\t\tprice_per_kg float,\n",
    "            producer nvarchar(50),\n",
    "            origin nvarchar(50)\n",
    "\t\t\t)\n",
    "               ''')\n",
    "\n",
    "cursor.execute('''\n",
    "\t\tCREATE TABLE IF NOT EXISTS animals (\n",
    "            name nvarchar(50) primary key,\n",
    "\t\t\tfood int,\n",
    "\t\t\tforeign key(food) references food(food_ID)\n",
    "\t\t\t)\n",
    "               ''') \n",
    "cursor.execute('''\n",
    "\t\tCREATE TABLE IF NOT EXISTS orders (\n",
    "            order_Nr int primary key,\n",
    "            date Date,\n",
    "            transact int\n",
    "\t\t\t)\n",
    "               ''')\n",
    "\n",
    "\n",
    "cursor.execute('''\n",
    "\t\tCREATE TABLE IF NOT EXISTS customer_buys_food (\n",
    "            C_ID int,\n",
    "            F_ID int,\n",
    "\t\t\tamount int,\n",
    "            O_ID int,\n",
    "            E_ID int,\n",
    "            foreign key(C_ID) references customer(customer_ID)\n",
    "\t\t\tforeign key(F_ID) references food(food_ID)\n",
    "            foreign key(O_ID) references orders(order_Nr)\n",
    "            foreign key(E_ID) references employee(employee_ID)\n",
    "\t\t\t)\n",
    "               ''') \n",
    "\n",
    "# Insert Dataframe in Table\n",
    "customer.to_sql('customer', conn, if_exists='append', index=False)\n",
    "animals.to_sql('animals', conn, if_exists='append', index=False)\n",
    "food.to_sql('food', conn, if_exists='append', index=False)\n",
    "orders.to_sql('orders', conn, if_exists='append', index=False)\n",
    "employee.to_sql('employee', conn, if_exists='append', index=False)\n",
    "customer_buys_food.to_sql('customer_buys_food', conn, if_exists='append', index=False)"
   ]
  },
  {
   "cell_type": "markdown",
   "id": "3ccc685e",
   "metadata": {},
   "source": [
    "### Hiermit werden die Tabelleninhalte angezeigt"
   ]
  },
  {
   "cell_type": "code",
   "execution_count": null,
   "id": "ce33fa4b",
   "metadata": {},
   "outputs": [],
   "source": [
    "print(\"Tabelle customer\")\n",
    "print(pd.read_sql_query(\"SELECT * FROM customer\", conn))\n",
    "print(\"--------------------------------------------------------\")\n",
    "print(\"Tabelle food\")\n",
    "print(pd.read_sql_query(\"SELECT * FROM food\", conn))\n",
    "print(\"--------------------------------------------------------\")\n",
    "print(\"Tabelle animals\")\n",
    "print(pd.read_sql_query(\"SELECT * FROM animals\", conn))\n",
    "print(\"--------------------------------------------------------\")\n",
    "print(\"Tabelle orders\")\n",
    "print(pd.read_sql_query(\"SELECT * FROM orders\", conn))\n",
    "print(\"--------------------------------------------------------\")\n",
    "print(\"Tabelle employee\")\n",
    "print(pd.read_sql_query(\"SELECT * FROM employee\", conn))\n",
    "print(\"--------------------------------------------------------\")\n",
    "print(\"Tabellen customer_buys_food\")\n",
    "print(pd.read_sql_query(\"SELECT * FROM customer_buys_food\", conn))\n",
    "print(\"--------------------------------------------------------\")"
   ]
  },
  {
   "cell_type": "markdown",
   "id": "3e74a470",
   "metadata": {},
   "source": [
    "# Aufgabe zu Teil 2"
   ]
  },
  {
   "cell_type": "markdown",
   "id": "6adc7a13",
   "metadata": {},
   "source": [
    "## ER-Diagramm"
   ]
  },
  {
   "cell_type": "markdown",
   "id": "e50dab5b",
   "metadata": {},
   "source": [
    "[<img src=\"https://raw.githubusercontent.com/Fuenfgeld/2022TeamBDataEngineeringBC/main/Presentation/Bilder/nur_tabellen.draw_io.drawio_3.png\">](https://raw.githubusercontent.com/Fuenfgeld/2022TeamBDataEngineeringBC/main/Presentation/Bilder/nur_tabellen.draw_io.drawio_3.png)"
   ]
  },
  {
   "cell_type": "markdown",
   "id": "3b0edaa2",
   "metadata": {},
   "source": [
    "## SUBQUERIES"
   ]
  },
  {
   "cell_type": "markdown",
   "id": "c7e8a553",
   "metadata": {},
   "source": [
    "#### Beispiel: Welche Kunden (C_ID) haben Futter gekauft, das in China hergestellt wurde?"
   ]
  },
  {
   "cell_type": "code",
   "execution_count": null,
   "id": "0d1b7121",
   "metadata": {},
   "outputs": [],
   "source": [
    "print(pd.read_sql_query('''\n",
    "    SELECT C_ID \n",
    "    FROM customer_buys_food\n",
    "    WHERE F_ID =\n",
    "       (SELECT food_ID FROM food WHERE origin == 'China')\n",
    "    ''', conn))"
   ]
  },
  {
   "cell_type": "markdown",
   "id": "b172c15d",
   "metadata": {},
   "source": [
    "### Aufgabe 2.1: Welche Bestellungen (O_ID) wurden von den Verkäufern abgewickelt, die mehr als 2000 verdienen?"
   ]
  },
  {
   "cell_type": "code",
   "execution_count": null,
   "id": "0aeb34c8",
   "metadata": {},
   "outputs": [],
   "source": [
    "# Ersetze die Fragezeichen \n",
    "print(pd.read_sql_query('''\n",
    "     SELECT ???? \n",
    "     FROM ????\n",
    "     WHERE ???? ??\n",
    "       (SELECT ???? FROM ???? WHERE ???? > 2000)\n",
    "     ''', conn))"
   ]
  },
  {
   "cell_type": "markdown",
   "id": "185ff4a0",
   "metadata": {},
   "source": [
    "### Aufgabe 2.2: Welche Kunden (name) haben Futter von weiblichen Verkäufern verkauft bekommen?"
   ]
  },
  {
   "cell_type": "code",
   "execution_count": null,
   "id": "4896acbc",
   "metadata": {},
   "outputs": [],
   "source": [
    "# Schreibe die Abfrage an die Stelle der Fragezeichen\n",
    "# Tipp: Es müssen zwei ineinander verschachtelte Subqueries verwendet werden.\n",
    "print(pd.read_sql_query('''\n",
    "    \n",
    "    ????\n",
    "        )\n",
    "    ''', conn))"
   ]
  },
  {
   "cell_type": "markdown",
   "id": "33bfc026",
   "metadata": {},
   "source": [
    "# Zu den Lösungen"
   ]
  },
  {
   "cell_type": "markdown",
   "id": "7c28bf05",
   "metadata": {},
   "source": [
    "[![Open in Colab](https://colab.research.google.com/assets/colab-badge.svg)](https://colab.research.google.com/github/Fuenfgeld/2022TeamBDataEngineeringBC/blob/main/Uebungen/Loesungen/Loesungen%20zu%20Teil%202.ipynb)"
   ]
  },
  {
   "cell_type": "code",
   "execution_count": null,
   "id": "b6a30927",
   "metadata": {},
   "outputs": [],
   "source": []
  }
 ],
 "metadata": {
  "kernelspec": {
   "display_name": "Python 3",
   "language": "python",
   "name": "python3"
  },
  "language_info": {
   "codemirror_mode": {
    "name": "ipython",
    "version": 3
   },
   "file_extension": ".py",
   "mimetype": "text/x-python",
   "name": "python",
   "nbconvert_exporter": "python",
   "pygments_lexer": "ipython3",
   "version": "3.8.9"
  }
 },
 "nbformat": 4,
 "nbformat_minor": 5
}
