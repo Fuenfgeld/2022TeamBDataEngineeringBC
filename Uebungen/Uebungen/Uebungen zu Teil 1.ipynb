{
 "cells": [
  {
   "cell_type": "markdown",
   "id": "a226cad5",
   "metadata": {},
   "source": [
    "[![Open in Colab](https://colab.research.google.com/assets/colab-badge.svg)](https://colab.research.google.com/github/Fuenfgeld/2022TeamBDataEngineeringBC/blob/main/Uebungen/Uebungen/Uebungen%20zu%20Teil%201.ipynb)"
   ]
  },
  {
   "cell_type": "markdown",
   "id": "9cb2a19a",
   "metadata": {},
   "source": [
    "# Übungen zu Teil 1"
   ]
  },
  {
   "cell_type": "markdown",
   "id": "1700f32c",
   "metadata": {},
   "source": [
    "## Bitte führen Sie die nächsten beiden Codeabschnitte aus"
   ]
  },
  {
   "cell_type": "markdown",
   "id": "9dc7d972",
   "metadata": {},
   "source": [
    "### Die Lösungen befinden sich im Ordner Uebungen/Loesungen und sind am Ende der Übung verlinkt"
   ]
  },
  {
   "cell_type": "code",
   "execution_count": null,
   "id": "deee0a2f",
   "metadata": {},
   "outputs": [],
   "source": [
    "#Load Libraries\n",
    "import sqlite3\n",
    "import pandas as pd\n",
    "\n",
    "# Load GitHub repo\n",
    "%cd /content/\n",
    "%rm -r ./2022TeamBDataEngineeringBC\n",
    "!git clone https://github.com/Fuenfgeld/2022TeamBDataEngineeringBC.git\n",
    "%cd ./2022TeamBDataEngineeringBC/"
   ]
  },
  {
   "cell_type": "code",
   "execution_count": null,
   "id": "899bef62",
   "metadata": {},
   "outputs": [],
   "source": [
    "# Connect to Database\n",
    "conn = sqlite3.connect('sqlite_workshop.db')\n",
    "cursor = conn.cursor()\n",
    "print(\"Opened database successfully\");\n",
    "\n",
    "# Delete table if exists \n",
    "cursor.execute(\"DROP TABLE IF EXISTS food\")\n",
    "cursor.execute(\"DROP TABLE IF EXISTS orders\")\n",
    "cursor.execute(\"DROP TABLE IF EXISTS animals\")\n",
    "cursor.execute(\"DROP TABLE IF EXISTS customer\")\n",
    "cursor.execute(\"DROP TABLE IF EXISTS customer_buys_food\")\n",
    "cursor.execute(\"DROP TABLE IF EXISTS employee\")\n",
    "cursor.execute(\"DROP TABLE IF EXISTS sales\")\n",
    "cursor.execute(\"DROP TABLE IF EXISTS food_new\")\n",
    "cursor.execute(\"DROP TABLE IF EXISTS customer_new\")\n",
    "cursor.execute(\"DROP TABLE IF EXISTS employee_new\")\n",
    "cursor.execute(\"DROP TABLE IF EXISTS Liga\")\n",
    "cursor.execute(\"DROP TABLE IF EXISTS Verein\")\n",
    "cursor.execute(\"DROP TABLE IF EXISTS Spieler\")\n",
    "\n",
    "# Create tables\n",
    "cursor.execute('''\n",
    "\t\tCREATE TABLE IF NOT EXISTS Liga (\n",
    "            L_name nvarchar(80) primary key,\n",
    "            Anzahl_Vereine int\n",
    "\t\t\t)\n",
    "               ''')\n",
    "\n",
    "cursor.execute('''\n",
    "\t\tCREATE TABLE IF NOT EXISTS Verein (\n",
    "\t\t\tV_name nvarchar(80) primary key,\n",
    "            Liga nvarchar(80),\n",
    "            Anzahl_Meisterschaften int,\n",
    "            foreign key(Liga) references Liga(L_name)\n",
    "\n",
    "\t\t\t)\n",
    "               ''')\n",
    "\n",
    "cursor.execute('''\n",
    "\t\tCREATE TABLE IF NOT EXISTS Spieler (\n",
    "\t\t\tS_name nvarchar(80) primary key,\n",
    "            Verein nvarchar(80),\n",
    "            foreign key(Verein) references Verein(V_name)\n",
    "\n",
    "\t\t\t)\n",
    "               ''')\n",
    "\n",
    "# fill tables for Part 1\n",
    "cursor.execute('''\n",
    "\t\tINSERT INTO Liga (L_name,Anzahl_Vereine)\n",
    "            VALUES\n",
    "            (\"1. Bundesliga\", 18),\n",
    "            (\"2. Bundesliga\", 18), \n",
    "            (\"3. Bundesliga\",20)\n",
    "\n",
    "\t\t\t\n",
    "               ''')\n",
    "\n",
    "cursor.execute('''\n",
    "\t\tINSERT INTO Verein (V_name, Liga, Anzahl_Meisterschaften)\n",
    "            VALUES\n",
    "            (\"1. FC Bayern Muenchen\", \"1. Bundesliga\", 32),\n",
    "            (\"1. FC Kaiserslautern\", \"3. Bundesliga\", 4), \n",
    "            ( \"SV Waldhof Mannheim\", \"3. Bundesliga\", 0)\n",
    "\n",
    "\t\t\t\n",
    "               ''')\n",
    "cursor.execute('''\n",
    "\t\tINSERT INTO Spieler (S_name, Verein)\n",
    "            VALUES\n",
    "            (\"Manuel Neuer\",\"1. FC Bayern Muenchen\"),\n",
    "            (\"Matheo Raab\", \"1. FC Kaiserslautern\"), \n",
    "            (\"Timo Koenigsmann\", \"SV Waldhof Mannheim\")\n",
    "\n",
    "\t\t\t\n",
    "               ''')"
   ]
  },
  {
   "cell_type": "markdown",
   "id": "3e74a470",
   "metadata": {},
   "source": [
    "# Aufgabe zu Teil 1"
   ]
  },
  {
   "cell_type": "markdown",
   "id": "5935dba1",
   "metadata": {},
   "source": [
    "### Beispielcode zum herausfinden eines Primary Keys"
   ]
  },
  {
   "cell_type": "markdown",
   "id": "f4681365",
   "metadata": {},
   "source": [
    "print(pd.read_sql_query(\"PRAGMA table_info('TABELLENNAME')\", conn))"
   ]
  },
  {
   "cell_type": "markdown",
   "id": "ec14510a",
   "metadata": {},
   "source": [
    "### Beispielcode zum herausfinden der Foreign Keys"
   ]
  },
  {
   "cell_type": "markdown",
   "id": "2e48a3bb",
   "metadata": {},
   "source": [
    "print(pd.read_sql_query(\"PRAGMA foreign_key_list(\"TABELLENNAME\")\", conn))"
   ]
  },
  {
   "cell_type": "markdown",
   "id": "ac3449eb",
   "metadata": {},
   "source": [
    "### Die Elemente eines ER-Diagramms"
   ]
  },
  {
   "cell_type": "markdown",
   "id": "b221835a",
   "metadata": {},
   "source": [
    "[<img src=\"https://raw.githubusercontent.com/Fuenfgeld/2022TeamBDataEngineeringBC/main/Presentation/Bilder/er_basics.png\">](https://raw.githubusercontent.com/Fuenfgeld/2022TeamBDataEngineeringBC/main/Presentation/Bilder/er_basics.png)"
   ]
  },
  {
   "cell_type": "markdown",
   "id": "6adc7a13",
   "metadata": {},
   "source": [
    "## 1.1 Ersetze die Fragezeichen, um eine gültige PRAGMA Funktion zu nutzen und Informationen über die Datenbankstruktur zu gewinnen"
   ]
  },
  {
   "cell_type": "markdown",
   "id": "3b0edaa2",
   "metadata": {},
   "source": [
    "### Herausfinden der Tabellennamen"
   ]
  },
  {
   "cell_type": "code",
   "execution_count": null,
   "id": "cbd6023d",
   "metadata": {},
   "outputs": [],
   "source": [
    "print(pd.read_sql_query(\"SELECT name FROM sqlite_master WHERE type='table';\", conn))"
   ]
  },
  {
   "cell_type": "markdown",
   "id": "b172c15d",
   "metadata": {},
   "source": [
    "### Welche Primary Keys gibt es?"
   ]
  },
  {
   "cell_type": "code",
   "execution_count": null,
   "id": "0aeb34c8",
   "metadata": {},
   "outputs": [],
   "source": [
    "print(pd.read_sql_query(\"???('???')\", conn))\n",
    "print(\"----------------------------------------\")\n",
    "print(pd.read_sql_query(\"???('???')\", conn))\n",
    "print(\"----------------------------------------\")\n",
    "print(pd.read_sql_query(\"???('???')\", conn))"
   ]
  },
  {
   "cell_type": "markdown",
   "id": "185ff4a0",
   "metadata": {},
   "source": [
    "### Welche Foreign Keys gibt es?"
   ]
  },
  {
   "cell_type": "code",
   "execution_count": null,
   "id": "4896acbc",
   "metadata": {},
   "outputs": [],
   "source": [
    "# Foreign keys herausfinden\n",
    "print(pd.read_sql_query(\"PRAGMA ???('???')\", conn))\n",
    "print(\"----------------------------------------\")\n",
    "print(pd.read_sql_query(\"PRAGMA ???('???')\", conn))\n",
    "print(\"----------------------------------------\")\n",
    "print(pd.read_sql_query(\"PRAGMA ???('???')\", conn))"
   ]
  },
  {
   "cell_type": "markdown",
   "id": "03072cec",
   "metadata": {},
   "source": [
    "### Ausgabe der kompletten Tabelleninhalte"
   ]
  },
  {
   "cell_type": "code",
   "execution_count": null,
   "id": "46273a6c",
   "metadata": {},
   "outputs": [],
   "source": [
    "print(pd.read_sql_query(\"SELECT * FROM Liga\", conn))\n",
    "print(\"----------------------------------------\")\n",
    "print(pd.read_sql_query(\"SELECT * FROM Verein\", conn))\n",
    "print(\"----------------------------------------\")\n",
    "print(pd.read_sql_query(\"SELECT * FROM Spieler\", conn)) "
   ]
  },
  {
   "cell_type": "markdown",
   "id": "1f21f4d4",
   "metadata": {},
   "source": [
    "## 1.2 Zeichne mit den gewonnen Informationen ein ER-Diagramm"
   ]
  },
  {
   "cell_type": "markdown",
   "id": "33bfc026",
   "metadata": {},
   "source": [
    "# Zu den Lösungen"
   ]
  },
  {
   "cell_type": "markdown",
   "id": "7c28bf05",
   "metadata": {},
   "source": [
    "[![Open in Colab](https://colab.research.google.com/assets/colab-badge.svg)](https://colab.research.google.com/github/Fuenfgeld/2022TeamBDataEngineeringBC/blob/main/Uebungen/Loesungen/Loesungen%20%20zu%20Teil%201.ipynb)"
   ]
  },
  {
   "cell_type": "code",
   "execution_count": null,
   "id": "1ddc9450",
   "metadata": {},
   "outputs": [],
   "source": []
  }
 ],
 "metadata": {
  "kernelspec": {
   "display_name": "Python 3 (ipykernel)",
   "language": "python",
   "name": "python3"
  },
  "language_info": {
   "codemirror_mode": {
    "name": "ipython",
    "version": 3
   },
   "file_extension": ".py",
   "mimetype": "text/x-python",
   "name": "python",
   "nbconvert_exporter": "python",
   "pygments_lexer": "ipython3",
   "version": "3.8.9"
  }
 },
 "nbformat": 4,
 "nbformat_minor": 5
}
