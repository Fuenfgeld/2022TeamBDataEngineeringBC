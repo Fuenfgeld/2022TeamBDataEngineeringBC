{
 "cells": [
  {
   "cell_type": "markdown",
   "id": "a226cad5",
   "metadata": {},
   "source": [
    "[![Open in Colab](https://colab.research.google.com/assets/colab-badge.svg)](https://colab.research.google.com/github/Fuenfgeld/2022TeamBDataEngineeringBC/blob/main/Uebungen/Loesungen/Loesungen%20zu%20Teil%202.ipynb)"
   ]
  },
  {
   "cell_type": "markdown",
   "id": "9cb2a19a",
   "metadata": {},
   "source": [
    "# Lösungen zu Teil 2"
   ]
  },
  {
   "cell_type": "markdown",
   "id": "1700f32c",
   "metadata": {},
   "source": [
    "## Bitte führen Sie die nächsten beiden Codeabschnitte aus"
   ]
  },
  {
   "cell_type": "code",
   "execution_count": null,
   "id": "deee0a2f",
   "metadata": {},
   "outputs": [],
   "source": [
    "#Load Libraries\n",
    "import sqlite3\n",
    "import pandas as pd\n",
    "\n",
    "# Load GitHub repo\n",
    "%cd /content/\n",
    "%rm -r ./2022TeamBDataEngineeringBC\n",
    "!git clone https://github.com/Fuenfgeld/2022TeamBDataEngineeringBC.git\n",
    "%cd ./2022TeamBDataEngineeringBC/"
   ]
  },
  {
   "cell_type": "code",
   "execution_count": null,
   "id": "899bef62",
   "metadata": {},
   "outputs": [],
   "source": [
    "# Connect to Database\n",
    "conn = sqlite3.connect('sqlite_workshop.db')\n",
    "cursor = conn.cursor()\n",
    "print(\"Opened database successfully\");\n",
    "\n",
    "# Delete table if exists \n",
    "cursor.execute(\"DROP TABLE IF EXISTS food\")\n",
    "cursor.execute(\"DROP TABLE IF EXISTS orders\")\n",
    "cursor.execute(\"DROP TABLE IF EXISTS animals\")\n",
    "cursor.execute(\"DROP TABLE IF EXISTS customer\")\n",
    "cursor.execute(\"DROP TABLE IF EXISTS customer_buys_food\")\n",
    "cursor.execute(\"DROP TABLE IF EXISTS employee\")\n",
    "cursor.execute(\"DROP TABLE IF EXISTS sales\")\n",
    "cursor.execute(\"DROP TABLE IF EXISTS food_new\")\n",
    "cursor.execute(\"DROP TABLE IF EXISTS customer_new\")\n",
    "cursor.execute(\"DROP TABLE IF EXISTS employee_new\")\n",
    "cursor.execute(\"DROP TABLE IF EXISTS Liga\")\n",
    "cursor.execute(\"DROP TABLE IF EXISTS Verein\")\n",
    "cursor.execute(\"DROP TABLE IF EXISTS Spieler\")\n",
    "\n",
    "# Daten einlesen\n",
    "food = pd.read_csv('tables/initial_tables/Futter.csv', sep=\";\")\n",
    "customer = pd.read_csv('tables/initial_tables/Kunden.csv', sep=\";\")\n",
    "animals = pd.read_csv('tables/initial_tables/Tiere.csv', sep=\";\")\n",
    "orders = pd.read_csv('tables/initial_tables/Order.csv', sep=\";\")\n",
    "employee = pd.read_csv('tables/initial_tables/Verkaeufer.csv', sep=\";\")\n",
    "customer_buys_food = pd.read_csv('tables/initial_tables/Customer_buys_Food.csv', sep=\";\")\n",
    "\n",
    "\n",
    "# Tabellen erstellen\n",
    "cursor.execute('''\n",
    "\t\tCREATE TABLE IF NOT EXISTS customer (\n",
    "\t\t\tcustomer_ID int primary key,\n",
    "            name nvarchar(50),\n",
    "\t\t\tpostal_code nvarchar(5),\n",
    "\t\t\tcity nvarchar(50)\n",
    "\t\t\t)\n",
    "               ''')\n",
    "\n",
    "cursor.execute('''\n",
    "\t\tCREATE TABLE IF NOT EXISTS employee (\n",
    "\t\t\temployee_ID int primary key,\n",
    "            name nvarchar(50),\n",
    "            gender nvarchar(1),\n",
    "\t\t\twage int\n",
    "\t\t\t)\n",
    "               ''')\n",
    "\n",
    "cursor.execute('''\n",
    "\t\tCREATE TABLE IF NOT EXISTS food (\n",
    "\t\t\tfood_ID int primary key,\n",
    "            name nvarchar(50),\n",
    "\t\t\tprice_per_kg float,\n",
    "            producer nvarchar(50),\n",
    "            origin nvarchar(50)\n",
    "\t\t\t)\n",
    "               ''')\n",
    "\n",
    "cursor.execute('''\n",
    "\t\tCREATE TABLE IF NOT EXISTS animals (\n",
    "            name nvarchar(50) primary key,\n",
    "\t\t\tfood int,\n",
    "\t\t\tforeign key(food) references food(food_ID)\n",
    "\t\t\t)\n",
    "               ''') \n",
    "cursor.execute('''\n",
    "\t\tCREATE TABLE IF NOT EXISTS orders (\n",
    "            order_Nr int primary key,\n",
    "            date Date,\n",
    "            transact int\n",
    "\t\t\t)\n",
    "               ''')\n",
    "\n",
    "\n",
    "cursor.execute('''\n",
    "\t\tCREATE TABLE IF NOT EXISTS customer_buys_food (\n",
    "            C_ID int,\n",
    "            F_ID int,\n",
    "\t\t\tamount int,\n",
    "            O_ID int,\n",
    "            E_ID int,\n",
    "            foreign key(C_ID) references customer(customer_ID)\n",
    "\t\t\tforeign key(F_ID) references food(food_ID)\n",
    "            foreign key(O_ID) references orders(order_Nr)\n",
    "            foreign key(E_ID) references employee(employee_ID)\n",
    "\t\t\t)\n",
    "               ''') \n",
    "\n",
    "# Insert Dataframe in Table\n",
    "customer.to_sql('customer', conn, if_exists='append', index=False)\n",
    "animals.to_sql('animals', conn, if_exists='append', index=False)\n",
    "food.to_sql('food', conn, if_exists='append', index=False)\n",
    "orders.to_sql('orders', conn, if_exists='append', index=False)\n",
    "employee.to_sql('employee', conn, if_exists='append', index=False)\n",
    "customer_buys_food.to_sql('customer_buys_food', conn, if_exists='append', index=False)"
   ]
  },
  {
   "cell_type": "markdown",
   "id": "70e9433e",
   "metadata": {},
   "source": [
    "### Hiermit werden die Tabelleninhalte angezeigt"
   ]
  },
  {
   "cell_type": "code",
   "execution_count": null,
   "id": "17311cc3",
   "metadata": {},
   "outputs": [],
   "source": [
    "print(\"Tabelle customer\")\n",
    "print(pd.read_sql_query(\"SELECT * FROM customer\", conn))\n",
    "print(\"--------------------------------------------------------\")\n",
    "print(\"Tabelle food\")\n",
    "print(pd.read_sql_query(\"SELECT * FROM food\", conn))\n",
    "print(\"--------------------------------------------------------\")\n",
    "print(\"Tabelle animals\")\n",
    "print(pd.read_sql_query(\"SELECT * FROM animals\", conn))\n",
    "print(\"--------------------------------------------------------\")\n",
    "print(\"Tabelle orders\")\n",
    "print(pd.read_sql_query(\"SELECT * FROM orders\", conn))\n",
    "print(\"--------------------------------------------------------\")\n",
    "print(\"Tabelle employee\")\n",
    "print(pd.read_sql_query(\"SELECT * FROM employee\", conn))\n",
    "print(\"--------------------------------------------------------\")\n",
    "print(\"Tabellen customer_buys_food\")\n",
    "print(pd.read_sql_query(\"SELECT * FROM customer_buys_food\", conn))\n",
    "print(\"--------------------------------------------------------\")"
   ]
  },
  {
   "cell_type": "markdown",
   "id": "3e74a470",
   "metadata": {},
   "source": [
    "# Aufgabe zu Teil 2"
   ]
  },
  {
   "cell_type": "markdown",
   "id": "6adc7a13",
   "metadata": {},
   "source": [
    "## ER-Diagramm"
   ]
  },
  {
   "cell_type": "markdown",
   "id": "49603392",
   "metadata": {},
   "source": [
    "[<img src=\"https://raw.githubusercontent.com/Fuenfgeld/2022TeamBDataEngineeringBC/main/Presentation/Bilder/nur_tabellen.draw_io.drawio_3.png\">](https://raw.githubusercontent.com/Fuenfgeld/2022TeamBDataEngineeringBC/main/Presentation/Bilder/nur_tabellen.draw_io.drawio_3.png)"
   ]
  },
  {
   "cell_type": "markdown",
   "id": "3b0edaa2",
   "metadata": {},
   "source": [
    "## SUBQUERIES"
   ]
  },
  {
   "cell_type": "markdown",
   "id": "399fad3d",
   "metadata": {},
   "source": [
    "#### Beispiel: Welche Kunden (C_ID) haben Futter gekauft, das in China hergestellt wurde?"
   ]
  },
  {
   "cell_type": "code",
   "execution_count": null,
   "id": "8a8102b3",
   "metadata": {},
   "outputs": [],
   "source": [
    "print(pd.read_sql_query('''\n",
    "    SELECT C_ID \n",
    "    FROM customer_buys_food\n",
    "    WHERE F_ID =\n",
    "       (SELECT food_ID FROM food WHERE origin == 'China')\n",
    "    ''', conn))"
   ]
  },
  {
   "cell_type": "markdown",
   "id": "b172c15d",
   "metadata": {},
   "source": [
    "### Aufgabe 2.1: Welche Bestellungen (O_ID) wurden von den Verkäufern abgewickelt, die mehr als 2000 verdienen?"
   ]
  },
  {
   "cell_type": "code",
   "execution_count": null,
   "id": "0aeb34c8",
   "metadata": {},
   "outputs": [],
   "source": [
    "print(pd.read_sql_query('''\n",
    "     SELECT O_ID \n",
    "     FROM customer_buys_food\n",
    "     WHERE E_ID IN\n",
    "       (SELECT employee_ID FROM employee WHERE employee.wage > 2000)\n",
    "     ''', conn))"
   ]
  },
  {
   "cell_type": "markdown",
   "id": "185ff4a0",
   "metadata": {},
   "source": [
    "### Aufgabe 2.2: Welche Kunden (name) haben Futter von weiblichen Verkäufern verkauft bekommen?"
   ]
  },
  {
   "cell_type": "code",
   "execution_count": null,
   "id": "4896acbc",
   "metadata": {},
   "outputs": [],
   "source": [
    "print(pd.read_sql_query('''\n",
    "    SELECT name\n",
    "    FROM customer\n",
    "    WHERE customer_ID IN (\n",
    "        SELECT C_ID\n",
    "        FROM customer_buys_food\n",
    "        WHERE E_ID IN (\n",
    "            SELECT employee_ID \n",
    "            FROM employee \n",
    "            WHERE gender == 'w')\n",
    "        )\n",
    "    ''', conn))"
   ]
  }
 ],
 "metadata": {
  "kernelspec": {
   "display_name": "Python 3",
   "language": "python",
   "name": "python3"
  },
  "language_info": {
   "codemirror_mode": {
    "name": "ipython",
    "version": 3
   },
   "file_extension": ".py",
   "mimetype": "text/x-python",
   "name": "python",
   "nbconvert_exporter": "python",
   "pygments_lexer": "ipython3",
   "version": "3.8.9"
  }
 },
 "nbformat": 4,
 "nbformat_minor": 5
}
