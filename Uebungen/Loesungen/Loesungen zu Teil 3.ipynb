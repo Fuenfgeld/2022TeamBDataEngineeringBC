{
 "cells": [
  {
   "cell_type": "markdown",
   "id": "a226cad5",
   "metadata": {},
   "source": [
    "[![Open in Colab](https://colab.research.google.com/assets/colab-badge.svg)](https://colab.research.google.com/github/Fuenfgeld/2022TeamBDataEngineeringBC/blob/main/Uebungen/Loesungen/Loesungen%20zu%20Teil%203.ipynb)"
   ]
  },
  {
   "cell_type": "markdown",
   "id": "9cb2a19a",
   "metadata": {},
   "source": [
    "# Lösungen zu Teil 3"
   ]
  },
  {
   "cell_type": "markdown",
   "id": "1700f32c",
   "metadata": {},
   "source": [
    "## Bitte führen Sie die nächsten beiden Codeabschnitte aus"
   ]
  },
  {
   "cell_type": "code",
   "execution_count": null,
   "id": "deee0a2f",
   "metadata": {},
   "outputs": [],
   "source": [
    "#Load Libraries\n",
    "import sqlite3\n",
    "import pandas as pd\n",
    "\n",
    "# Load GitHub repo\n",
    "%cd /content/\n",
    "%rm -r ./2022TeamBDataEngineeringBC\n",
    "!git clone https://github.com/Fuenfgeld/2022TeamBDataEngineeringBC.git\n",
    "%cd ./2022TeamBDataEngineeringBC/"
   ]
  },
  {
   "cell_type": "code",
   "execution_count": null,
   "id": "899bef62",
   "metadata": {},
   "outputs": [],
   "source": [
    "# Connect to Database\n",
    "conn = sqlite3.connect('sqlite_workshop.db')\n",
    "cursor = conn.cursor()\n",
    "print(\"Opened database successfully\");\n",
    "\n",
    "# Delete table if exists \n",
    "cursor.execute(\"DROP TABLE IF EXISTS food\")\n",
    "cursor.execute(\"DROP TABLE IF EXISTS orders\")\n",
    "cursor.execute(\"DROP TABLE IF EXISTS animals\")\n",
    "cursor.execute(\"DROP TABLE IF EXISTS customer\")\n",
    "cursor.execute(\"DROP TABLE IF EXISTS customer_buys_food\")\n",
    "cursor.execute(\"DROP TABLE IF EXISTS employee\")\n",
    "cursor.execute(\"DROP TABLE IF EXISTS sales\")\n",
    "cursor.execute(\"DROP TABLE IF EXISTS food_new\")\n",
    "cursor.execute(\"DROP TABLE IF EXISTS customer_new\")\n",
    "cursor.execute(\"DROP TABLE IF EXISTS employee_new\")\n",
    "cursor.execute(\"DROP TABLE IF EXISTS Liga\")\n",
    "cursor.execute(\"DROP TABLE IF EXISTS Verein\")\n",
    "cursor.execute(\"DROP TABLE IF EXISTS Spieler\")\n",
    "\n",
    "\n",
    "# Daten einlesen\n",
    "food = pd.read_csv('tables/initial_tables/Futter.csv', sep=\";\")\n",
    "customer = pd.read_csv('tables/initial_tables/Kunden.csv', sep=\";\")\n",
    "animals = pd.read_csv('tables/initial_tables/Tiere.csv', sep=\";\")\n",
    "orders = pd.read_csv('tables/initial_tables/Order.csv', sep=\";\")\n",
    "employee = pd.read_csv('tables/initial_tables/Verkaeufer.csv', sep=\";\")\n",
    "customer_buys_food = pd.read_csv('tables/initial_tables/Customer_buys_Food.csv', sep=\";\")\n",
    "\n",
    "\n",
    "# Tabellen erstellen\n",
    "cursor.execute('''\n",
    "\t\tCREATE TABLE IF NOT EXISTS customer (\n",
    "\t\t\tcustomer_ID int primary key,\n",
    "            name nvarchar(50),\n",
    "\t\t\tpostal_code nvarchar(5),\n",
    "\t\t\tcity nvarchar(50)\n",
    "\t\t\t)\n",
    "               ''')\n",
    "\n",
    "cursor.execute('''\n",
    "\t\tCREATE TABLE IF NOT EXISTS employee (\n",
    "\t\t\temployee_ID int primary key,\n",
    "            name nvarchar(50),\n",
    "            gender nvarchar(1),\n",
    "\t\t\twage int\n",
    "\t\t\t)\n",
    "               ''')\n",
    "\n",
    "cursor.execute('''\n",
    "\t\tCREATE TABLE IF NOT EXISTS food (\n",
    "\t\t\tfood_ID int primary key,\n",
    "            name nvarchar(50),\n",
    "\t\t\tprice_per_kg float,\n",
    "            producer nvarchar(50),\n",
    "            origin nvarchar(50)\n",
    "\t\t\t)\n",
    "               ''')\n",
    "\n",
    "cursor.execute('''\n",
    "\t\tCREATE TABLE IF NOT EXISTS animals (\n",
    "            name nvarchar(50) primary key,\n",
    "\t\t\tfood int,\n",
    "\t\t\tforeign key(food) references food(food_ID)\n",
    "\t\t\t)\n",
    "               ''') \n",
    "cursor.execute('''\n",
    "\t\tCREATE TABLE IF NOT EXISTS orders (\n",
    "            order_Nr int primary key,\n",
    "            date Date,\n",
    "            transact int\n",
    "\t\t\t)\n",
    "               ''')\n",
    "\n",
    "\n",
    "cursor.execute('''\n",
    "\t\tCREATE TABLE IF NOT EXISTS customer_buys_food (\n",
    "            C_ID int,\n",
    "            F_ID int,\n",
    "\t\t\tamount int,\n",
    "            O_ID int,\n",
    "            E_ID int,\n",
    "            foreign key(C_ID) references customer(customer_ID)\n",
    "\t\t\tforeign key(F_ID) references food(food_ID)\n",
    "            foreign key(O_ID) references orders(order_Nr)\n",
    "            foreign key(E_ID) references employee(employee_ID)\n",
    "\t\t\t)\n",
    "               ''') \n",
    "\n",
    "# Insert Dataframe in Table\n",
    "customer.to_sql('customer', conn, if_exists='append', index=False)\n",
    "animals.to_sql('animals', conn, if_exists='append', index=False)\n",
    "food.to_sql('food', conn, if_exists='append', index=False)\n",
    "orders.to_sql('orders', conn, if_exists='append', index=False)\n",
    "employee.to_sql('employee', conn, if_exists='append', index=False)\n",
    "customer_buys_food.to_sql('customer_buys_food', conn, if_exists='append', index=False)\n",
    "\n",
    "\n",
    "\n",
    "# Sternschema erstellen\n",
    "#cursor.execute('''PRAGMA foreign_keys = OFF;''')  # disable foreign keys\n",
    "#conn.commit()\n",
    "cursor.execute('''CREATE TABLE IF NOT EXISTS food_new(\n",
    "                  food_id INT PRIMARY KEY,\n",
    "                  name TEXT,\n",
    "                  price_per_kg FLOAT,\n",
    "                  producer TEXT,\n",
    "                  origin TEXT,\n",
    "                  animal TEXT\n",
    "                  );''')\n",
    "\n",
    "cursor.execute('''CREATE TABLE IF NOT EXISTS customer_new(\n",
    "                  cust_id INT PRIMARY KEY NOT NULL UNIQUE,\n",
    "                  name TEXT,\n",
    "                  postal_code nvarchar(5),\n",
    "                  city TEXT\n",
    "                  );''')\n",
    "\n",
    "cursor.execute('''CREATE TABLE IF NOT EXISTS employee_new(\n",
    "                  empl_id INT PRIMARY KEY NOT NULL UNIQUE,\n",
    "                  name TEXT,\n",
    "                  gender nvarchar(1),\n",
    "                  wage INT\n",
    "                  );''')\n",
    "conn.commit()\n",
    "\n",
    "# Tabellen mit Daten füllen\n",
    "cursor.execute('''INSERT INTO food_new(food_id, name, price_per_kg, producer, origin, animal)\n",
    "                  SELECT food.food_ID, food.name, food.price_per_kg, food.producer, food.origin, animals.name\n",
    "                  FROM food\n",
    "                  INNER JOIN animals ON food.food_ID = animals.food;\n",
    "                  ''')\n",
    "conn.commit()\n",
    "    \n",
    "cursor.execute('''INSERT INTO employee_new(empl_id, name, gender, wage)\n",
    "                  SELECT employee_ID, name, gender, wage\n",
    "                  FROM employee;\n",
    "                  ''')    \n",
    "    \n",
    "cursor.execute('''INSERT INTO customer_new(cust_id, name, postal_code, city)\n",
    "                  SELECT customer_ID, name, postal_code, city\n",
    "                  FROM customer;\n",
    "                  ''')\n",
    "\n",
    "conn.commit()\n",
    "cursor.execute('''\n",
    "    CREATE TABLE IF NOT EXISTS sales(\n",
    "        order_nr  INT PRIMARY KEY NOT NULL UNIQUE,\n",
    "        transact INT,\n",
    "        date DATE,\n",
    "        custumer_id int, \n",
    "        food_id INT,\n",
    "        amount INT,\n",
    "        employee_id INT,\n",
    "            foreign key(food_id) references food_new(food_id),\n",
    "            foreign key(custumer_id) references customer_new(cust_id),\n",
    "            foreign key(employee_id) references employee_new(empl_id)\n",
    "        );''')\n",
    "\n",
    "cursor.execute('''\n",
    "    INSERT INTO sales( order_nr, transact, date, custumer_id, food_id, amount,employee_id )\n",
    "    SELECT order_Nr,transact, date, C_ID, food_ID, amount, E_ID \n",
    "    FROM orders\n",
    "    LEFT JOIN \n",
    "        customer_buys_food ON orders.order_Nr = customer_buys_food.O_ID\n",
    "    LEFt JOIN \n",
    "        food ON customer_buys_food.F_ID = food.food_ID;\n",
    "    ''')\n",
    "cursor.execute(''' PRAGMA table_info(sales);''')\n",
    "records = cursor.fetchall()"
   ]
  },
  {
   "cell_type": "markdown",
   "id": "3e74a470",
   "metadata": {},
   "source": [
    "# Aufgabe zu Teil 3"
   ]
  },
  {
   "cell_type": "markdown",
   "id": "99f4dbed",
   "metadata": {},
   "source": [
    "### Hiermit werden die Inhalte der Dimensionstabellen angezeigt"
   ]
  },
  {
   "cell_type": "code",
   "execution_count": null,
   "id": "d030afde",
   "metadata": {},
   "outputs": [],
   "source": [
    "print(\"Tabelle customer_new\")\n",
    "print(pd.read_sql_query(\"SELECT * FROM customer_new\", conn))\n",
    "print(\"--------------------------------------------------------\")\n",
    "print(\"Tabelle food_new\")\n",
    "print(pd.read_sql_query(\"SELECT * FROM food_new\", conn))\n",
    "print(\"--------------------------------------------------------\")\n",
    "print(\"Tabelle employee_new\")\n",
    "print(pd.read_sql_query(\"SELECT * FROM employee\", conn))\n",
    "print(\"--------------------------------------------------------\")"
   ]
  },
  {
   "cell_type": "markdown",
   "id": "78cdba73",
   "metadata": {},
   "source": [
    "### Hiermit werden die Inhalte der Faktentabelle angezeigt"
   ]
  },
  {
   "cell_type": "code",
   "execution_count": null,
   "id": "2c79d388",
   "metadata": {},
   "outputs": [],
   "source": [
    "print(pd.read_sql_query(\"SELECT * FROM sales\", conn))"
   ]
  },
  {
   "cell_type": "markdown",
   "id": "efe31406",
   "metadata": {},
   "source": [
    "#### Beispiel: Welcher Verkäufer hat am meisten Umsatz erwirtschaftet?"
   ]
  },
  {
   "cell_type": "code",
   "execution_count": null,
   "id": "91c2d598",
   "metadata": {},
   "outputs": [],
   "source": [
    "print(pd.read_sql_query('''\n",
    "    SELECT \n",
    "    employee_new.name as employee, sales.amount, food_new.price_per_kg,\n",
    "    SUM(food_new.price_per_kg*sales.amount) as sum_sales\n",
    "    FROM employee_new\n",
    "    LEFT JOIN \n",
    "        sales ON employee_new.empl_id = sales.employee_id\n",
    "    INNER JOIN \n",
    "        food_new ON sales.food_id = food_new.food_id\n",
    "    GROUP BY employee_new.name\n",
    "    ORDER BY sum_sales DESC\n",
    "    ''', conn))### Aufgabe 3.1: Welche Futter (name) wurde am meisten verkauft?"
   ]
  },
  {
   "cell_type": "markdown",
   "id": "10d26bf7",
   "metadata": {},
   "source": [
    "### Aufgabe 3.1: Welches Futter (name) wurde am meisten verkauft?"
   ]
  },
  {
   "cell_type": "code",
   "execution_count": null,
   "id": "ea823e25",
   "metadata": {},
   "outputs": [],
   "source": [
    "print(pd.read_sql_query('''\n",
    "    SELECT sales.food_id, food_new.name FROM sales\n",
    "    LEFT JOIN\n",
    "    food_new ON sales.food_id = food_new.food_id\n",
    "    ''', conn))"
   ]
  },
  {
   "cell_type": "markdown",
   "id": "13b35aea",
   "metadata": {
    "slideshow": {
     "slide_type": "subslide"
    }
   },
   "source": [
    "### Aufgabe 3.2: Welcher Verkäufer hat am häufigsten Bestellungen abgeschloßen?"
   ]
  },
  {
   "cell_type": "code",
   "execution_count": null,
   "id": "46603b24",
   "metadata": {},
   "outputs": [],
   "source": [
    "print(pd.read_sql_query('''\n",
    "    SELECT employee_id, COUNT(order_nr) as count_order FROM sales\n",
    "    GROUP BY employee_id\n",
    "    ''', conn))"
   ]
  }
 ],
 "metadata": {
  "kernelspec": {
   "display_name": "Python 3",
   "language": "python",
   "name": "python3"
  },
  "language_info": {
   "codemirror_mode": {
    "name": "ipython",
    "version": 3
   },
   "file_extension": ".py",
   "mimetype": "text/x-python",
   "name": "python",
   "nbconvert_exporter": "python",
   "pygments_lexer": "ipython3",
   "version": "3.8.9"
  }
 },
 "nbformat": 4,
 "nbformat_minor": 5
}
