{
 "cells": [
  {
   "cell_type": "markdown",
   "id": "93c1d4f6",
   "metadata": {},
   "source": [
    "[![Open in Colab](https://colab.research.google.com/assets/colab-badge.svg)](https://colab.research.google.com/github/Fuenfgeld/2022TeamBDataEngineeringBC/blob/main/Presentation/Pr%C3%A4sentation%20SQLite.ipynb)"
   ]
  },
  {
   "cell_type": "code",
   "execution_count": null,
   "id": "77b8a29b",
   "metadata": {
    "slideshow": {
     "slide_type": "skip"
    }
   },
   "outputs": [],
   "source": [
    "#imports \n",
    "import sqlite3\n",
    "import pandas as pd"
   ]
  },
  {
   "cell_type": "code",
   "execution_count": null,
   "id": "a6883e49",
   "metadata": {
    "slideshow": {
     "slide_type": "skip"
    }
   },
   "outputs": [],
   "source": [
    "#get from git\n",
    "%cd /content/\n",
    "%rm -r ./2022TeamBDataEngineeringBC\n",
    "!git clone https://github.com/Fuenfgeld/2022TeamBDataEngineeringBC.git\n",
    "%cd ./2022TeamBDataEngineeringBC/"
   ]
  },
  {
   "cell_type": "code",
   "execution_count": null,
   "id": "09269d13",
   "metadata": {
    "slideshow": {
     "slide_type": "skip"
    }
   },
   "outputs": [],
   "source": [
    "#connect to database\n",
    "conn = sqlite3.connect('sqlite_example.db')\n",
    "cursor = conn.cursor()\n",
    "print(\"Opened database successfully\");"
   ]
  },
  {
   "cell_type": "code",
   "execution_count": null,
   "id": "3d9b400a",
   "metadata": {
    "slideshow": {
     "slide_type": "skip"
    }
   },
   "outputs": [],
   "source": [
    "#delete tables in case they exist\n",
    "cursor.execute(\"DROP TABLE IF EXISTS food\")\n",
    "cursor.execute(\"DROP TABLE IF EXISTS orders\")\n",
    "cursor.execute(\"DROP TABLE IF EXISTS animals\")\n",
    "cursor.execute(\"DROP TABLE IF EXISTS customer\")\n",
    "cursor.execute(\"DROP TABLE IF EXISTS customer_buys_food\")\n",
    "cursor.execute(\"DROP TABLE IF EXISTS employee\")\n",
    "cursor.execute(\"DROP TABLE IF EXISTS sales\")\n",
    "cursor.execute(\"DROP TABLE IF EXISTS food_new\")\n",
    "cursor.execute(\"DROP TABLE IF EXISTS customer_new\")\n",
    "cursor.execute(\"DROP TABLE IF EXISTS employee_new\")"
   ]
  },
  {
   "cell_type": "code",
   "execution_count": null,
   "id": "50b700e4",
   "metadata": {
    "slideshow": {
     "slide_type": "skip"
    }
   },
   "outputs": [],
   "source": [
    "#load CSVs\n",
    "food = pd.read_csv('tables/initial_tables/Futter.csv', sep=\";\")\n",
    "customer = pd.read_csv('tables/initial_tables/Kunden.csv', sep=\";\")\n",
    "animals = pd.read_csv('tables/initial_tables/Tiere.csv', sep=\";\")\n",
    "orders = pd.read_csv('tables/initial_tables/Order.csv', sep=\";\")\n",
    "employee = pd.read_csv('tables/initial_tables/Verkaeufer.csv', sep=\";\")\n",
    "customer_buys_food = pd.read_csv('tables/initial_tables/Customer_buys_Food.csv', sep=\";\")"
   ]
  },
  {
   "cell_type": "code",
   "execution_count": null,
   "id": "3fbb5f17",
   "metadata": {
    "slideshow": {
     "slide_type": "skip"
    }
   },
   "outputs": [],
   "source": [
    "#create tables\n",
    "cursor.execute('''\n",
    "\t\tCREATE TABLE IF NOT EXISTS customer (\n",
    "\t\t\tcustomer_ID int primary key,\n",
    "            name nvarchar(50),\n",
    "\t\t\tpostal_code nvarchar(5),\n",
    "\t\t\tcity nvarchar(50)\n",
    "\t\t\t)\n",
    "               ''')\n",
    "\n",
    "cursor.execute('''\n",
    "\t\tCREATE TABLE IF NOT EXISTS employee (\n",
    "\t\t\temployee_ID int primary key,\n",
    "            name nvarchar(50),\n",
    "            gender nvarchar(1),\n",
    "\t\t\twage int\n",
    "\t\t\t)\n",
    "               ''')\n",
    "\n",
    "cursor.execute('''\n",
    "\t\tCREATE TABLE IF NOT EXISTS food (\n",
    "\t\t\tfood_ID int primary key,\n",
    "            name nvarchar(50),\n",
    "\t\t\tprice_per_kg float,\n",
    "            producer nvarchar(50),\n",
    "            origin nvarchar(50)\n",
    "\t\t\t)\n",
    "               ''')\n",
    "\n",
    "cursor.execute('''\n",
    "\t\tCREATE TABLE IF NOT EXISTS animals (\n",
    "            name nvarchar(50) primary key,\n",
    "\t\t\tfood int NOT NULL UNIQUE,\n",
    "\t\t\tforeign key(food) references food(food_ID)\n",
    "\t\t\t)\n",
    "               ''') \n",
    "cursor.execute('''\n",
    "\t\tCREATE TABLE IF NOT EXISTS orders (\n",
    "            order_Nr int primary key,\n",
    "            date Date,\n",
    "            transact int\n",
    "\t\t\t)\n",
    "               ''')\n",
    "\n",
    "\n",
    "cursor.execute('''\n",
    "\t\tCREATE TABLE IF NOT EXISTS customer_buys_food (\n",
    "            C_ID int ,\n",
    "            F_ID int,\n",
    "\t\t\tamount int,\n",
    "            O_ID int,\n",
    "            E_ID int,\n",
    "            foreign key(C_ID) references customer(customer_ID)\n",
    "\t\t\tforeign key(F_ID) references food(food_ID)\n",
    "            foreign key(O_ID) references orders(order_Nr)\n",
    "            foreign key(E_ID) references employee(employee_ID)\n",
    "\t\t\t)\n",
    "               ''') "
   ]
  },
  {
   "cell_type": "code",
   "execution_count": null,
   "id": "b8ad94c2",
   "metadata": {
    "slideshow": {
     "slide_type": "skip"
    }
   },
   "outputs": [],
   "source": [
    "#insert data into table\n",
    "customer.to_sql('customer', conn, if_exists='append', index=False)\n",
    "animals.to_sql('animals', conn, if_exists='append', index=False)\n",
    "food.to_sql('food', conn, if_exists='append', index=False)\n",
    "orders.to_sql('orders', conn, if_exists='append', index=False)\n",
    "employee.to_sql('employee', conn, if_exists='append', index=False)\n",
    "customer_buys_food.to_sql('customer_buys_food', conn, if_exists='append', index=False)"
   ]
  },
  {
   "cell_type": "markdown",
   "id": "4fd869f3",
   "metadata": {
    "slideshow": {
     "slide_type": "slide"
    }
   },
   "source": [
    "<h1> Herzlich Willkomen zur Präsentation des SQLite Teams! </h1>\n",
    "\n",
    "<img src=https://raw.githubusercontent.com/Fuenfgeld/2022TeamBDataEngineeringBC/main/Presentation/Bilder/sqlite-and-python.png>"
   ]
  },
  {
   "cell_type": "markdown",
   "id": "db528e21",
   "metadata": {
    "slideshow": {
     "slide_type": "skip"
    }
   },
   "source": [
    "Quelle: https://charlesleifer.com/blog/extending-sqlite-with-python/"
   ]
  },
  {
   "cell_type": "markdown",
   "id": "52f768c1",
   "metadata": {
    "slideshow": {
     "slide_type": "slide"
    }
   },
   "source": [
    "<h1>Inhalt</h1>\n",
    "\n",
    "1. Teil 1\n",
    "  1. Einführung\n",
    "  2. ER - Diagramme\n",
    "  3. Meta-Informationen (PRGAMA)\n",
    "2. Teil 2\n",
    "  1. Einführung SQL Lite\n",
    "  2. SQLite Subqueries\n",
    "  3. OLAP vs. OLTP\n",
    "3. Teil 3\n",
    "  1. Sternschema\n",
    "  2. Transformation in das Sternschema\n",
    "  3. Joinabfrage\n",
    "  4. Abschluss\n"
   ]
  },
  {
   "cell_type": "markdown",
   "id": "b5afea31",
   "metadata": {
    "slideshow": {
     "slide_type": "slide"
    }
   },
   "source": [
    "<h1> Einführung </h1>\n",
    "\n",
    "Wir sind eine Firma, welche Daten für Unternehmen auswertet. Eine Tierhandlung hat uns Zugriff auf ihre Datenbank gegeben, um Analysen über die Verkäufe durchzuführen. Leider hat die IT-Abteilung vergessen uns mitzuteilen wie die Datenbank aufgebaut ist.\n"
   ]
  },
  {
   "cell_type": "markdown",
   "id": "56aab2a9",
   "metadata": {
    "slideshow": {
     "slide_type": "slide"
    }
   },
   "source": [
    "<h1> Was ist ein ER-Diagramm? </h1>\n",
    "\n",
    "\n",
    "<img src=https://raw.githubusercontent.com/Fuenfgeld/2022TeamBDataEngineeringBC/main/Presentation/Bilder/er_basics.png>"
   ]
  },
  {
   "cell_type": "markdown",
   "id": "f2c02806",
   "metadata": {
    "slideshow": {
     "slide_type": "skip"
    }
   },
   "source": [
    "ER-Diagramme werden genutzt, um die Struktur einer Datenbank darzustellen. Sie geben Auskunft über die in der Datenbank vorhandenen Tabellen, die Attribute (Spalten) der Tabelle sowie die zusammenhänge einzelner Tabellen. "
   ]
  },
  {
   "cell_type": "markdown",
   "id": "7491fdb7",
   "metadata": {
    "slideshow": {
     "slide_type": "slide"
    }
   },
   "source": [
    "<h1> Mithilfe der Meta-Informationen die Struktur herausfinden </h1>"
   ]
  },
  {
   "cell_type": "markdown",
   "id": "422e24d6",
   "metadata": {
    "slideshow": {
     "slide_type": "skip"
    }
   },
   "source": [
    "Die Meta-Informationen erlauben uns die Zusammenhänge der Tabellen genauer unter die Lupe zu nehmen. Mithilfe der Meta-Informationen ist es uns möglich herauszufinden, welches Attribut je Tabelle als Primary Key dient (also nur einmal vorkommen darf und eindeutig ist) und welche Attribute Foreign Keys, also Referenzen auf andere Tabellen sind."
   ]
  },
  {
   "cell_type": "markdown",
   "id": "8e1c89cb",
   "metadata": {
    "slideshow": {
     "slide_type": "slide"
    }
   },
   "source": [
    "### Alle Tabellennamen in der Datenbank auslesen"
   ]
  },
  {
   "cell_type": "markdown",
   "id": "5cec87ef",
   "metadata": {
    "slideshow": {
     "slide_type": "skip"
    }
   },
   "source": [
    "Damit die Meta-Informationen ausgeleses werden können werden PRAGMA-Funktionen benötigt. Damit man diese Funktionen anwenden kann, müssen die Namen der in der Datenbank vorhandenen Tabellen bekannt sein. Die folgende Codezeile gibt uns die Namen der Tabellen zurück."
   ]
  },
  {
   "cell_type": "code",
   "execution_count": null,
   "id": "ccb1854a",
   "metadata": {
    "slideshow": {
     "slide_type": "-"
    }
   },
   "outputs": [],
   "source": [
    "print(pd.read_sql_query(\"SELECT name FROM sqlite_master WHERE type='table';\", conn))"
   ]
  },
  {
   "cell_type": "markdown",
   "id": "e5313890",
   "metadata": {
    "slideshow": {
     "slide_type": "skip"
    }
   },
   "source": [
    "Um ein ER-Diagramm zu erstellen, kann nun schonmal ein Rechteck um die einzelnen Tabellennamen gezeichnet werden."
   ]
  },
  {
   "cell_type": "markdown",
   "id": "e9998bbb",
   "metadata": {
    "slideshow": {
     "slide_type": "subslide"
    }
   },
   "source": [
    "<img src=https://raw.githubusercontent.com/Fuenfgeld/2022TeamBDataEngineeringBC/main/Presentation/Bilder/only_tables.png>"
   ]
  },
  {
   "cell_type": "markdown",
   "id": "3544d06a",
   "metadata": {
    "slideshow": {
     "slide_type": "slide"
    }
   },
   "source": [
    "### Private Keys und Tabellenspalten auslesen"
   ]
  },
  {
   "cell_type": "markdown",
   "id": "b4bf07e8",
   "metadata": {
    "slideshow": {
     "slide_type": "skip"
    }
   },
   "source": [
    "Die PRAGMA-Funktion \"table_info\" liefert den Primary Key der Tabelle, sowie alle Attribute. Dieser Befehl muss für jede einzelne Tabelle in der Datenbank ausgeführt werden. Im folgenden Codeblock ist zu sehen, wie der Befehl ausgeführt wird."
   ]
  },
  {
   "cell_type": "code",
   "execution_count": null,
   "id": "57d6aa4b",
   "metadata": {
    "slideshow": {
     "slide_type": "subslide"
    }
   },
   "outputs": [],
   "source": [
    "print(pd.read_sql_query(\"PRAGMA table_info('orders')\", conn))\n",
    "print(\"--------------------------------------------------------\")\n",
    "print(pd.read_sql_query(\"PRAGMA table_info('food')\", conn))\n",
    "print(\"--------------------------------------------------------\")\n",
    "print(pd.read_sql_query(\"PRAGMA table_info('animals')\", conn))"
   ]
  },
  {
   "cell_type": "code",
   "execution_count": null,
   "id": "a17c82af",
   "metadata": {
    "slideshow": {
     "slide_type": "subslide"
    }
   },
   "outputs": [],
   "source": [
    "print(pd.read_sql_query(\"PRAGMA table_info('customer')\", conn))\n",
    "print(\"--------------------------------------------------------\")\n",
    "print(pd.read_sql_query(\"PRAGMA table_info('customer_buys_food')\", conn))\n",
    "print(\"--------------------------------------------------------\")\n",
    "print(pd.read_sql_query(\"PRAGMA table_info('employee')\", conn))"
   ]
  },
  {
   "cell_type": "markdown",
   "id": "69fc4af6",
   "metadata": {
    "slideshow": {
     "slide_type": "skip"
    }
   },
   "source": [
    "Das ER-Diagramm kann nun um die neu gewonnenen Informationen erweitert werden. Jedes Attribut wird oval eingekreist und mit dem Rechteck der Tabelle verbunden. Primary Keys werden unterstrichen."
   ]
  },
  {
   "cell_type": "markdown",
   "id": "7aa14360",
   "metadata": {
    "slideshow": {
     "slide_type": "subslide"
    }
   },
   "source": [
    "\n",
    "<img src=https://raw.githubusercontent.com/Fuenfgeld/2022TeamBDataEngineeringBC/main/Presentation/Bilder/tabellen_spalten.png>"
   ]
  },
  {
   "cell_type": "markdown",
   "id": "77b88525",
   "metadata": {
    "slideshow": {
     "slide_type": "skip"
    }
   },
   "source": [
    "Zuletzt werden die Foreign Keys benötigt, um Rückschlüsse über die Beziehungen der einzelnen Tabellen ziehen zu können. Hierfür wird die PRAGMA-Funktion foreign_key_list genutzt."
   ]
  },
  {
   "cell_type": "markdown",
   "id": "8ed27c6a",
   "metadata": {
    "slideshow": {
     "slide_type": "slide"
    }
   },
   "source": [
    "### Foreign Keys auslesen"
   ]
  },
  {
   "cell_type": "code",
   "execution_count": null,
   "id": "fd6cc197",
   "metadata": {
    "slideshow": {
     "slide_type": "subslide"
    }
   },
   "outputs": [],
   "source": [
    "print(pd.read_sql_query(\"PRAGMA foreign_key_list('orders')\", conn))\n",
    "print(\"---------------------------------------------------\")\n",
    "print(pd.read_sql_query(\"PRAGMA foreign_key_list('food')\", conn))\n",
    "print(\"---------------------------------------------------\")\n",
    "print(pd.read_sql_query(\"PRAGMA foreign_key_list('Animals')\", conn))\n",
    "print(\"---------------------------------------------------\")\n",
    "print(pd.read_sql_query(\"PRAGMA foreign_key_list('customer')\", conn))\n",
    "print(\"---------------------------------------------------\")\n",
    "print(pd.read_sql_query(\"PRAGMA foreign_key_list('customer_buys_food')\", conn))\n",
    "print(\"---------------------------------------------------\")\n",
    "print(pd.read_sql_query(\"PRAGMA foreign_key_list('employee')\", conn))"
   ]
  },
  {
   "cell_type": "markdown",
   "id": "d381c861",
   "metadata": {
    "slideshow": {
     "slide_type": "skip"
    }
   },
   "source": [
    "Liefert der Befehl ein \"empty Dataframe\" zurück, sind in der entsprechenden Tabelle keine Foreign Keys hinterlegt. Wir sehen jedoch, dass die Tabelle *animals* einen Foreign Key auf die Tabelle *food* enthält. Die Verbindung besteht vom Attribut *food* zum Attribut *food_ID* der Tabelle *food*. Das bedeutet, dass es sich um eine 1 zu 1 Beziehung zwischen *animals* und *food* handelt. Wir können nun eine Raute zwischen den Tabellen zeichnen und uns einen Begriff überlegen, welcher die Beziehung beschreibt. In diesem Fall wird \"eat\" gewählt, denn ein Tier isst, laut der Datenbank, immer eine Art Futter.\n",
    "\n",
    "Die zweite Erkenntnis, die uns die PRAGMA-Funktion liefert ist etwas komplizierter. Wir können erkennen, dass die Tabelle *customer_buys_food* fast ausschließlich aus Foreign Keys besteht. Eine Tabelle, die hauptsächlich aus Foreign Keys besteht, ist ein Indiz dafür, dass es sich um eine Tabelle handelt, welche eine N zu M Beziehung beschreibt. In diesem Fall also: mehrere Customer können mehrere Arten Futter kaufen. Wir verbinden also die *customer* und die *food* Tabelle mit einer Raute \"buys\". Die zusätlichen Attribute der *customer_buys_food* Tabelle werden als Attribute an die \"buys\" Raute angehängt."
   ]
  },
  {
   "cell_type": "markdown",
   "id": "d75bc890",
   "metadata": {
    "slideshow": {
     "slide_type": "slide"
    }
   },
   "source": [
    "<img src=https://raw.githubusercontent.com/Fuenfgeld/2022TeamBDataEngineeringBC/main/Presentation/Bilder/nur_tabellen.draw_io.drawio_3.png>"
   ]
  },
  {
   "cell_type": "markdown",
   "id": "a6b13764",
   "metadata": {
    "slideshow": {
     "slide_type": "slide"
    }
   },
   "source": [
    "<h1>Übung 1</h1>"
   ]
  },
  {
   "cell_type": "markdown",
   "id": "a7e82bd9",
   "metadata": {
    "slideshow": {
     "slide_type": "skip"
    }
   },
   "source": [
    "### Klicke auf den \"*Open in Colab*\" Button um die Übung durchzuführen.\n",
    "#### Aufgabe 1.1: Nutze PRAGMA-Funktionen, um die Tabellen, Attribute, Primary Keys und Foreign Keys der Datenbank herauszufinden.\n",
    "#### Aufgabe 1.2: Zeichne mit den gewonnen Informationen ein ER-Diagramm der Datenbank."
   ]
  },
  {
   "cell_type": "markdown",
   "id": "58ec6464",
   "metadata": {
    "slideshow": {
     "slide_type": "skip"
    }
   },
   "source": [
    "[![Open in Colab](https://colab.research.google.com/assets/colab-badge.svg)](https://colab.research.google.com/github/Fuenfgeld/2022TeamBDataEngineeringBC/blob/main/Uebungen/Uebungen/Uebungen%20zu%20Teil%201.ipynb)"
   ]
  },
  {
   "cell_type": "markdown",
   "id": "717df912",
   "metadata": {
    "slideshow": {
     "slide_type": "-"
    }
   },
   "source": [
    "# Zusammenfassung\n",
    "1. print(pd.read_sql_query(\"SELECT name FROM sqlite_master WHERE type='table';\", conn))\n",
    "2. print(pd.read_sql_query(\"PRAGMA table_info('TABELLENNAME')\", conn))\n",
    "3. print(pd.read_sql_query(\"PRAGMA foreign_key_list(\"TABELLENNAME\")\", conn))\n",
    "\n",
    "<img src=https://raw.githubusercontent.com/Fuenfgeld/2022TeamBDataEngineeringBC/main/Presentation/Bilder/er_basics.png>"
   ]
  },
  {
   "cell_type": "markdown",
   "id": "6b28c0b3",
   "metadata": {
    "slideshow": {
     "slide_type": "slide"
    }
   },
   "source": [
    "<h1> Teil 2 </h1>"
   ]
  },
  {
   "cell_type": "markdown",
   "id": "7c0d55c2",
   "metadata": {
    "slideshow": {
     "slide_type": "slide"
    }
   },
   "source": [
    "<h2> Einführung in SQL Lite </h2> "
   ]
  },
  {
   "cell_type": "markdown",
   "id": "ab0986a8",
   "metadata": {},
   "source": [
    "SQL (Structured Query Language) ist eine Standardsprache, um Daten in Datenbanken zu speichern, zu bearbeiten und abzufragen. Weiterführende Informationen sind unter folgendem [Link](https://www.w3schools.com/sql/) zu finden.\n"
   ]
  },
  {
   "cell_type": "markdown",
   "id": "e01d4523",
   "metadata": {
    "slideshow": {
     "slide_type": "subslide"
    }
   },
   "source": [
    "<h4> SELECT </h4>"
   ]
  },
  {
   "cell_type": "markdown",
   "id": "1599ae3c",
   "metadata": {},
   "source": [
    "Das Schlüsselwort SELECT wird benutzt, um Daten aus einer Tabelle auszuwählen. Nach dem SELECT Ausdruck werden die Namen der Spalten aufgelistet, die ausgegeben werden sollen. Wird an diese Stelle ein * geschrieben, werden alle in der Tabelle enthaltenen Stalten zurückgegeben. Der Name der zu durchsuchenden Tabelle wird hinter des Schlüsselwort FROM geschrieben. Die Abfrage wird mit einem Semikolon abgeschlossen. <br>\n",
    "<br>\n",
    "Wenn *column1* und *column2* die gesuchte Spalten von *table_name* sind, dann sieht die Abfrage folgendermaßen aus:<br>\n",
    "<br>\n",
    "    SELECT *column1*, *column2*, ...<br>\n",
    "    FROM *table_name*;"
   ]
  },
  {
   "cell_type": "markdown",
   "id": "32abfdd6",
   "metadata": {},
   "source": [
    "Beispiel SELECT: <br>\n",
    "Hier werden die Spalten *customer_ID* und *name* aus der Tabelle *customer* ausgegeben.\n"
   ]
  },
  {
   "cell_type": "code",
   "execution_count": null,
   "id": "ed712f27",
   "metadata": {},
   "outputs": [],
   "source": [
    "print(pd.read_sql_query('''\n",
    "    SELECT customer_ID, name\n",
    "    FROM customer\n",
    "        ''', conn))"
   ]
  },
  {
   "cell_type": "markdown",
   "id": "11f93c0a",
   "metadata": {
    "slideshow": {
     "slide_type": "subslide"
    }
   },
   "source": [
    "<h4> WHERE </h4>"
   ]
  },
  {
   "cell_type": "markdown",
   "id": "3dc27f51",
   "metadata": {},
   "source": [
    "Das Schlüsselwort WHERE kann zur gefiltereten Abfrage verwendet werden. Hinter den WHERE Ausdruck wird eine Bedingung geschrieben. Nur die Daten, die diese Bedingung erfüllen werden zurückgegeben.<br>\n",
    "<br>\n",
    "Wenn die Werte aus den Spalten *column1* und *column2* der Tabelle *table_name* gesucht werden, auf die die Bedingung *condition* zutrifft, dann sieht die Abfrage folgendermaßen aus:<br>\n",
    "<br>\n",
    "    SELECT column1, column2, ...<br>\n",
    "    FROM table_name<br>\n",
    "    WHERE condition;<br>\n",
    "<br>\n",
    "Bedingungen zur Filterung können mit den Operatoren AND, OR und NOT kombiniert werden."
   ]
  },
  {
   "cell_type": "markdown",
   "id": "6e79dde8",
   "metadata": {},
   "source": [
    "Beispiel WHERE: <br>\n",
    "Hier werden *employee_ID* und *name* der Verkäufer aus der Tabelle *employee* ausgegeben, die über 2000 verdienen."
   ]
  },
  {
   "cell_type": "code",
   "execution_count": null,
   "id": "8748b6d2",
   "metadata": {},
   "outputs": [],
   "source": [
    "print(pd.read_sql_query('''\n",
    "    SELECT employee_ID, name\n",
    "    FROM employee\n",
    "    WHERE wage > 2000;\n",
    "        ''', conn))"
   ]
  },
  {
   "cell_type": "markdown",
   "id": "566081f4",
   "metadata": {
    "slideshow": {
     "slide_type": "subslide"
    }
   },
   "source": [
    "<h4> JOIN </h4>"
   ]
  },
  {
   "cell_type": "markdown",
   "id": "a78db525",
   "metadata": {},
   "source": [
    "Mit dem Schlüsselwort JOIN lassen sich Tabellenreihen mehrerer Tabellen, die über eine Spalte miteinander verknüpft sind, kombinieren. Über den ON Ausdruck wird die Verknüfung der Tabellen festgelegt.<br>\n",
    "<br>\n",
    "In SQLite gibt es unterschiedliche Arten von JOINs: <br>\n",
    "<br>\n",
    "1. __INNER JOIN__ <br>\n",
    "Bei INNER JOIN werden die Reihen gewählt, die in in beiden Tabellen vorkommen.<br> \n",
    "<br>  \n",
    "Wenn die Werte aus den Spalten *column1* und *column2* gesucht werden, die sowohl in Tabelle *table_name1* und Tabelle *table_name2* (welche über *keyfield1* und *keyfield2* verknüpft sind) vorkommen, sieht die Abfrage folgendermaßen aus:<br>\n",
    "<br>\n",
    "    SELECT column1, column2, ...<br>\n",
    "    FROM table_name1<br>\n",
    "    INNER JOIN table_name2<br>\n",
    "    ON table_name1.keyfield1 = table_name2.keyfield2;<br>\n",
    "<br>\n",
    "2. __LEFT (OUTER) JOIN__ <br>\n",
    "Bei LEFT JOIN werden alle Reihen der ersten Tabelle und die übereinstimmenden Reihen der zweiten Tabelle zurückgegeben.<br>\n",
    "Bei LEFT OUTER JOIN werden alle Reihen der ersten Tabelle zurückgegeben, die nicht auch in der zweiten Tabelle enthalten sind.<br> <br> \n",
    "3. __CROSS JOIN__ <br>\n",
    "Bei CROSS JOIN ohne WHERE Bedingung wird jede Reihe der ersten Tabelle mit jeder Reihe der zweiten Tabelle verbunden. Die Reihenanzahl der Ergebnis-Tabelle ist das Produkt der Reihenanzahl der ersten und der zweiten Tabelle.<br> \n",
    "<br> \n",
    "4. __NATURAL JOIN__ <br>\n",
    "NATURAL JOIN wird ohne ON Ausdruck eingesetzt. Hierbei werden zwei Tabellen anhand gleicher Spaltenname miteinander verknüpft.<br> <br>\n",
    "Wenn die Werte aus den Spalten *column1* und *column2* verknüpft werden sollen, die sowohl in Tabelle *table_name1* und Tabelle *table_name2* enthalten und in ihren jeweilgen Tabellen den gleichen Spaltenname haben, sieht die Abfrage folgendermaßen aus:<br> <br>\n",
    "    SELECT column1, column2, ...<br>\n",
    "    FROM table_name1<br>\n",
    "    NATURAL JOIN table_name2;<br>"
   ]
  },
  {
   "cell_type": "markdown",
   "id": "bd68b96b",
   "metadata": {
    "slideshow": {
     "slide_type": "subslide"
    }
   },
   "source": [
    "Beispiel INNER JOIN: <br>\n",
    "Hier werden *employee_ID* und *name* der Verkäufer aus der Tabelle *employee* ausgegeben, deren *employee_ID* auch in der Tabelle *customer_buys_food* enthalten sind."
   ]
  },
  {
   "cell_type": "code",
   "execution_count": null,
   "id": "ea6cf3b9",
   "metadata": {},
   "outputs": [],
   "source": [
    "print(pd.read_sql_query('''\n",
    "    SELECT employee_ID, name\n",
    "    FROM employee\n",
    "    INNER JOIN customer_buys_food\n",
    "        ON employee.employee_ID = customer_buys_food.E_ID;\n",
    "        ''', conn))"
   ]
  },
  {
   "cell_type": "markdown",
   "id": "13ff7616",
   "metadata": {
    "slideshow": {
     "slide_type": "subslide"
    }
   },
   "source": [
    "<h4> GROUP BY </h4>"
   ]
  },
  {
   "cell_type": "markdown",
   "id": "c6c26567",
   "metadata": {},
   "source": [
    "Das Schlüsselwort GROUP BY wird eingesetzt, um Reihen zu gruppieren, bei denen die gleiche Bedingung zutrifft. Der Audruck GROUP BY wird oft in Verbindung mit folgenen Aggregatsfunktionen eingesetzt: COUNT(), MAX(), MIN(), SUM(), AVG(). Aggregatsfunktionen werden auf die Spalten, die nach dem SELECT Ausdruck stehen angewandt.<br>\n",
    "<br>\n",
    "Um die Anzahl der Daten in der Spalte *column1* der Tabelle *table_name* zu zählen und das Ergebnis über Reihenwerte von *column2* zu gruppieren wird folgende Abfrage benötigt:<br>\n",
    "<br>\n",
    "    SELECT column1<br>\n",
    "    FROM table_name<br>\n",
    "    GROUP BY column2;<br>"
   ]
  },
  {
   "cell_type": "markdown",
   "id": "848c7d42",
   "metadata": {},
   "source": [
    "Beispiel GROUP BY: <br>\n",
    "Hier werden *employee_ID* und *name* der Verkäufer aus der Tabelle *employee* ausgegeben, deren *employee_ID* auch in der Tabelle *customer_buys_food* enthalten sind. Anschließend werden die einzelnen IDs der Spalte *employee_ID* gruppiert."
   ]
  },
  {
   "cell_type": "code",
   "execution_count": null,
   "id": "de3ea66f",
   "metadata": {},
   "outputs": [],
   "source": [
    "print(pd.read_sql_query('''\n",
    "    SELECT employee_ID, name\n",
    "    FROM employee\n",
    "    INNER JOIN customer_buys_food\n",
    "        ON employee.employee_ID = customer_buys_food.E_ID\n",
    "    GROUP BY employee_ID;\n",
    "        ''', conn))"
   ]
  },
  {
   "cell_type": "markdown",
   "id": "70033ed3",
   "metadata": {
    "slideshow": {
     "slide_type": "subslide"
    }
   },
   "source": [
    "<h4> ORDER BY </h4>"
   ]
  },
  {
   "cell_type": "markdown",
   "id": "a280989f",
   "metadata": {},
   "source": [
    "Das Schlüsselwort ORDER BY wird eingesetzt, um die Ausgabe einer Abfrage in auf- oder absteigender Reihenfolge zu sortieren. Hinter den Audruck ORDER BY wird der/die Spaltenname(n) geschrieben, nach denen sortiert werden soll. Standardmäßig wird nach aufsteigender Reihenfolge sortiert. Für eine absteigende Sortierung muss das Schlüsselwort DESC eingesetzt werden.<br>\n",
    "<br>\n",
    "Wenn die Werte aus den Spalten *column1* und *column2* der Tabelle *table_name* gesucht werden und in absteigender Reihenfolge der Spalte *column1* ausgegeben werden sollen, dann sieht die Abfrage folgendermaßen aus:<br>\n",
    "<br>\n",
    "    SELECT column1, column2, ...<br>\n",
    "    FROM table_name<br>\n",
    "    ORDER BY column1 DESC;<br>\n"
   ]
  },
  {
   "cell_type": "markdown",
   "id": "c063a88a",
   "metadata": {},
   "source": [
    "Beispiel ORDER BY: <br>\n",
    "Hier werden die Inhalte der Spalten *employee_ID*, *name* und *wage* der Verkäufer aus der Tabelle *employee* nach deren individuellen Gehältern absteigend sortiert."
   ]
  },
  {
   "cell_type": "code",
   "execution_count": null,
   "id": "06c5f156",
   "metadata": {},
   "outputs": [],
   "source": [
    "print(pd.read_sql_query('''\n",
    "    SELECT employee_ID, name, wage\n",
    "    FROM employee\n",
    "    ORDER BY wage DESC;\n",
    "        ''', conn))"
   ]
  },
  {
   "cell_type": "markdown",
   "id": "af2094db",
   "metadata": {
    "slideshow": {
     "slide_type": "slide"
    }
   },
   "source": [
    "<h2> Subqueries </h2>"
   ]
  },
  {
   "cell_type": "markdown",
   "id": "2a650d85",
   "metadata": {},
   "source": [
    "In SQLite wird eine SQL Abfrage, die in einer größeren Abfrage verschachtelt ist als Subquery bezeichnet. Subquerys können im Zusammenhang mit den Schlüsselwörtern SELECT, FROM oder WHERE eingesetzt werden. Die beiden Abfragen werden als innere und äußere Abfrage bezeichnet. Die innere Abfrage wird zuerst ausgeführt und ihr Ergebnis beeinflusst die äußere Abfrage. Die innere Abfrage wird mit Klammern *( )* abgegrenzt und ist hier in rot gekennzeichnet:<br>\n",
    "<br>\n",
    "SELECT column_1<br>\n",
    "FROM table_1<br>\n",
    "WHERE column_1 = (<br>\n",
    "<font color=red><blockquote>SELECT column_2 <br> FROM table_2</font>\n",
    ");\n"
   ]
  },
  {
   "cell_type": "markdown",
   "id": "078a1d36",
   "metadata": {
    "slideshow": {
     "slide_type": "subslide"
    }
   },
   "source": [
    "<h4> Scalar Subquery </h4>"
   ]
  },
  {
   "cell_type": "markdown",
   "id": "62882b5e",
   "metadata": {},
   "source": [
    "Liefert die innere Abfrage einen einzigen Wert zurück, wird sie als skalare Subquery bezeichnet. Der Rückgabewert kann über ein *'='* zugeordnet werden. Liefert die innere Abfrage *null*, dann gibt die Äußere Abfrage keine Spalten zurück.<br>\n",
    "<br>\n",
    "Beispiel:<br>\n",
    "Die Abfrage liefert die Kunden-ID der Kunden, die Hundefutter gekauft haben. Die innere Abfrage liefert einen einzigen Wert zurück, nämlich die *food_ID*, welche zu *Hundefutter* gehört."
   ]
  },
  {
   "cell_type": "code",
   "execution_count": null,
   "id": "81be1932",
   "metadata": {
    "slideshow": {
     "slide_type": "-"
    }
   },
   "outputs": [],
   "source": [
    "print(pd.read_sql_query('''\n",
    "    SELECT C_ID\n",
    "    FROM customer_buys_food\n",
    "    WHERE F_ID = (\n",
    "        SELECT food_ID \n",
    "        FROM food\n",
    "        WHERE name = 'Hundefutter'\n",
    "        )''', conn))"
   ]
  },
  {
   "cell_type": "markdown",
   "id": "67abc809",
   "metadata": {},
   "source": [
    "Die Suquery kann in Zusammenhang mit Vergleichsoperatoren wie =, ==, <, >, >=, <=, <>, != und Aggregatsfunktionen eingesetzt werden.<br>\n",
    "<br>\n",
    "Beispiel:<br>\n",
    "Die Abfrage liefert *employee_ID*, *name* und *wage* der Verkäufer zurück, die über dem Durchschnittsgehalt verdienen."
   ]
  },
  {
   "cell_type": "code",
   "execution_count": null,
   "id": "2ff05abf",
   "metadata": {},
   "outputs": [],
   "source": [
    "print(pd.read_sql_query('''\n",
    "    SELECT employee_ID, name, wage, gender\n",
    "    FROM employee\n",
    "    WHERE wage > (\n",
    "        SELECT AVG(wage) \n",
    "        FROM employee\n",
    "        );''', conn))"
   ]
  },
  {
   "cell_type": "markdown",
   "id": "2b7d8504",
   "metadata": {
    "slideshow": {
     "slide_type": "subslide"
    }
   },
   "source": [
    "<h4> IN / NOT IN Operator </h4>"
   ]
  },
  {
   "cell_type": "markdown",
   "id": "f90c5759",
   "metadata": {},
   "source": [
    "Liefert die innere Abfrage mehrere Rückgabewerte, dann muss der IN oder der NOT IN Operator verwendet werden.<br>\n",
    "<br>\n",
    "Beispiel:\n",
    "Die Abfrage liefert die Kunden-ID der Kunden, die Futter aus Deutschland gekauft haben. Die innere Abfrage liefert die *food_ID*s, die zu Futter gehören, das in Deutschland hergestellt wurde."
   ]
  },
  {
   "cell_type": "code",
   "execution_count": null,
   "id": "595c98c6",
   "metadata": {
    "slideshow": {
     "slide_type": "-"
    }
   },
   "outputs": [],
   "source": [
    "print(pd.read_sql_query('''\n",
    "    SELECT C_ID \n",
    "    FROM customer_buys_food\n",
    "    WHERE F_ID IN\n",
    "       (SELECT food_ID \n",
    "       FROM food \n",
    "       WHERE origin == 'Deutschland')\n",
    "    ''', conn))"
   ]
  },
  {
   "cell_type": "markdown",
   "id": "01f6dabe",
   "metadata": {
    "slideshow": {
     "slide_type": "subslide"
    }
   },
   "source": [
    "<h4> EXISTS / NOT EXISTS Operator </h4>"
   ]
  },
  {
   "cell_type": "markdown",
   "id": "f3599c14",
   "metadata": {},
   "source": [
    "Um zu prüfen, ob bestimmte Zeilen in in einer Tabelle enthalten sind, kann der EXISTS bzw. der NOT EXISTS Operator eingesetzt werden.<br>\n",
    "<br>\n",
    "Beispiel:<br>\n",
    "Die Abfrage liefert *employee_ID* und *name* der Verkäufer zurück, deren *employee_ID* nicht in der Tabelle *customer_buys_food* auftaucht. Damit kann untersucht werden, welcher Verkäufer bisher nichts verkauft hat."
   ]
  },
  {
   "cell_type": "code",
   "execution_count": null,
   "id": "6ec86c1c",
   "metadata": {
    "slideshow": {
     "slide_type": "-"
    }
   },
   "outputs": [],
   "source": [
    "print(pd.read_sql_query('''\n",
    "    SELECT employee_ID, name\n",
    "    FROM employee\n",
    "    WHERE NOT EXISTS (\n",
    "        SELECT *\n",
    "        FROM customer_buys_food\n",
    "        WHERE E_ID = employee.employee_ID\n",
    "        );\n",
    "    ''', conn))"
   ]
  },
  {
   "cell_type": "markdown",
   "id": "8fb4c8e2",
   "metadata": {
    "slideshow": {
     "slide_type": "subslide"
    }
   },
   "source": [
    "<h4> Subqueries & FROM Operator </h4>"
   ]
  },
  {
   "cell_type": "markdown",
   "id": "485b6533",
   "metadata": {},
   "source": [
    "Subqueries können auch im FROM Abschnitt eingesetzt werden. Wichtig hierbei ist, dass jede Tabelle, die von einer Subquery innerhalb des FROM Abschnitts zurückliefert wird, einen Namen haben muss. Die Namensdefinition erfolgt über den AS Operator.<br><br>\n",
    "Beispiel:<br>\n",
    "Die innere Abfrage liefert eine Tabelle zurück, die den Inhalt der Spalten *employee_ID*, *name* und *wage* der Tabelle *employee* enthält, der zu männlichen Verkäufern gehört. In der äußeren Abfrage wird die Filterung des Gehalts auf die Tabelle der inneren Abfrage angewandt."
   ]
  },
  {
   "cell_type": "code",
   "execution_count": null,
   "id": "5d108803",
   "metadata": {
    "slideshow": {
     "slide_type": "-"
    }
   },
   "outputs": [],
   "source": [
    "print(pd.read_sql_query('''\n",
    "    SELECT employee_ID, name, wage \n",
    "    FROM (\n",
    "        SELECT employee_ID, name, wage \n",
    "        FROM employee \n",
    "        WHERE gender == 'm')\n",
    "        AS employee_male\n",
    "    WHERE wage > 2000; \n",
    "    ''', conn))"
   ]
  },
  {
   "cell_type": "markdown",
   "id": "fc84af4c",
   "metadata": {
    "slideshow": {
     "slide_type": "slide"
    }
   },
   "source": [
    "<h1>Übung 2</h1>"
   ]
  },
  {
   "cell_type": "markdown",
   "id": "5861d74d",
   "metadata": {
    "slideshow": {
     "slide_type": "skip"
    }
   },
   "source": [
    "### Klicke auf den \"*Open in Colab*\" Button um die Übung durchzuführen\n",
    "#### Aufgabe 2.1: Finde heraus, welche Bestellungen von Verkäufern abgewickelt wurden, die mehr als 2000 verdienen.\n",
    "#### Aufgabe 2.2: Finde heraus, welche Kunden Futter von weiblichen Verkäufern verkauft bekommen haben."
   ]
  },
  {
   "cell_type": "markdown",
   "id": "bfed0e43",
   "metadata": {},
   "source": [
    "[![Open in Colab](https://colab.research.google.com/assets/colab-badge.svg)](https://colab.research.google.com/github/Fuenfgeld/2022TeamBDataEngineeringBC/blob/main/Uebungen/Uebungen/Uebungen%20zu%20Teil%202.ipynb) "
   ]
  },
  {
   "cell_type": "markdown",
   "id": "245d5233",
   "metadata": {
    "slideshow": {
     "slide_type": "slide"
    }
   },
   "source": [
    "<h2> OLTP vs. OLAP </h2>\n",
    "Bei OLTP und OLAP handelt es sich um zwei unterschiedliche Benutzungsparadikmen, wie Datenbanken in einem System verwendet werden können."
   ]
  },
  {
   "cell_type": "markdown",
   "id": "52c9c627",
   "metadata": {
    "slideshow": {
     "slide_type": "subslide"
    }
   },
   "source": [
    "<h3>Einsatz</h3>"
   ]
  },
  {
   "cell_type": "markdown",
   "id": "5db000cc",
   "metadata": {},
   "source": [
    "**OLTP**<br>\n",
    "(Abk. für online transactional processing)<br>\n",
    "OLTP Anwendungen kommen im aktiven Tagesgeschäft bei der Echtzeit-Transaktionsverarbeitung zum Einsatz.<br>\n",
    "Zum Beispiel: Kunde bestellt im Online Shop, Kunde tätigt eine Überweisung.<br>\n",
    "<br>\n",
    "**OLAP**<br>\n",
    "(Abk. für online analytical processing)<br>\n",
    "Bei OLAP Anwendungen steht die Durchführung komplexer Analysen im Vordergrund (aggregieren, transformieren, auswerten). OLAP zählt neben Data Mining zu den Methoden der analytischen Informationssysteme. Die Zielgruppe ist hier das Management."
   ]
  },
  {
   "cell_type": "markdown",
   "id": "6f1a357e",
   "metadata": {},
   "source": [
    "<img src=https://raw.githubusercontent.com/Fuenfgeld/2022TeamBDataEngineeringBC/main/Presentation/Bilder/Einsatz.png width=\"900\">"
   ]
  },
  {
   "cell_type": "markdown",
   "id": "1c620001",
   "metadata": {
    "slideshow": {
     "slide_type": "subslide"
    }
   },
   "source": [
    "<h3>Anforderungen</h3>"
   ]
  },
  {
   "cell_type": "markdown",
   "id": "380aa2c5",
   "metadata": {},
   "source": [
    "**OLTP**<br>\n",
    "OLTP Anwendungen sind unternehmenskritische Anwendungen, da moderne Unternehmen von der Exsistenz und Korrektheit ihrer Daten abhängig sind. Da OLTP Anwendungen ihr Einsatz bei Geschäftsvorgängen finden, soll die Transaktion möglichst schnell und effektiv ablaufen. Wichtig ist, dass ein paralleler Zugriff auf die Daten möglich ist. Hauptaugenmerk liegt auf der Transaktionssicherheit. Es darf zu keinem Datenverlust kommen und die Daten müssen zu jeden Zeitpunkt konsistent bleiben. Dabei helfen die Transaktionskriterien \"ACID\": atomicity, consistency, isolation, durability.<br>\n",
    "<br>\n",
    "**OLAP**<br>\n",
    "Die Daten der OLAP Anwendungen sollten keinen Kontakt zu transaktionsorientierten Datenbeständen haben. Deshalb kommt hier oft ein Data Warehouse zum Einsatz. Bei OLAP Anwendungen liegt der Fokus darauf möglichst effektive und effiziente Auswertungen auf großen Datenmengen fahren zu können."
   ]
  },
  {
   "cell_type": "markdown",
   "id": "d5677ff4",
   "metadata": {},
   "source": [
    "<img src=https://raw.githubusercontent.com/Fuenfgeld/2022TeamBDataEngineeringBC/main/Presentation/Bilder/Anforderungen.png width=\"900\">"
   ]
  },
  {
   "cell_type": "markdown",
   "id": "8c1b295f",
   "metadata": {
    "slideshow": {
     "slide_type": "subslide"
    }
   },
   "source": [
    "<h3>Datenstruktur</h3>"
   ]
  },
  {
   "cell_type": "markdown",
   "id": "06e3fa9f",
   "metadata": {},
   "source": [
    "**OLTP**<br>\n",
    "Bei OLTP Anwendungen werden meist nur simple Abfragen durchgeführt. Die Daten werden deshalb in einem zweidimensionalen Modell (Tabelle) in 3. Normalform abgespeichert. Dabei basiert das Modell auf einer zeilenorientierten Logik. Das erleichtert das Auslesen und Einfügen von einzelnen Transkationen.<br>\n",
    "<br>\n",
    "**OLAP**<br>\n",
    "Da OLAP Anwendungen bei komplexen Abfragen zum Einsatz kommen wird hier eine mutidimensionale Datenstruktur zur Datenspeicherung gewählt. Das ganze wird als OLAP-Würfel bezeichnet. Bei OLAP Prozesse kommt hauptsächlich die spaltenorientiert Logik zum Einsatz. Für OLAP Anwendungen werden die Daten häufig im Sternschema angeordnet."
   ]
  },
  {
   "cell_type": "markdown",
   "id": "cad342da",
   "metadata": {},
   "source": [
    "<img src=https://raw.githubusercontent.com/Fuenfgeld/2022TeamBDataEngineeringBC/main/Presentation/Bilder/Struktur.png width=\"900\">"
   ]
  },
  {
   "cell_type": "markdown",
   "id": "d7001def",
   "metadata": {
    "slideshow": {
     "slide_type": "slide"
    }
   },
   "source": [
    "<h1> Teil 3 </h1>"
   ]
  },
  {
   "cell_type": "markdown",
   "id": "f80daa43",
   "metadata": {
    "slideshow": {
     "slide_type": "slide"
    }
   },
   "source": [
    "<h3>Sternschema</h3>"
   ]
  },
  {
   "cell_type": "markdown",
   "id": "7965a4e6",
   "metadata": {},
   "source": [
    "Als Sternschema wird eine organisierte Datenstruktur bezeichnet, deren zugehörige Tabellen sternförmig angeordnet sind. Im Zentrum des Schemas gibt es eine einzige sog. Faktentabelle. Die zugehörigen Daten stehen in verknüpften sog. Dimensionstabellen. Jede Dimensionstabelle ist mit der Faktentabelle über einen foreign key verbunden. Das Sternschema wird z.B. in einem Data Warehouse und bei OLAP Anwendungen eingesetzt. Diese Anordnung kommt vor allem dann zum Einsatz, wenn viele Abfragen durchgeführt werden müssen. Sie minimiert die Verwendung von zeitintensiven Join-Abfragen. Anomalien (Redundanzen) und ein erhöhter Speicherbedarf werden deshalb aus Performancegründen in Kauf genommen."
   ]
  },
  {
   "cell_type": "markdown",
   "id": "ebb614bd",
   "metadata": {},
   "source": [
    "<img src=https://raw.githubusercontent.com/Fuenfgeld/2022TeamBDataEngineeringBC/main/Presentation/Bilder/Sternschema_Einf%C3%BChrung.png width=\"1000\">"
   ]
  },
  {
   "cell_type": "markdown",
   "id": "a1e7e291",
   "metadata": {
    "slideshow": {
     "slide_type": "slide"
    }
   },
   "source": [
    "<h3>Faktentabelle</h3>"
   ]
  },
  {
   "cell_type": "markdown",
   "id": "d26ed3b5",
   "metadata": {},
   "source": [
    "In einer Faktentabellen können bspw. Fakten, Metriken, Messwerte oder/und Kennzahlen enthalten sein. Jede Zeile bekommt seine eindeutige numerische Zuordnung: ein zusammengesetzter Schlüssel aus den Primärschlüsseln der Dimensionstabellen. Faktentabellen speichern ihre Daten nicht direkt, sondern verweisen über den foreign key auf Zeilen von verknüpften Dimensionstabellen. Sie können oft mehr als 10 Millionen Datensätze umfassen und werden in der 3. Normalfom gespeichert."
   ]
  },
  {
   "cell_type": "markdown",
   "id": "4fb1403b",
   "metadata": {
    "slideshow": {
     "slide_type": "-"
    }
   },
   "source": [
    "<img src=https://raw.githubusercontent.com/Fuenfgeld/2022TeamBDataEngineeringBC/main/Presentation/Bilder/Faktentabelle.png width=\"1000\">"
   ]
  },
  {
   "cell_type": "markdown",
   "id": "4af94e74",
   "metadata": {
    "slideshow": {
     "slide_type": "slide"
    }
   },
   "source": [
    "<h3>Dimensionstabellen</h3>"
   ]
  },
  {
   "cell_type": "markdown",
   "id": "d9e28684",
   "metadata": {},
   "source": [
    "Dimensionstabellen enthalten die \"beschreibenden\" Daten, die Attribute bzw. Eigenschaften der Fakten. Sie sind vergleichsweiße statisch und erheblich kleiner als die Faktentabelle. Jede Zeile in einer Dimensionstabelle wird eindeutig identifiziert und als foreign key in der Faktentabelle gespeichert. Somit sind Fakten- und Dimensionstabelle über eine 1:n-Beziehung miteinander verknüpft. Der Name Dimensionstabelle kommt daher, da jede Dimensionstabelle in einem Sternschema eine Dimension des mehrdimensionalen OLAP-Würfels darstellt. Bei den Dimensionstabellen wird auf eine Normalisierung verzichtet, sie sind nur bis zur 2. Normalform optimiert."
   ]
  },
  {
   "cell_type": "markdown",
   "id": "cae29183",
   "metadata": {
    "slideshow": {
     "slide_type": "-"
    }
   },
   "source": [
    "<img src=https://raw.githubusercontent.com/Fuenfgeld/2022TeamBDataEngineeringBC/main/Presentation/Bilder/Dimensionstabellen.png width=\"1000\">"
   ]
  },
  {
   "cell_type": "markdown",
   "id": "7c9a6353",
   "metadata": {},
   "source": [
    "Folgene Abbildung zeigt die Tabellenanordnung des Sternschemas. Mittig ist die Faktentabelle dargestellt, die über die foreign keys mit den umliegenden Dimensionstabellen verknüpft ist."
   ]
  },
  {
   "cell_type": "markdown",
   "id": "f84d04c9",
   "metadata": {
    "slideshow": {
     "slide_type": "slide"
    }
   },
   "source": [
    "<img src=https://raw.githubusercontent.com/Fuenfgeld/2022TeamBDataEngineeringBC/main/Presentation/Bilder/Starnschema_Aufbau.png width=\"750\">"
   ]
  },
  {
   "cell_type": "markdown",
   "id": "5a31abf9",
   "metadata": {},
   "source": [
    "Quelle der obigen Abbildung: https://de.wikipedia.org/wiki/Sternschema"
   ]
  },
  {
   "cell_type": "markdown",
   "id": "46ae0378",
   "metadata": {
    "slideshow": {
     "slide_type": "slide"
    }
   },
   "source": [
    "<h3>Erstellen des Sternschemas</h3> "
   ]
  },
  {
   "cell_type": "markdown",
   "id": "e916a656",
   "metadata": {},
   "source": [
    "Zur Erinnerung sind in der folgenden Abbildung die Tabellen unserer initialen Datenbankstruktur dargestellt:"
   ]
  },
  {
   "cell_type": "markdown",
   "id": "ed6f384f",
   "metadata": {
    "slideshow": {
     "slide_type": "subslide"
    }
   },
   "source": [
    "<img src=https://raw.githubusercontent.com/Fuenfgeld/2022TeamBDataEngineeringBC/main/Presentation/Bilder/tabellen_spalten.png width=\"900\">"
   ]
  },
  {
   "cell_type": "markdown",
   "id": "377802e4",
   "metadata": {},
   "source": [
    "Für unsere Sternschema-Datenbank werden die Tabellen *food*, *customer* und *employee* übernommen. <br>\n",
    "Die Tabelle *food* wurde um das Tier aus der Tabelle *animals* erweitert, da die beiden Tabellen eine 1:1 Beziehung haben. <br>\n",
    "Die Tabelle *orders* wird nicht mehr benötigt, da alle Daten aus dieser Tabelle in die Faktentabelle übernommen werden. <br>\n",
    "\n",
    "<br>\n",
    "Den neuen Tabellen sind durch den Ausdruck *_new* gekennzeichnet, werden aber mit den Daten aus der alten Tabellen befüllt."
   ]
  },
  {
   "cell_type": "code",
   "execution_count": null,
   "id": "6f8518c3",
   "metadata": {
    "slideshow": {
     "slide_type": "skip"
    }
   },
   "outputs": [],
   "source": [
    "# create new tables food_new, customer_new, employee_new\n",
    "cursor.execute('''CREATE TABLE IF NOT EXISTS food_new(\n",
    "                  food_id INT PRIMARY KEY,\n",
    "                  name TEXT,\n",
    "                  price_per_kg FLOAT,\n",
    "                  producer TEXT,\n",
    "                  origin TEXT,\n",
    "                  animal TEXT\n",
    "                  );''')\n",
    "\n",
    "cursor.execute('''CREATE TABLE IF NOT EXISTS customer_new(\n",
    "                  cust_id INT PRIMARY KEY NOT NULL UNIQUE,\n",
    "                  name TEXT,\n",
    "                  postal_code nvarchar(5),\n",
    "                  city TEXT\n",
    "                  );''')\n",
    "\n",
    "cursor.execute('''CREATE TABLE IF NOT EXISTS employee_new(\n",
    "                  empl_id INT PRIMARY KEY NOT NULL UNIQUE,\n",
    "                  name TEXT,\n",
    "                  gender nvarchar(1),\n",
    "                  wage INT\n",
    "                  );''')\n",
    "\n",
    "conn.commit()\n",
    "\n",
    "# insert data from old database into food_new, employee_new, \n",
    "cursor.execute('''INSERT INTO food_new(food_id, name, price_per_kg, producer, origin, animal)\n",
    "                  SELECT food.food_ID, food.name, food.price_per_kg, food.producer, food.origin, animals.name\n",
    "                  FROM food\n",
    "                  INNER JOIN animals ON food.food_ID = animals.food;\n",
    "                  ''')\n",
    "    \n",
    "cursor.execute('''INSERT INTO customer_new(cust_id, name, postal_code, city)\n",
    "                  SELECT customer_ID, name, postal_code, city\n",
    "                  FROM customer;\n",
    "                  ''')\n",
    "\n",
    "\n",
    "cursor.execute('''INSERT INTO employee_new(empl_id, name, gender, wage)\n",
    "                  SELECT employee_ID, name, gender, wage\n",
    "                  FROM employee;\n",
    "                  ''')\n",
    "\n",
    "conn.commit()\n",
    "cursor.execute(''' SELECT * FROM food_new;''')\n",
    "records = cursor.fetchall()\n",
    "      \n",
    "cursor.execute(''' SELECT * FROM customer_new;''')\n",
    "records = cursor.fetchall()\n",
    "\n",
    "conn.commit()\n",
    "cursor.execute(''' SELECT * FROM employee_new;''')\n",
    "records = cursor.fetchall()"
   ]
  },
  {
   "cell_type": "markdown",
   "id": "1057ed1a",
   "metadata": {
    "slideshow": {
     "slide_type": "slide"
    }
   },
   "source": [
    "<h2> Anwenden von JOINs </h2> <br>\n",
    "Für die Erstellung der Sternschema-Datenbank müssen wir mehrere Tabellen verbinden, um daraus Daten zu extrahieren. Dafür benötigen wir JOINs."
   ]
  },
  {
   "cell_type": "markdown",
   "id": "62e41481",
   "metadata": {
    "slideshow": {
     "slide_type": "slide"
    }
   },
   "source": [
    "<h4> Anwendung INNER JOIN </h4>"
   ]
  },
  {
   "cell_type": "markdown",
   "id": "be9500f7",
   "metadata": {},
   "source": [
    "Zur Wiederholung: <br>\n",
    "Der SQLite INNER JOIN Befehl gibt die Daten zurück, bei denen sich Tabelle *employee* und Tabelle *orders* überschneiden."
   ]
  },
  {
   "cell_type": "markdown",
   "id": "31561177",
   "metadata": {},
   "source": [
    "<img src=https://raw.githubusercontent.com/Fuenfgeld/2022TeamBDataEngineeringBC/main/Presentation/Bilder/innerjoin.png width=\"800\">"
   ]
  },
  {
   "cell_type": "markdown",
   "id": "7a3b91be",
   "metadata": {
    "slideshow": {
     "slide_type": "slide"
    }
   },
   "source": [
    "<h4> Anwendung LEFT OUTER JOIN </h4>"
   ]
  },
  {
   "cell_type": "markdown",
   "id": "770cde7d",
   "metadata": {},
   "source": [
    "Zur Wiederholung:<br>\n",
    "Der Befehl LEFT OUTER JOIN gibt alle Zeilen aus der Tabelle *animals* und nur die Zeilen aus der Tabelle *food* zurück, die auch mit der Tabelle *animals* verknüpft sind. "
   ]
  },
  {
   "cell_type": "markdown",
   "id": "d7c78086",
   "metadata": {},
   "source": [
    "<img src=https://raw.githubusercontent.com/Fuenfgeld/2022TeamBDataEngineeringBC/main/Presentation/Bilder/leftjoin.png width=\"800\">\n",
    "    \n"
   ]
  },
  {
   "cell_type": "markdown",
   "id": "a56151a0",
   "metadata": {
    "slideshow": {
     "slide_type": "slide"
    }
   },
   "source": [
    "## Faktentabelle"
   ]
  },
  {
   "cell_type": "markdown",
   "id": "8cc25928",
   "metadata": {},
   "source": [
    "Die Faktentabelle *sales* erhält alle Daten aus der Tabelle *orders* (*order_Nr* ,*transact*, *date*). \n",
    "*customer_ID*, *employee_ID* und *food_ID* werden als foreign key zu den Tabellen customer_new, employee_new, food_new referenziert. "
   ]
  },
  {
   "cell_type": "code",
   "execution_count": null,
   "id": "366d4491",
   "metadata": {
    "slideshow": {
     "slide_type": "subslide"
    }
   },
   "outputs": [],
   "source": [
    "cursor.execute('''CREATE TABLE IF NOT EXISTS sales(\n",
    "                  order_nr INT PRIMARY KEY NOT NULL UNIQUE,\n",
    "                  transact,\n",
    "                  date DATE,\n",
    "                  customer_id int, \n",
    "                  food_id INT,\n",
    "                  amount INT,\n",
    "                  employee_id INT,\n",
    "                  foreign key(food_id) references food_new(food_id),\n",
    "                  foreign key(customer_id) references customer_new(cust_id),\n",
    "                  foreign key(employee_id) references employee_new(empl_id)\n",
    "                  );''')"
   ]
  },
  {
   "cell_type": "markdown",
   "id": "33637d78",
   "metadata": {},
   "source": [
    "Für die Erstellung der Faktentabelle müssen die Tabellen *orders*, *customer_buys_food* und *food* mit JOIN verbunden werden. So werden alle Daten in der neuen Tabelle *sales* zusammengefasst. "
   ]
  },
  {
   "cell_type": "code",
   "execution_count": null,
   "id": "e6dc4b92",
   "metadata": {
    "slideshow": {
     "slide_type": "slide"
    }
   },
   "outputs": [],
   "source": [
    "cursor.execute('''INSERT INTO sales( order_nr, transact, date, customer_id, food_id, amount,employee_id )\n",
    "    SELECT order_Nr,transact, date, C_ID, food_ID, amount, E_ID \n",
    "    FROM orders\n",
    "    LEFT JOIN \n",
    "        customer_buys_food ON orders.order_Nr = customer_buys_food.O_ID\n",
    "    LEFT JOIN \n",
    "        food ON customer_buys_food.F_ID = food.food_ID;\n",
    "    ''')"
   ]
  },
  {
   "cell_type": "markdown",
   "id": "0360f441",
   "metadata": {},
   "source": [
    "Kontrolle mithilfe der PRAGMA Funktion:"
   ]
  },
  {
   "cell_type": "code",
   "execution_count": null,
   "id": "72a94b3f",
   "metadata": {
    "slideshow": {
     "slide_type": "skip"
    }
   },
   "outputs": [],
   "source": [
    "cursor.execute(''' PRAGMA table_info(sales);''')\n",
    "records = cursor.fetchall()"
   ]
  },
  {
   "cell_type": "markdown",
   "id": "9b216223",
   "metadata": {
    "slideshow": {
     "slide_type": "slide"
    }
   },
   "source": [
    "<h2> Inhalte der neuen Tabellen </h2>"
   ]
  },
  {
   "cell_type": "markdown",
   "id": "fab26f52",
   "metadata": {
    "slideshow": {
     "slide_type": "slide"
    }
   },
   "source": [
    "<h3> Inhalt der Faktentabelle </h3>"
   ]
  },
  {
   "cell_type": "code",
   "execution_count": null,
   "id": "927c63f1",
   "metadata": {
    "slideshow": {
     "slide_type": "-"
    }
   },
   "outputs": [],
   "source": [
    "print(pd.read_sql_query(\"SELECT * FROM sales\", conn))"
   ]
  },
  {
   "cell_type": "markdown",
   "id": "4a36babf",
   "metadata": {
    "slideshow": {
     "slide_type": "slide"
    }
   },
   "source": [
    "<h3> Inhalt der Dimensionstabellen </h3>"
   ]
  },
  {
   "cell_type": "code",
   "execution_count": null,
   "id": "35da6852",
   "metadata": {
    "slideshow": {
     "slide_type": "-"
    }
   },
   "outputs": [],
   "source": [
    "print(pd.read_sql_query(\"SELECT * FROM employee_new\", conn))"
   ]
  },
  {
   "cell_type": "code",
   "execution_count": null,
   "id": "fd2903ca",
   "metadata": {
    "slideshow": {
     "slide_type": "-"
    }
   },
   "outputs": [],
   "source": [
    "print(pd.read_sql_query(\"SELECT * FROM food_new\", conn))"
   ]
  },
  {
   "cell_type": "code",
   "execution_count": null,
   "id": "7c261bcf",
   "metadata": {},
   "outputs": [],
   "source": [
    "print(pd.read_sql_query(\"SELECT * FROM customer_new\", conn))"
   ]
  },
  {
   "cell_type": "markdown",
   "id": "3aa663e7",
   "metadata": {
    "slideshow": {
     "slide_type": "slide"
    }
   },
   "source": [
    "Tabellen des erstellten Sternschemas:"
   ]
  },
  {
   "cell_type": "markdown",
   "id": "43c9055d",
   "metadata": {
    "slideshow": {
     "slide_type": "-"
    }
   },
   "source": [
    "<img src=https://raw.githubusercontent.com/Fuenfgeld/2022TeamBDataEngineeringBC/main/Presentation/Bilder/Sternschema_DB.png width=\"1000\">"
   ]
  },
  {
   "cell_type": "markdown",
   "id": "f1d44691",
   "metadata": {},
   "source": [
    "Zum Abschluss folgen zwei Beispielabfragen, die auf unsere neue Datenstruktur angewendet werden."
   ]
  },
  {
   "cell_type": "markdown",
   "id": "e1b22f70",
   "metadata": {
    "slideshow": {
     "slide_type": "slide"
    }
   },
   "source": [
    "### SQLite Abfragen Sternschema: <br> INNER JOIN\n",
    "Wie viel Geld hat jeder Kunder ausgegeben?"
   ]
  },
  {
   "cell_type": "code",
   "execution_count": null,
   "id": "9fb28f7c",
   "metadata": {
    "slideshow": {
     "slide_type": "-"
    }
   },
   "outputs": [],
   "source": [
    "print(pd.read_sql_query('''\n",
    "    SELECT customer_id, food_new.price_per_kg*amount as sum \n",
    "    FROM sales\n",
    "    INNER JOIN \n",
    "        food_new ON sales.food_id = food_new.food_id \n",
    "    GROUP BY customer_id\n",
    "    ORDER by sum DESC\n",
    "    ''', conn))"
   ]
  },
  {
   "cell_type": "markdown",
   "id": "92571940",
   "metadata": {
    "slideshow": {
     "slide_type": "slide"
    }
   },
   "source": [
    "### SQLite Abfragen Sternschema: <br> INNER JOIN  & LEFT JOIN & GROUP BY & ORDER BY  \n",
    "Welcher Verkäufer hat am meisten Umsatz erwirtschaftet?"
   ]
  },
  {
   "cell_type": "code",
   "execution_count": null,
   "id": "83cbd8ca",
   "metadata": {
    "slideshow": {
     "slide_type": "-"
    }
   },
   "outputs": [],
   "source": [
    "print(pd.read_sql_query('''\n",
    "    SELECT employee_new.name as employee, sales.amount, food_new.price_per_kg,\n",
    "    SUM(food_new.price_per_kg*sales.amount) as sum_sales\n",
    "    FROM employee_new\n",
    "    LEFT JOIN \n",
    "        sales ON employee_new.empl_id = sales.employee_id\n",
    "    INNER JOIN \n",
    "        food_new ON sales.food_id = food_new.food_id\n",
    "    GROUP BY employee_new.name\n",
    "    ORDER BY sum_sales DESC\n",
    "    ''', conn))"
   ]
  },
  {
   "cell_type": "markdown",
   "id": "599fa271",
   "metadata": {
    "slideshow": {
     "slide_type": "slide"
    }
   },
   "source": [
    "<h1>Übung 3</h1>"
   ]
  },
  {
   "cell_type": "markdown",
   "id": "72d547a7",
   "metadata": {
    "slideshow": {
     "slide_type": "skip"
    }
   },
   "source": [
    "### Klicke auf den \"*Open in Colab*\" Button um die Übung durchzuführen\n",
    "#### Aufgabe 3.1: Finde heraus welche Futter am meisten verkauft wurde.\n",
    "#### Aufgabe 2.2: Finde heraus, welcher Verkäufer am häufigsten Bestellungen abgeschlossen hat."
   ]
  },
  {
   "cell_type": "markdown",
   "id": "443bbf75",
   "metadata": {},
   "source": [
    "[![Open in Colab](https://colab.research.google.com/assets/colab-badge.svg)](https://colab.research.google.com/github/Fuenfgeld/2022TeamBDataEngineeringBC/blob/main/Uebungen/Uebungen/Uebungen%20zu%20Teil%203.ipynb)"
   ]
  }
 ],
 "metadata": {
  "celltoolbar": "Slideshow",
  "kernelspec": {
   "display_name": "Python 3",
   "language": "python",
   "name": "python3"
  },
  "language_info": {
   "codemirror_mode": {
    "name": "ipython",
    "version": 3
   },
   "file_extension": ".py",
   "mimetype": "text/x-python",
   "name": "python",
   "nbconvert_exporter": "python",
   "pygments_lexer": "ipython3",
   "version": "3.8.8"
  }
 },
 "nbformat": 4,
 "nbformat_minor": 5
}
