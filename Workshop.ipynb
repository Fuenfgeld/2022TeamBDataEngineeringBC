{
 "cells": [
  {
   "cell_type": "markdown",
   "metadata": {},
   "source": [
    "[![Open in Colab](https://colab.research.google.com/assets/colab-badge.svg)](https://colab.research.google.com/github/Fuenfgeld/2022TeamBDataEngineeringBC/blob/main/Workshop.ipynb)"
   ]
  },
  {
   "cell_type": "markdown",
   "metadata": {
    "id": "lZfbJN0EadMl"
   },
   "source": [
    "# SQLite Workshop"
   ]
  },
  {
   "cell_type": "markdown",
   "metadata": {},
   "source": [
    "### Bitte führen Sie die nächsten beiden Codeabschnitte aus"
   ]
  },
  {
   "cell_type": "code",
   "execution_count": null,
   "metadata": {},
   "outputs": [],
   "source": [
    "#Load Libraries\n",
    "import sqlite3\n",
    "import pandas as pd\n",
    "\n",
    "# Load GitHub repo\n",
    "%cd /content/\n",
    "%rm -r ./2022TeamBDataEngineeringBC\n",
    "!git clone https://github.com/Fuenfgeld/2022TeamBDataEngineeringBC.git\n",
    "%cd ./2022TeamBDataEngineeringBC/"
   ]
  },
  {
   "cell_type": "code",
   "execution_count": null,
   "metadata": {},
   "outputs": [],
   "source": [
    "# Connect to Database\n",
    "conn = sqlite3.connect('sqlite_workshop.db')\n",
    "cursor = conn.cursor()\n",
    "print(\"Opened database successfully\");\n",
    "\n",
    "# Delete table if exists \n",
    "cursor.execute(\"DROP TABLE IF EXISTS food\")\n",
    "cursor.execute(\"DROP TABLE IF EXISTS orders\")\n",
    "cursor.execute(\"DROP TABLE IF EXISTS animals\")\n",
    "cursor.execute(\"DROP TABLE IF EXISTS customer\")\n",
    "cursor.execute(\"DROP TABLE IF EXISTS customer_buys_food\")\n",
    "cursor.execute(\"DROP TABLE IF EXISTS employee\")\n",
    "cursor.execute(\"DROP TABLE IF EXISTS sales\")\n",
    "cursor.execute(\"DROP TABLE IF EXISTS food_new\")\n",
    "cursor.execute(\"DROP TABLE IF EXISTS customer_new\")\n",
    "cursor.execute(\"DROP TABLE IF EXISTS employee_new\")\n",
    "cursor.execute(\"DROP TABLE IF EXISTS Liga\")\n",
    "cursor.execute(\"DROP TABLE IF EXISTS Verein\")\n",
    "cursor.execute(\"DROP TABLE IF EXISTS Spieler\")\n",
    "\n",
    "# Create tables\n",
    "cursor.execute('''\n",
    "\t\tCREATE TABLE IF NOT EXISTS Liga (\n",
    "            L_name nvarchar(80) primary key,\n",
    "            Anzahl_Vereine int\n",
    "\t\t\t)\n",
    "               ''')\n",
    "\n",
    "cursor.execute('''\n",
    "\t\tCREATE TABLE IF NOT EXISTS Verein (\n",
    "\t\t\tV_name nvarchar(80) primary key,\n",
    "            Liga nvarchar(80),\n",
    "            Anzahl_Meisterschaften int,\n",
    "            foreign key(Liga) references Liga(L_name)\n",
    "\n",
    "\t\t\t)\n",
    "               ''')\n",
    "\n",
    "cursor.execute('''\n",
    "\t\tCREATE TABLE IF NOT EXISTS Spieler (\n",
    "\t\t\tS_name nvarchar(80) primary key,\n",
    "            Verein nvarchar(80),\n",
    "            foreign key(Verein) references Verein(V_name)\n",
    "\n",
    "\t\t\t)\n",
    "               ''')\n",
    "\n",
    "# fill tables for Part 1\n",
    "cursor.execute('''\n",
    "\t\tINSERT INTO Liga (L_name,Anzahl_Vereine)\n",
    "            VALUES\n",
    "            (\"1. Bundesliga\", 18),\n",
    "            (\"2. Bundesliga\", 18), \n",
    "            (\"3. Bundesliga\",20)\n",
    "\n",
    "\t\t\t\n",
    "               ''')\n",
    "\n",
    "cursor.execute('''\n",
    "\t\tINSERT INTO Verein (V_name, Liga, Anzahl_Meisterschaften)\n",
    "            VALUES\n",
    "            (\"1. FC Bayern Muenchen\", \"1. Bundesliga\", 32),\n",
    "            (\"2. FC Kaiserslautern\", \"3. Bundesliga\", 4), \n",
    "            ( \"SV Waldhof Mannheim\", \"3. Bundesliga\", 0)\n",
    "\n",
    "\t\t\t\n",
    "               ''')\n",
    "cursor.execute('''\n",
    "\t\tINSERT INTO Spieler (S_name, Verein)\n",
    "            VALUES\n",
    "            (\"Manuel Neuer\",\"1. FC Bayern Muenchen\"),\n",
    "            (\"Matheo Raab\", \"1. FC Kaiserslautern\"), \n",
    "            (\"Timo Koenigsmann\", \"SV Waldhof Mannheim\")\n",
    "\n",
    "\t\t\t\n",
    "               ''')\n"
   ]
  },
  {
   "cell_type": "markdown",
   "metadata": {},
   "source": [
    "# Aufgabe zu Teil 1\n"
   ]
  },
  {
   "cell_type": "markdown",
   "metadata": {},
   "source": [
    "## 1.1 Ersetze die Fragezeichen, um eine gültige PRAGMA Funktion zu nutzen\n",
    "## 1.2 Zeichne anschließend ein ER-Diagramm"
   ]
  },
  {
   "cell_type": "code",
   "execution_count": null,
   "metadata": {},
   "outputs": [],
   "source": [
    "# Tabellennamen herausfinden\n",
    "print(pd.read_sql_query(\"SELECT name FROM sqlite_master WHERE type='table';\", conn))\n"
   ]
  },
  {
   "cell_type": "code",
   "execution_count": null,
   "metadata": {},
   "outputs": [],
   "source": [
    "# Private Keys herausfinden\n",
    "print(pd.read_sql_query(\"???('???')\", conn))\n",
    "print(\"----------------------------------------\")\n",
    "print(pd.read_sql_query(\"???('???')\", conn))\n",
    "print(\"----------------------------------------\")\n",
    "print(pd.read_sql_query(\"???('???')\", conn))"
   ]
  },
  {
   "cell_type": "code",
   "execution_count": null,
   "metadata": {},
   "outputs": [],
   "source": [
    "# Foreign keys herausfinden\n",
    "print(pd.read_sql_query(\"PRAGMA ???('???')\", conn))\n",
    "print(\"----------------------------------------\")\n",
    "print(pd.read_sql_query(\"PRAGMA ???('???')\", conn))\n",
    "print(\"----------------------------------------\")\n",
    "print(pd.read_sql_query(\"PRAGMA ???('???')\", conn))"
   ]
  },
  {
   "cell_type": "code",
   "execution_count": null,
   "metadata": {},
   "outputs": [],
   "source": [
    "print(pd.read_sql_query(\"SELECT * FROM Liga\", conn))\n",
    "print(\"----------------------------------------\")\n",
    "print(pd.read_sql_query(\"SELECT * FROM Verein\", conn))\n",
    "print(\"----------------------------------------\")\n",
    "print(pd.read_sql_query(\"SELECT * FROM Spieler\", conn))"
   ]
  },
  {
   "cell_type": "markdown",
   "metadata": {
    "id": "2ySsuxihadMt"
   },
   "source": [
    "## Bitte führen Sie diesen Teil aus "
   ]
  },
  {
   "cell_type": "code",
   "execution_count": null,
   "metadata": {},
   "outputs": [],
   "source": [
    "# Daten einlesen\n",
    "food = pd.read_csv('tables/initial_tables/Futter.csv', sep=\";\")\n",
    "customer = pd.read_csv('tables/initial_tables/Kunden.csv', sep=\";\")\n",
    "animals = pd.read_csv('tables/initial_tables/Tiere.csv', sep=\";\")\n",
    "orders = pd.read_csv('tables/initial_tables/Order.csv', sep=\";\")\n",
    "employee = pd.read_csv('tables/initial_tables/Verkaeufer.csv', sep=\";\")\n",
    "customer_buys_food = pd.read_csv('tables/initial_tables/Customer_buys_Food.csv', sep=\";\")\n",
    "\n",
    "\n",
    "# Tabellen erstellen\n",
    "cursor.execute('''\n",
    "\t\tCREATE TABLE IF NOT EXISTS customer (\n",
    "\t\t\tcustomer_ID int primary key,\n",
    "            name nvarchar(50),\n",
    "\t\t\tpostal_code nvarchar(5),\n",
    "\t\t\tcity nvarchar(50)\n",
    "\t\t\t)\n",
    "               ''')\n",
    "\n",
    "cursor.execute('''\n",
    "\t\tCREATE TABLE IF NOT EXISTS employee (\n",
    "\t\t\temployee_ID int primary key,\n",
    "            name nvarchar(50),\n",
    "            gender nvarchar(1),\n",
    "\t\t\twage int\n",
    "\t\t\t)\n",
    "               ''')\n",
    "\n",
    "cursor.execute('''\n",
    "\t\tCREATE TABLE IF NOT EXISTS food (\n",
    "\t\t\tfood_ID int primary key,\n",
    "            name nvarchar(50),\n",
    "\t\t\tprice_per_kg float,\n",
    "            producer nvarchar(50),\n",
    "            origin nvarchar(50)\n",
    "\t\t\t)\n",
    "               ''')\n",
    "\n",
    "cursor.execute('''\n",
    "\t\tCREATE TABLE IF NOT EXISTS animals (\n",
    "            name nvarchar(50) primary key,\n",
    "\t\t\tfood int,\n",
    "\t\t\tforeign key(food) references food(food_ID)\n",
    "\t\t\t)\n",
    "               ''') \n",
    "cursor.execute('''\n",
    "\t\tCREATE TABLE IF NOT EXISTS orders (\n",
    "            order_Nr int primary key,\n",
    "            date Date,\n",
    "            transact int\n",
    "\t\t\t)\n",
    "               ''')\n",
    "\n",
    "\n",
    "cursor.execute('''\n",
    "\t\tCREATE TABLE IF NOT EXISTS customer_buys_food (\n",
    "            C_ID int,\n",
    "            F_ID int,\n",
    "\t\t\tamount int,\n",
    "            O_ID int,\n",
    "            E_ID int,\n",
    "            foreign key(C_ID) references customer(customer_ID)\n",
    "\t\t\tforeign key(F_ID) references food(food_ID)\n",
    "            foreign key(O_ID) references orders(order_Nr)\n",
    "            foreign key(E_ID) references employee(employee_ID)\n",
    "\t\t\t)\n",
    "               ''') \n",
    "\n",
    "# Insert Dataframe in Table\n",
    "customer.to_sql('customer', conn, if_exists='append', index=False)\n",
    "animals.to_sql('animals', conn, if_exists='append', index=False)\n",
    "food.to_sql('food', conn, if_exists='append', index=False)\n",
    "orders.to_sql('orders', conn, if_exists='append', index=False)\n",
    "employee.to_sql('employee', conn, if_exists='append', index=False)\n",
    "customer_buys_food.to_sql('customer_buys_food', conn, if_exists='append', index=False)"
   ]
  },
  {
   "cell_type": "markdown",
   "metadata": {
    "id": "4QthnM4tadMw"
   },
   "source": [
    "### Hiermit werden die Tabelleninhalte angezeigt"
   ]
  },
  {
   "cell_type": "code",
   "execution_count": null,
   "metadata": {
    "colab": {
     "base_uri": "https://localhost:8080/"
    },
    "id": "EaYhlJx3adMx",
    "outputId": "9140483f-237d-4783-98c8-42d99d0c51da"
   },
   "outputs": [],
   "source": [
    "print(\"Tabelle customer\")\n",
    "print(pd.read_sql_query(\"SELECT * FROM customer\", conn))\n",
    "print(\"--------------------------------------------------------\")\n",
    "print(\"Tabelle food\")\n",
    "print(pd.read_sql_query(\"SELECT * FROM food\", conn))\n",
    "print(\"--------------------------------------------------------\")\n",
    "print(\"Tabelle animals\")\n",
    "print(pd.read_sql_query(\"SELECT * FROM animals\", conn))\n",
    "print(\"--------------------------------------------------------\")\n",
    "print(\"Tabelle orders\")\n",
    "print(pd.read_sql_query(\"SELECT * FROM orders\", conn))\n",
    "print(\"--------------------------------------------------------\")\n",
    "print(\"Tabelle employee\")\n",
    "print(pd.read_sql_query(\"SELECT * FROM employee\", conn))\n",
    "print(\"--------------------------------------------------------\")\n",
    "print(\"Tabellen customer_buys_food\")\n",
    "print(pd.read_sql_query(\"SELECT * FROM customer_buys_food\", conn))\n",
    "print(\"--------------------------------------------------------\")"
   ]
  },
  {
   "cell_type": "markdown",
   "metadata": {},
   "source": [
    "# Aufgaben zu Teil 2"
   ]
  },
  {
   "cell_type": "markdown",
   "metadata": {},
   "source": [
    "## ER-Diagramm"
   ]
  },
  {
   "cell_type": "markdown",
   "metadata": {},
   "source": [
    "[<img src=\"https://raw.githubusercontent.com/Fuenfgeld/2022TeamBDataEngineeringBC/main/Presentation/Bilder/nur_tabellen.draw_io.drawio_3.png\">](https://raw.githubusercontent.com/Fuenfgeld/2022TeamBDataEngineeringBC/main/Presentation/Bilder/nur_tabellen.draw_io.drawio_3.png)"
   ]
  },
  {
   "cell_type": "markdown",
   "metadata": {},
   "source": [
    "## SUBSELECTS"
   ]
  },
  {
   "cell_type": "markdown",
   "metadata": {},
   "source": [
    "#### Beispiel: Welche Kunden (C_ID) haben Futter gekauft, das in China hergestellt wurde?"
   ]
  },
  {
   "cell_type": "code",
   "execution_count": null,
   "metadata": {},
   "outputs": [],
   "source": [
    "print(pd.read_sql_query('''\n",
    "    SELECT C_ID \n",
    "    FROM customer_buys_food\n",
    "    WHERE F_ID =\n",
    "       (SELECT food_ID FROM food WHERE origin == 'China')\n",
    "    ''', conn))"
   ]
  },
  {
   "cell_type": "markdown",
   "metadata": {},
   "source": [
    "### Aufgabe 2.1: Welche Bestellungen (O_ID) wurden von den Verkäufern abgewickelt, die mehr als 2000 verdienen?"
   ]
  },
  {
   "cell_type": "code",
   "execution_count": null,
   "metadata": {},
   "outputs": [],
   "source": [
    "print(pd.read_sql_query('''\n",
    "     SELECT O_ID \n",
    "     FROM customer_buys_food\n",
    "     WHERE E_ID IN\n",
    "       (SELECT employee_ID FROM employee WHERE employee.wage > 2000)\n",
    "     ''', conn))"
   ]
  },
  {
   "cell_type": "markdown",
   "metadata": {},
   "source": [
    "### Aufgabe 2.2: Welche Kunden (name) haben Futter von weiblichen Verkäufern verkauft bekommen?"
   ]
  },
  {
   "cell_type": "code",
   "execution_count": null,
   "metadata": {},
   "outputs": [],
   "source": [
    "print(pd.read_sql_query('''\n",
    "    SELECT name\n",
    "    FROM customer\n",
    "    WHERE customer_ID IN (\n",
    "        SELECT C_ID\n",
    "        FROM customer_buys_food\n",
    "        WHERE E_ID IN (\n",
    "            SELECT employee_ID \n",
    "            FROM employee \n",
    "            WHERE gender == 'w')\n",
    "        )\n",
    "    ''', conn))"
   ]
  },
  {
   "cell_type": "markdown",
   "metadata": {},
   "source": [
    "## JOINS"
   ]
  },
  {
   "cell_type": "markdown",
   "metadata": {},
   "source": [
    "#### Beispiel: Welcher Verkäufer hat am meisten Umsatz erwirtschaftet?"
   ]
  },
  {
   "cell_type": "code",
   "execution_count": null,
   "metadata": {},
   "outputs": [],
   "source": [
    "print(pd.read_sql_query('''\n",
    "    SELECT \n",
    "    employee.name as employee, employee.employee_ID, customer_buys_food.amount, food.price_per_kg,\n",
    "    food.price_per_kg*customer_buys_food.amount as sum_sales\n",
    "    FROM employee\n",
    "    LEFT JOIN \n",
    "        customer_buys_food  ON employee.employee_ID = customer_buys_food.E_ID\n",
    "    INNER JOIN \n",
    "        food ON customer_buys_food.F_ID = food.food_ID \n",
    "    GROUP BY employee.name\n",
    "    ORDER BY sum_sales DESC\n",
    "    ''', conn))"
   ]
  },
  {
   "cell_type": "markdown",
   "metadata": {},
   "source": [
    "### Aufgabe 2.3: Welcher Verkäufer hat am häufigsten Futter verkauft? Zeigen Sie seinen Namen, seine ID und sein Gehalt an."
   ]
  },
  {
   "cell_type": "code",
   "execution_count": null,
   "metadata": {},
   "outputs": [],
   "source": [
    "print(pd.read_sql_query('''\n",
    "    SELECT employee.employee_ID, employee.name, employee.wage, COUNT(customer_buys_food.O_ID) as sum_sales\n",
    "    FROM customer_buys_food\n",
    "    LEFT JOIN \n",
    "        employee ON employee.employee_ID = customer_buys_food.E_ID\n",
    "    GROUP BY customer_buys_food.E_ID\n",
    "    ORDER BY sum_sales DESC\n",
    "    ''', conn))"
   ]
  },
  {
   "cell_type": "markdown",
   "metadata": {},
   "source": [
    "# Aufgaben zu Teil 3"
   ]
  },
  {
   "cell_type": "markdown",
   "metadata": {},
   "source": [
    "## Bitte führen Sie diesen Teil aus "
   ]
  },
  {
   "cell_type": "code",
   "execution_count": null,
   "metadata": {},
   "outputs": [],
   "source": [
    "# Sternschema erstellen\n",
    "#cursor.execute('''PRAGMA foreign_keys = OFF;''')  # disable foreign keys\n",
    "#conn.commit()\n",
    "cursor.execute('''CREATE TABLE IF NOT EXISTS food_new(\n",
    "                  food_id INT PRIMARY KEY,\n",
    "                  name TEXT,\n",
    "                  price_per_kg FLOAT,\n",
    "                  producer TEXT,\n",
    "                  origin TEXT,\n",
    "                  animal TEXT\n",
    "                  );''')\n",
    "\n",
    "cursor.execute('''CREATE TABLE IF NOT EXISTS customer_new(\n",
    "                  cust_id INT PRIMARY KEY NOT NULL UNIQUE,\n",
    "                  name TEXT,\n",
    "                  postal_code nvarchar(5),\n",
    "                  city TEXT\n",
    "                  );''')\n",
    "\n",
    "cursor.execute('''CREATE TABLE IF NOT EXISTS employee_new(\n",
    "                  empl_id INT PRIMARY KEY NOT NULL UNIQUE,\n",
    "                  name TEXT,\n",
    "                  gender nvarchar(1),\n",
    "                  wage INT\n",
    "                  );''')\n",
    "conn.commit()\n",
    "\n",
    "# Tabellen mit Daten füllen\n",
    "cursor.execute('''INSERT INTO food_new(food_id, name, price_per_kg, producer, origin, animal)\n",
    "                  SELECT food.food_ID, food.name, food.price_per_kg, food.producer, food.origin, animals.name\n",
    "                  FROM food\n",
    "                  INNER JOIN animals ON food.food_ID = animals.food;\n",
    "                  ''')\n",
    "conn.commit()\n",
    "    \n",
    "cursor.execute('''INSERT INTO employee_new(empl_id, name, gender, wage)\n",
    "                  SELECT employee_ID, name, gender, wage\n",
    "                  FROM employee;\n",
    "                  ''')    \n",
    "    \n",
    "cursor.execute('''INSERT INTO customer_new(cust_id, name, postal_code, city)\n",
    "                  SELECT customer_ID, name, postal_code, city\n",
    "                  FROM customer;\n",
    "                  ''')\n",
    "\n",
    "conn.commit()\n",
    "cursor.execute('''\n",
    "    CREATE TABLE IF NOT EXISTS sales(\n",
    "        order_nr  INT PRIMARY KEY NOT NULL UNIQUE,\n",
    "        transact INT,\n",
    "        date DATE,\n",
    "        custumer_id int, \n",
    "        food_id INT,\n",
    "        amount INT,\n",
    "        employee_id INT,\n",
    "            foreign key(food_id) references food_new(food_id),\n",
    "            foreign key(custumer_id) references customer_new(cust_id),\n",
    "            foreign key(employee_id) references employee_new(empl_id)\n",
    "        );''')\n",
    "\n",
    "cursor.execute('''\n",
    "    INSERT INTO sales( order_nr, transact, date, custumer_id, food_id, amount,employee_id )\n",
    "    SELECT order_Nr,transact, date, C_ID, food_ID, amount, E_ID \n",
    "    FROM orders\n",
    "    LEFT JOIN \n",
    "        customer_buys_food ON orders.order_Nr = customer_buys_food.O_ID\n",
    "    LEFt JOIN \n",
    "        food ON customer_buys_food.F_ID = food.food_ID;\n",
    "    ''')\n",
    "cursor.execute(''' PRAGMA table_info(sales);''')\n",
    "records = cursor.fetchall()"
   ]
  },
  {
   "cell_type": "markdown",
   "metadata": {},
   "source": [
    "### Hiermit werden die Inhalte der Dimensionstabellen angezeigt"
   ]
  },
  {
   "cell_type": "code",
   "execution_count": null,
   "metadata": {},
   "outputs": [],
   "source": [
    "print(\"Tabelle customer_new\")\n",
    "print(pd.read_sql_query(\"SELECT * FROM customer_new\", conn))\n",
    "print(\"--------------------------------------------------------\")\n",
    "print(\"Tabelle food_new\")\n",
    "print(pd.read_sql_query(\"SELECT * FROM food_new\", conn))\n",
    "print(\"--------------------------------------------------------\")\n",
    "print(\"Tabelle employee_new\")\n",
    "print(pd.read_sql_query(\"SELECT * FROM employee\", conn))\n",
    "print(\"--------------------------------------------------------\")"
   ]
  },
  {
   "cell_type": "markdown",
   "metadata": {},
   "source": [
    "### Hiermit werden die Inhalte der Faktentabelle angezeigt"
   ]
  },
  {
   "cell_type": "code",
   "execution_count": null,
   "metadata": {},
   "outputs": [],
   "source": [
    "print(pd.read_sql_query(\"SELECT * FROM sales\", conn))"
   ]
  },
  {
   "cell_type": "markdown",
   "metadata": {},
   "source": [
    "### Aufgabe:"
   ]
  },
  {
   "cell_type": "code",
   "execution_count": null,
   "metadata": {},
   "outputs": [],
   "source": [
    "print(pd.read_sql_query('''\n",
    "    SELECT * FROM sales\n",
    "    WHERE employee_id IN\n",
    "       (SELECT empl_id FROM employee_new WHERE wage > 2000)\n",
    "    ''', conn))"
   ]
  },
  {
   "cell_type": "code",
   "execution_count": null,
   "metadata": {},
   "outputs": [],
   "source": [
    "### Welcher Verkäufer hat am meisten Umsatz erwirtschaftet?\n",
    "print(pd.read_sql_query('''\n",
    "    SELECT \n",
    "    sales.employee_id, sales.amount, food_new.price_per_kg,\n",
    "    food_new.price_per_kg*sales.amount as sum_sales\n",
    "    FROM sales\n",
    "    INNER JOIN \n",
    "        food_new ON sales.food_id = food_new.food_id\n",
    "    GROUP BY sales.employee_id\n",
    "    ORDER BY sum_sales DESC\n",
    "    ''', conn))"
   ]
  },
  {
   "cell_type": "code",
   "execution_count": null,
   "metadata": {},
   "outputs": [],
   "source": []
  },
  {
   "cell_type": "markdown",
   "metadata": {
    "id": "Eu-QLJbladMx"
   },
   "source": [
    "### Close connection"
   ]
  },
  {
   "cell_type": "code",
   "execution_count": null,
   "metadata": {
    "id": "jWWrN75EadMx"
   },
   "outputs": [],
   "source": [
    "#conn.close()"
   ]
  }
 ],
 "metadata": {
  "colab": {
   "collapsed_sections": [],
   "name": "SQLite_Workshop.ipynb",
   "provenance": []
  },
  "kernelspec": {
   "display_name": "Python 3",
   "language": "python",
   "name": "python3"
  },
  "language_info": {
   "codemirror_mode": {
    "name": "ipython",
    "version": 3
   },
   "file_extension": ".py",
   "mimetype": "text/x-python",
   "name": "python",
   "nbconvert_exporter": "python",
   "pygments_lexer": "ipython3",
   "version": "3.8.9"
  }
 },
 "nbformat": 4,
 "nbformat_minor": 1
}
