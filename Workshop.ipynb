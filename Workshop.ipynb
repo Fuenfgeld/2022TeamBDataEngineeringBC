{
 "cells": [
  {
   "cell_type": "markdown",
   "metadata": {},
   "source": [
    "[![Open in Colab](https://colab.research.google.com/assets/colab-badge.svg)](https://colab.research.google.com/github/Fuenfgeld/2022TeamBDataEngineeringBC/blob/main/Workshop.ipynb)"
   ]
  },
  {
   "cell_type": "markdown",
   "metadata": {
    "id": "lZfbJN0EadMl"
   },
   "source": [
    "# SQLite Workshop"
   ]
  },
  {
   "cell_type": "markdown",
   "metadata": {},
   "source": [
    "### Bitte führen Sie die nächsten beiden Codeabschnitte aus"
   ]
  },
  {
   "cell_type": "code",
   "execution_count": 3,
   "metadata": {},
   "outputs": [
    {
     "name": "stdout",
     "output_type": "stream",
     "text": [
      "[WinError 2] Das System kann die angegebene Datei nicht finden: '/content/'\n",
      "C:\\Users\\Sofia Henninger\\Documents\\Master\\DAF\\2022TeamBDataEngineeringBC\n"
     ]
    },
    {
     "name": "stderr",
     "output_type": "stream",
     "text": [
      "UsageError: Line magic function `%rm` not found.\n"
     ]
    }
   ],
   "source": [
    "#Load Libraries\n",
    "import sqlite3\n",
    "import pandas as pd\n",
    "\n",
    "# Load GitHub repo\n",
    "%cd /content/\n",
    "%rm -r ./2022TeamBDataEngineeringBC\n",
    "!git clone https://github.com/Fuenfgeld/2022TeamBDataEngineeringBC.git\n",
    "%cd ./2022TeamBDataEngineeringBC/"
   ]
  },
  {
   "cell_type": "code",
   "execution_count": 5,
   "metadata": {},
   "outputs": [
    {
     "name": "stdout",
     "output_type": "stream",
     "text": [
      "Opened database successfully\n"
     ]
    },
    {
     "data": {
      "text/plain": [
       "<sqlite3.Cursor at 0x14523e3b1f0>"
      ]
     },
     "execution_count": 5,
     "metadata": {},
     "output_type": "execute_result"
    }
   ],
   "source": [
    "# Connect to Database\n",
    "conn = sqlite3.connect('sqlite_workshop.db')\n",
    "cursor = conn.cursor()\n",
    "print(\"Opened database successfully\");\n",
    "\n",
    "# Delete table if exists \n",
    "cursor.execute(\"DROP TABLE IF EXISTS food\")\n",
    "cursor.execute(\"DROP TABLE IF EXISTS orders\")\n",
    "cursor.execute(\"DROP TABLE IF EXISTS animals\")\n",
    "cursor.execute(\"DROP TABLE IF EXISTS customer\")\n",
    "cursor.execute(\"DROP TABLE IF EXISTS customer_buys_food\")\n",
    "cursor.execute(\"DROP TABLE IF EXISTS employee\")\n",
    "cursor.execute(\"DROP TABLE IF EXISTS sales\")\n",
    "cursor.execute(\"DROP TABLE IF EXISTS food_new\")\n",
    "cursor.execute(\"DROP TABLE IF EXISTS customer_new\")\n",
    "cursor.execute(\"DROP TABLE IF EXISTS employee_new\")\n",
    "cursor.execute(\"DROP TABLE IF EXISTS Liga\")\n",
    "cursor.execute(\"DROP TABLE IF EXISTS Verein\")\n",
    "cursor.execute(\"DROP TABLE IF EXISTS Spieler\")\n",
    "\n",
    "# Create tables\n",
    "cursor.execute('''\n",
    "\t\tCREATE TABLE IF NOT EXISTS Liga (\n",
    "            L_name nvarchar(80) primary key,\n",
    "            Anzahl_Vereine int\n",
    "\t\t\t)\n",
    "               ''')\n",
    "\n",
    "cursor.execute('''\n",
    "\t\tCREATE TABLE IF NOT EXISTS Verein (\n",
    "\t\t\tV_name nvarchar(80) primary key,\n",
    "            Liga nvarchar(80),\n",
    "            Anzahl_Meisterschaften int,\n",
    "            foreign key(Liga) references Liga(L_name)\n",
    "\n",
    "\t\t\t)\n",
    "               ''')\n",
    "\n",
    "cursor.execute('''\n",
    "\t\tCREATE TABLE IF NOT EXISTS Spieler (\n",
    "\t\t\tS_name nvarchar(80) primary key,\n",
    "            Verein nvarchar(80),\n",
    "            foreign key(Verein) references Verein(V_name)\n",
    "\n",
    "\t\t\t)\n",
    "               ''')\n",
    "\n",
    "# fill tables for Part 1\n",
    "cursor.execute('''\n",
    "\t\tINSERT INTO Liga (L_name,Anzahl_Vereine)\n",
    "            VALUES\n",
    "            (\"1. Bundesliga\", 18),\n",
    "            (\"2. Bundesliga\", 18), \n",
    "            (\"3. Bundesliga\",20)\n",
    "\n",
    "\t\t\t\n",
    "               ''')\n",
    "\n",
    "cursor.execute('''\n",
    "\t\tINSERT INTO Verein (V_name, Liga, Anzahl_Meisterschaften)\n",
    "            VALUES\n",
    "            (\"1. FC Bayern Muenchen\", \"1. Bundesliga\", 32),\n",
    "            (\"2. FC Kaiserslautern\", \"3. Bundesliga\", 4), \n",
    "            ( \"SV Waldhof Mannheim\", \"3. Bundesliga\", 0)\n",
    "\n",
    "\t\t\t\n",
    "               ''')\n",
    "cursor.execute('''\n",
    "\t\tINSERT INTO Spieler (S_name, Verein)\n",
    "            VALUES\n",
    "            (\"Manuel Neuer\",\"1. FC Bayern Muenchen\"),\n",
    "            (\"Matheo Raab\", \"1. FC Kaiserslautern\"), \n",
    "            (\"Timo Koenigsmann\", \"SV Waldhof Mannheim\")\n",
    "\n",
    "\t\t\t\n",
    "               ''')\n"
   ]
  },
  {
   "cell_type": "markdown",
   "metadata": {},
   "source": [
    "# Aufgabe zu Teil 1\n"
   ]
  },
  {
   "cell_type": "markdown",
   "metadata": {},
   "source": [
    "## 1.1 Ersetze die Fragezeichen, um eine gültige PRAGMA Funktion zu nutzen\n",
    "## 1.2 Zeichne anschließend ein ER-Diagramm"
   ]
  },
  {
   "cell_type": "code",
   "execution_count": 6,
   "metadata": {},
   "outputs": [
    {
     "name": "stdout",
     "output_type": "stream",
     "text": [
      "      name\n",
      "0     Liga\n",
      "1   Verein\n",
      "2  Spieler\n"
     ]
    }
   ],
   "source": [
    "# Tabellennamen herausfinden\n",
    "print(pd.read_sql_query(\"SELECT name FROM sqlite_master WHERE type='table';\", conn))\n"
   ]
  },
  {
   "cell_type": "code",
   "execution_count": 7,
   "metadata": {},
   "outputs": [
    {
     "ename": "DatabaseError",
     "evalue": "Execution failed on sql '???('???')': near \"?\": syntax error",
     "output_type": "error",
     "traceback": [
      "\u001b[1;31m---------------------------------------------------------------------------\u001b[0m",
      "\u001b[1;31mOperationalError\u001b[0m                          Traceback (most recent call last)",
      "File \u001b[1;32mC:\\ProgramData\\Anaconda3\\lib\\site-packages\\pandas\\io\\sql.py:2020\u001b[0m, in \u001b[0;36mSQLiteDatabase.execute\u001b[1;34m(self, *args, **kwargs)\u001b[0m\n\u001b[0;32m   2019\u001b[0m \u001b[38;5;28;01mtry\u001b[39;00m:\n\u001b[1;32m-> 2020\u001b[0m     cur\u001b[38;5;241m.\u001b[39mexecute(\u001b[38;5;241m*\u001b[39margs, \u001b[38;5;241m*\u001b[39m\u001b[38;5;241m*\u001b[39mkwargs)\n\u001b[0;32m   2021\u001b[0m     \u001b[38;5;28;01mreturn\u001b[39;00m cur\n",
      "\u001b[1;31mOperationalError\u001b[0m: near \"?\": syntax error",
      "\nThe above exception was the direct cause of the following exception:\n",
      "\u001b[1;31mDatabaseError\u001b[0m                             Traceback (most recent call last)",
      "Input \u001b[1;32mIn [7]\u001b[0m, in \u001b[0;36m<cell line: 2>\u001b[1;34m()\u001b[0m\n\u001b[0;32m      1\u001b[0m \u001b[38;5;66;03m# Private Keys herausfinden\u001b[39;00m\n\u001b[1;32m----> 2\u001b[0m \u001b[38;5;28mprint\u001b[39m(\u001b[43mpd\u001b[49m\u001b[38;5;241;43m.\u001b[39;49m\u001b[43mread_sql_query\u001b[49m\u001b[43m(\u001b[49m\u001b[38;5;124;43m\"\u001b[39;49m\u001b[38;5;124;43m???(\u001b[39;49m\u001b[38;5;124;43m'\u001b[39;49m\u001b[38;5;124;43m???\u001b[39;49m\u001b[38;5;124;43m'\u001b[39;49m\u001b[38;5;124;43m)\u001b[39;49m\u001b[38;5;124;43m\"\u001b[39;49m\u001b[43m,\u001b[49m\u001b[43m \u001b[49m\u001b[43mconn\u001b[49m\u001b[43m)\u001b[49m)\n\u001b[0;32m      3\u001b[0m \u001b[38;5;28mprint\u001b[39m(\u001b[38;5;124m\"\u001b[39m\u001b[38;5;124m----------------------------------------\u001b[39m\u001b[38;5;124m\"\u001b[39m)\n\u001b[0;32m      4\u001b[0m \u001b[38;5;28mprint\u001b[39m(pd\u001b[38;5;241m.\u001b[39mread_sql_query(\u001b[38;5;124m\"\u001b[39m\u001b[38;5;124m???(\u001b[39m\u001b[38;5;124m'\u001b[39m\u001b[38;5;124m???\u001b[39m\u001b[38;5;124m'\u001b[39m\u001b[38;5;124m)\u001b[39m\u001b[38;5;124m\"\u001b[39m, conn))\n",
      "File \u001b[1;32mC:\\ProgramData\\Anaconda3\\lib\\site-packages\\pandas\\io\\sql.py:399\u001b[0m, in \u001b[0;36mread_sql_query\u001b[1;34m(sql, con, index_col, coerce_float, params, parse_dates, chunksize, dtype)\u001b[0m\n\u001b[0;32m    341\u001b[0m \u001b[38;5;124;03m\"\"\"\u001b[39;00m\n\u001b[0;32m    342\u001b[0m \u001b[38;5;124;03mRead SQL query into a DataFrame.\u001b[39;00m\n\u001b[0;32m    343\u001b[0m \n\u001b[1;32m   (...)\u001b[0m\n\u001b[0;32m    396\u001b[0m \u001b[38;5;124;03mparameter will be converted to UTC.\u001b[39;00m\n\u001b[0;32m    397\u001b[0m \u001b[38;5;124;03m\"\"\"\u001b[39;00m\n\u001b[0;32m    398\u001b[0m pandas_sql \u001b[38;5;241m=\u001b[39m pandasSQL_builder(con)\n\u001b[1;32m--> 399\u001b[0m \u001b[38;5;28;01mreturn\u001b[39;00m \u001b[43mpandas_sql\u001b[49m\u001b[38;5;241;43m.\u001b[39;49m\u001b[43mread_query\u001b[49m\u001b[43m(\u001b[49m\n\u001b[0;32m    400\u001b[0m \u001b[43m    \u001b[49m\u001b[43msql\u001b[49m\u001b[43m,\u001b[49m\n\u001b[0;32m    401\u001b[0m \u001b[43m    \u001b[49m\u001b[43mindex_col\u001b[49m\u001b[38;5;241;43m=\u001b[39;49m\u001b[43mindex_col\u001b[49m\u001b[43m,\u001b[49m\n\u001b[0;32m    402\u001b[0m \u001b[43m    \u001b[49m\u001b[43mparams\u001b[49m\u001b[38;5;241;43m=\u001b[39;49m\u001b[43mparams\u001b[49m\u001b[43m,\u001b[49m\n\u001b[0;32m    403\u001b[0m \u001b[43m    \u001b[49m\u001b[43mcoerce_float\u001b[49m\u001b[38;5;241;43m=\u001b[39;49m\u001b[43mcoerce_float\u001b[49m\u001b[43m,\u001b[49m\n\u001b[0;32m    404\u001b[0m \u001b[43m    \u001b[49m\u001b[43mparse_dates\u001b[49m\u001b[38;5;241;43m=\u001b[39;49m\u001b[43mparse_dates\u001b[49m\u001b[43m,\u001b[49m\n\u001b[0;32m    405\u001b[0m \u001b[43m    \u001b[49m\u001b[43mchunksize\u001b[49m\u001b[38;5;241;43m=\u001b[39;49m\u001b[43mchunksize\u001b[49m\u001b[43m,\u001b[49m\n\u001b[0;32m    406\u001b[0m \u001b[43m    \u001b[49m\u001b[43mdtype\u001b[49m\u001b[38;5;241;43m=\u001b[39;49m\u001b[43mdtype\u001b[49m\u001b[43m,\u001b[49m\n\u001b[0;32m    407\u001b[0m \u001b[43m\u001b[49m\u001b[43m)\u001b[49m\n",
      "File \u001b[1;32mC:\\ProgramData\\Anaconda3\\lib\\site-packages\\pandas\\io\\sql.py:2080\u001b[0m, in \u001b[0;36mSQLiteDatabase.read_query\u001b[1;34m(self, sql, index_col, coerce_float, params, parse_dates, chunksize, dtype)\u001b[0m\n\u001b[0;32m   2068\u001b[0m \u001b[38;5;28;01mdef\u001b[39;00m \u001b[38;5;21mread_query\u001b[39m(\n\u001b[0;32m   2069\u001b[0m     \u001b[38;5;28mself\u001b[39m,\n\u001b[0;32m   2070\u001b[0m     sql,\n\u001b[1;32m   (...)\u001b[0m\n\u001b[0;32m   2076\u001b[0m     dtype: DtypeArg \u001b[38;5;241m|\u001b[39m \u001b[38;5;28;01mNone\u001b[39;00m \u001b[38;5;241m=\u001b[39m \u001b[38;5;28;01mNone\u001b[39;00m,\n\u001b[0;32m   2077\u001b[0m ):\n\u001b[0;32m   2079\u001b[0m     args \u001b[38;5;241m=\u001b[39m _convert_params(sql, params)\n\u001b[1;32m-> 2080\u001b[0m     cursor \u001b[38;5;241m=\u001b[39m \u001b[38;5;28;43mself\u001b[39;49m\u001b[38;5;241;43m.\u001b[39;49m\u001b[43mexecute\u001b[49m\u001b[43m(\u001b[49m\u001b[38;5;241;43m*\u001b[39;49m\u001b[43margs\u001b[49m\u001b[43m)\u001b[49m\n\u001b[0;32m   2081\u001b[0m     columns \u001b[38;5;241m=\u001b[39m [col_desc[\u001b[38;5;241m0\u001b[39m] \u001b[38;5;28;01mfor\u001b[39;00m col_desc \u001b[38;5;129;01min\u001b[39;00m cursor\u001b[38;5;241m.\u001b[39mdescription]\n\u001b[0;32m   2083\u001b[0m     \u001b[38;5;28;01mif\u001b[39;00m chunksize \u001b[38;5;129;01mis\u001b[39;00m \u001b[38;5;129;01mnot\u001b[39;00m \u001b[38;5;28;01mNone\u001b[39;00m:\n",
      "File \u001b[1;32mC:\\ProgramData\\Anaconda3\\lib\\site-packages\\pandas\\io\\sql.py:2032\u001b[0m, in \u001b[0;36mSQLiteDatabase.execute\u001b[1;34m(self, *args, **kwargs)\u001b[0m\n\u001b[0;32m   2029\u001b[0m     \u001b[38;5;28;01mraise\u001b[39;00m ex \u001b[38;5;28;01mfrom\u001b[39;00m \u001b[38;5;21;01minner_exc\u001b[39;00m\n\u001b[0;32m   2031\u001b[0m ex \u001b[38;5;241m=\u001b[39m DatabaseError(\u001b[38;5;124mf\u001b[39m\u001b[38;5;124m\"\u001b[39m\u001b[38;5;124mExecution failed on sql \u001b[39m\u001b[38;5;124m'\u001b[39m\u001b[38;5;132;01m{\u001b[39;00margs[\u001b[38;5;241m0\u001b[39m]\u001b[38;5;132;01m}\u001b[39;00m\u001b[38;5;124m'\u001b[39m\u001b[38;5;124m: \u001b[39m\u001b[38;5;132;01m{\u001b[39;00mexc\u001b[38;5;132;01m}\u001b[39;00m\u001b[38;5;124m\"\u001b[39m)\n\u001b[1;32m-> 2032\u001b[0m \u001b[38;5;28;01mraise\u001b[39;00m ex \u001b[38;5;28;01mfrom\u001b[39;00m \u001b[38;5;21;01mexc\u001b[39;00m\n",
      "\u001b[1;31mDatabaseError\u001b[0m: Execution failed on sql '???('???')': near \"?\": syntax error"
     ]
    }
   ],
   "source": [
    "# Private Keys herausfinden\n",
    "print(pd.read_sql_query(\"???('???')\", conn))\n",
    "print(\"----------------------------------------\")\n",
    "print(pd.read_sql_query(\"???('???')\", conn))\n",
    "print(\"----------------------------------------\")\n",
    "print(pd.read_sql_query(\"???('???')\", conn))"
   ]
  },
  {
   "cell_type": "code",
   "execution_count": 8,
   "metadata": {},
   "outputs": [
    {
     "ename": "DatabaseError",
     "evalue": "Execution failed on sql 'PRAGMA ???('???')': near \"?\": syntax error",
     "output_type": "error",
     "traceback": [
      "\u001b[1;31m---------------------------------------------------------------------------\u001b[0m",
      "\u001b[1;31mOperationalError\u001b[0m                          Traceback (most recent call last)",
      "File \u001b[1;32mC:\\ProgramData\\Anaconda3\\lib\\site-packages\\pandas\\io\\sql.py:2020\u001b[0m, in \u001b[0;36mSQLiteDatabase.execute\u001b[1;34m(self, *args, **kwargs)\u001b[0m\n\u001b[0;32m   2019\u001b[0m \u001b[38;5;28;01mtry\u001b[39;00m:\n\u001b[1;32m-> 2020\u001b[0m     cur\u001b[38;5;241m.\u001b[39mexecute(\u001b[38;5;241m*\u001b[39margs, \u001b[38;5;241m*\u001b[39m\u001b[38;5;241m*\u001b[39mkwargs)\n\u001b[0;32m   2021\u001b[0m     \u001b[38;5;28;01mreturn\u001b[39;00m cur\n",
      "\u001b[1;31mOperationalError\u001b[0m: near \"?\": syntax error",
      "\nThe above exception was the direct cause of the following exception:\n",
      "\u001b[1;31mDatabaseError\u001b[0m                             Traceback (most recent call last)",
      "Input \u001b[1;32mIn [8]\u001b[0m, in \u001b[0;36m<cell line: 2>\u001b[1;34m()\u001b[0m\n\u001b[0;32m      1\u001b[0m \u001b[38;5;66;03m# Foreign keys herausfinden\u001b[39;00m\n\u001b[1;32m----> 2\u001b[0m \u001b[38;5;28mprint\u001b[39m(\u001b[43mpd\u001b[49m\u001b[38;5;241;43m.\u001b[39;49m\u001b[43mread_sql_query\u001b[49m\u001b[43m(\u001b[49m\u001b[38;5;124;43m\"\u001b[39;49m\u001b[38;5;124;43mPRAGMA ???(\u001b[39;49m\u001b[38;5;124;43m'\u001b[39;49m\u001b[38;5;124;43m???\u001b[39;49m\u001b[38;5;124;43m'\u001b[39;49m\u001b[38;5;124;43m)\u001b[39;49m\u001b[38;5;124;43m\"\u001b[39;49m\u001b[43m,\u001b[49m\u001b[43m \u001b[49m\u001b[43mconn\u001b[49m\u001b[43m)\u001b[49m)\n\u001b[0;32m      3\u001b[0m \u001b[38;5;28mprint\u001b[39m(\u001b[38;5;124m\"\u001b[39m\u001b[38;5;124m----------------------------------------\u001b[39m\u001b[38;5;124m\"\u001b[39m)\n\u001b[0;32m      4\u001b[0m \u001b[38;5;28mprint\u001b[39m(pd\u001b[38;5;241m.\u001b[39mread_sql_query(\u001b[38;5;124m\"\u001b[39m\u001b[38;5;124mPRAGMA ???(\u001b[39m\u001b[38;5;124m'\u001b[39m\u001b[38;5;124m???\u001b[39m\u001b[38;5;124m'\u001b[39m\u001b[38;5;124m)\u001b[39m\u001b[38;5;124m\"\u001b[39m, conn))\n",
      "File \u001b[1;32mC:\\ProgramData\\Anaconda3\\lib\\site-packages\\pandas\\io\\sql.py:399\u001b[0m, in \u001b[0;36mread_sql_query\u001b[1;34m(sql, con, index_col, coerce_float, params, parse_dates, chunksize, dtype)\u001b[0m\n\u001b[0;32m    341\u001b[0m \u001b[38;5;124;03m\"\"\"\u001b[39;00m\n\u001b[0;32m    342\u001b[0m \u001b[38;5;124;03mRead SQL query into a DataFrame.\u001b[39;00m\n\u001b[0;32m    343\u001b[0m \n\u001b[1;32m   (...)\u001b[0m\n\u001b[0;32m    396\u001b[0m \u001b[38;5;124;03mparameter will be converted to UTC.\u001b[39;00m\n\u001b[0;32m    397\u001b[0m \u001b[38;5;124;03m\"\"\"\u001b[39;00m\n\u001b[0;32m    398\u001b[0m pandas_sql \u001b[38;5;241m=\u001b[39m pandasSQL_builder(con)\n\u001b[1;32m--> 399\u001b[0m \u001b[38;5;28;01mreturn\u001b[39;00m \u001b[43mpandas_sql\u001b[49m\u001b[38;5;241;43m.\u001b[39;49m\u001b[43mread_query\u001b[49m\u001b[43m(\u001b[49m\n\u001b[0;32m    400\u001b[0m \u001b[43m    \u001b[49m\u001b[43msql\u001b[49m\u001b[43m,\u001b[49m\n\u001b[0;32m    401\u001b[0m \u001b[43m    \u001b[49m\u001b[43mindex_col\u001b[49m\u001b[38;5;241;43m=\u001b[39;49m\u001b[43mindex_col\u001b[49m\u001b[43m,\u001b[49m\n\u001b[0;32m    402\u001b[0m \u001b[43m    \u001b[49m\u001b[43mparams\u001b[49m\u001b[38;5;241;43m=\u001b[39;49m\u001b[43mparams\u001b[49m\u001b[43m,\u001b[49m\n\u001b[0;32m    403\u001b[0m \u001b[43m    \u001b[49m\u001b[43mcoerce_float\u001b[49m\u001b[38;5;241;43m=\u001b[39;49m\u001b[43mcoerce_float\u001b[49m\u001b[43m,\u001b[49m\n\u001b[0;32m    404\u001b[0m \u001b[43m    \u001b[49m\u001b[43mparse_dates\u001b[49m\u001b[38;5;241;43m=\u001b[39;49m\u001b[43mparse_dates\u001b[49m\u001b[43m,\u001b[49m\n\u001b[0;32m    405\u001b[0m \u001b[43m    \u001b[49m\u001b[43mchunksize\u001b[49m\u001b[38;5;241;43m=\u001b[39;49m\u001b[43mchunksize\u001b[49m\u001b[43m,\u001b[49m\n\u001b[0;32m    406\u001b[0m \u001b[43m    \u001b[49m\u001b[43mdtype\u001b[49m\u001b[38;5;241;43m=\u001b[39;49m\u001b[43mdtype\u001b[49m\u001b[43m,\u001b[49m\n\u001b[0;32m    407\u001b[0m \u001b[43m\u001b[49m\u001b[43m)\u001b[49m\n",
      "File \u001b[1;32mC:\\ProgramData\\Anaconda3\\lib\\site-packages\\pandas\\io\\sql.py:2080\u001b[0m, in \u001b[0;36mSQLiteDatabase.read_query\u001b[1;34m(self, sql, index_col, coerce_float, params, parse_dates, chunksize, dtype)\u001b[0m\n\u001b[0;32m   2068\u001b[0m \u001b[38;5;28;01mdef\u001b[39;00m \u001b[38;5;21mread_query\u001b[39m(\n\u001b[0;32m   2069\u001b[0m     \u001b[38;5;28mself\u001b[39m,\n\u001b[0;32m   2070\u001b[0m     sql,\n\u001b[1;32m   (...)\u001b[0m\n\u001b[0;32m   2076\u001b[0m     dtype: DtypeArg \u001b[38;5;241m|\u001b[39m \u001b[38;5;28;01mNone\u001b[39;00m \u001b[38;5;241m=\u001b[39m \u001b[38;5;28;01mNone\u001b[39;00m,\n\u001b[0;32m   2077\u001b[0m ):\n\u001b[0;32m   2079\u001b[0m     args \u001b[38;5;241m=\u001b[39m _convert_params(sql, params)\n\u001b[1;32m-> 2080\u001b[0m     cursor \u001b[38;5;241m=\u001b[39m \u001b[38;5;28;43mself\u001b[39;49m\u001b[38;5;241;43m.\u001b[39;49m\u001b[43mexecute\u001b[49m\u001b[43m(\u001b[49m\u001b[38;5;241;43m*\u001b[39;49m\u001b[43margs\u001b[49m\u001b[43m)\u001b[49m\n\u001b[0;32m   2081\u001b[0m     columns \u001b[38;5;241m=\u001b[39m [col_desc[\u001b[38;5;241m0\u001b[39m] \u001b[38;5;28;01mfor\u001b[39;00m col_desc \u001b[38;5;129;01min\u001b[39;00m cursor\u001b[38;5;241m.\u001b[39mdescription]\n\u001b[0;32m   2083\u001b[0m     \u001b[38;5;28;01mif\u001b[39;00m chunksize \u001b[38;5;129;01mis\u001b[39;00m \u001b[38;5;129;01mnot\u001b[39;00m \u001b[38;5;28;01mNone\u001b[39;00m:\n",
      "File \u001b[1;32mC:\\ProgramData\\Anaconda3\\lib\\site-packages\\pandas\\io\\sql.py:2032\u001b[0m, in \u001b[0;36mSQLiteDatabase.execute\u001b[1;34m(self, *args, **kwargs)\u001b[0m\n\u001b[0;32m   2029\u001b[0m     \u001b[38;5;28;01mraise\u001b[39;00m ex \u001b[38;5;28;01mfrom\u001b[39;00m \u001b[38;5;21;01minner_exc\u001b[39;00m\n\u001b[0;32m   2031\u001b[0m ex \u001b[38;5;241m=\u001b[39m DatabaseError(\u001b[38;5;124mf\u001b[39m\u001b[38;5;124m\"\u001b[39m\u001b[38;5;124mExecution failed on sql \u001b[39m\u001b[38;5;124m'\u001b[39m\u001b[38;5;132;01m{\u001b[39;00margs[\u001b[38;5;241m0\u001b[39m]\u001b[38;5;132;01m}\u001b[39;00m\u001b[38;5;124m'\u001b[39m\u001b[38;5;124m: \u001b[39m\u001b[38;5;132;01m{\u001b[39;00mexc\u001b[38;5;132;01m}\u001b[39;00m\u001b[38;5;124m\"\u001b[39m)\n\u001b[1;32m-> 2032\u001b[0m \u001b[38;5;28;01mraise\u001b[39;00m ex \u001b[38;5;28;01mfrom\u001b[39;00m \u001b[38;5;21;01mexc\u001b[39;00m\n",
      "\u001b[1;31mDatabaseError\u001b[0m: Execution failed on sql 'PRAGMA ???('???')': near \"?\": syntax error"
     ]
    }
   ],
   "source": [
    "# Foreign keys herausfinden\n",
    "print(pd.read_sql_query(\"PRAGMA ???('???')\", conn))\n",
    "print(\"----------------------------------------\")\n",
    "print(pd.read_sql_query(\"PRAGMA ???('???')\", conn))\n",
    "print(\"----------------------------------------\")\n",
    "print(pd.read_sql_query(\"PRAGMA ???('???')\", conn))"
   ]
  },
  {
   "cell_type": "code",
   "execution_count": 9,
   "metadata": {},
   "outputs": [
    {
     "name": "stdout",
     "output_type": "stream",
     "text": [
      "Empty DataFrame\n",
      "Columns: [L_name, Anzahl_Vereine]\n",
      "Index: []\n",
      "----------------------------------------\n",
      "Empty DataFrame\n",
      "Columns: [V_name, Liga, Anzahl_Meisterschaften]\n",
      "Index: []\n",
      "----------------------------------------\n",
      "Empty DataFrame\n",
      "Columns: [S_name, Verein]\n",
      "Index: []\n"
     ]
    }
   ],
   "source": [
    "print(pd.read_sql_query(\"SELECT * FROM Liga\", conn))\n",
    "print(\"----------------------------------------\")\n",
    "print(pd.read_sql_query(\"SELECT * FROM Verein\", conn))\n",
    "print(\"----------------------------------------\")\n",
    "print(pd.read_sql_query(\"SELECT * FROM Spieler\", conn))"
   ]
  },
  {
   "cell_type": "markdown",
   "metadata": {
    "id": "2ySsuxihadMt"
   },
   "source": [
    "## Bitte führen Sie diesen Teil aus "
   ]
  },
  {
   "cell_type": "code",
   "execution_count": 10,
   "metadata": {},
   "outputs": [
    {
     "data": {
      "text/plain": [
       "12"
      ]
     },
     "execution_count": 10,
     "metadata": {},
     "output_type": "execute_result"
    }
   ],
   "source": [
    "# Daten einlesen\n",
    "food = pd.read_csv('tables/initial_tables/Futter.csv', sep=\";\")\n",
    "customer = pd.read_csv('tables/initial_tables/Kunden.csv', sep=\";\")\n",
    "animals = pd.read_csv('tables/initial_tables/Tiere.csv', sep=\";\")\n",
    "orders = pd.read_csv('tables/initial_tables/Order.csv', sep=\";\")\n",
    "employee = pd.read_csv('tables/initial_tables/Verkaeufer.csv', sep=\";\")\n",
    "customer_buys_food = pd.read_csv('tables/initial_tables/Customer_buys_Food.csv', sep=\";\")\n",
    "\n",
    "\n",
    "# Tabellen erstellen\n",
    "cursor.execute('''\n",
    "\t\tCREATE TABLE IF NOT EXISTS customer (\n",
    "\t\t\tcustomer_ID int primary key,\n",
    "            name nvarchar(50),\n",
    "\t\t\tpostal_code nvarchar(5),\n",
    "\t\t\tcity nvarchar(50)\n",
    "\t\t\t)\n",
    "               ''')\n",
    "\n",
    "cursor.execute('''\n",
    "\t\tCREATE TABLE IF NOT EXISTS employee (\n",
    "\t\t\temployee_ID int primary key,\n",
    "            name nvarchar(50),\n",
    "            gender nvarchar(1),\n",
    "\t\t\twage int\n",
    "\t\t\t)\n",
    "               ''')\n",
    "\n",
    "cursor.execute('''\n",
    "\t\tCREATE TABLE IF NOT EXISTS food (\n",
    "\t\t\tfood_ID int primary key,\n",
    "            name nvarchar(50),\n",
    "\t\t\tprice_per_kg float,\n",
    "            producer nvarchar(50),\n",
    "            origin nvarchar(50)\n",
    "\t\t\t)\n",
    "               ''')\n",
    "\n",
    "cursor.execute('''\n",
    "\t\tCREATE TABLE IF NOT EXISTS animals (\n",
    "            name nvarchar(50) primary key,\n",
    "\t\t\tfood int,\n",
    "\t\t\tforeign key(food) references food(food_ID)\n",
    "\t\t\t)\n",
    "               ''') \n",
    "cursor.execute('''\n",
    "\t\tCREATE TABLE IF NOT EXISTS orders (\n",
    "            order_Nr int primary key,\n",
    "            date Date,\n",
    "            transact int\n",
    "\t\t\t)\n",
    "               ''')\n",
    "\n",
    "\n",
    "cursor.execute('''\n",
    "\t\tCREATE TABLE IF NOT EXISTS customer_buys_food (\n",
    "            C_ID int,\n",
    "            F_ID int,\n",
    "\t\t\tamount int,\n",
    "            O_ID int,\n",
    "            E_ID int,\n",
    "            foreign key(C_ID) references customer(customer_ID)\n",
    "\t\t\tforeign key(F_ID) references food(food_ID)\n",
    "            foreign key(O_ID) references orders(order_Nr)\n",
    "            foreign key(E_ID) references employee(employee_ID)\n",
    "\t\t\t)\n",
    "               ''') \n",
    "\n",
    "# Insert Dataframe in Table\n",
    "customer.to_sql('customer', conn, if_exists='append', index=False)\n",
    "animals.to_sql('animals', conn, if_exists='append', index=False)\n",
    "food.to_sql('food', conn, if_exists='append', index=False)\n",
    "orders.to_sql('orders', conn, if_exists='append', index=False)\n",
    "employee.to_sql('employee', conn, if_exists='append', index=False)\n",
    "customer_buys_food.to_sql('customer_buys_food', conn, if_exists='append', index=False)"
   ]
  },
  {
   "cell_type": "markdown",
   "metadata": {
    "id": "4QthnM4tadMw"
   },
   "source": [
    "### Hiermit werden die Tabelleninhalte angezeigt"
   ]
  },
  {
   "cell_type": "code",
   "execution_count": 11,
   "metadata": {
    "colab": {
     "base_uri": "https://localhost:8080/"
    },
    "id": "EaYhlJx3adMx",
    "outputId": "9140483f-237d-4783-98c8-42d99d0c51da"
   },
   "outputs": [
    {
     "name": "stdout",
     "output_type": "stream",
     "text": [
      "Tabelle customer\n",
      "   customer_ID       name postal_code          city\n",
      "0            1    Mueller       68723    Oftersheim\n",
      "1            2    Schmidt       68766    Hockenheim\n",
      "2            3  Schneider       68526     Ladenburg\n",
      "3            4    Fischer       68753     Waghäusel\n",
      "4            5      Weber       68799     Reilingen\n",
      "5            6      Meyer       68549     Ilvesheim\n",
      "6            7     Wagner       69221    Dossenheim\n",
      "7            8     Becker       69251       Gaiberg\n",
      "8            9     Schulz       69151  Neckargemünd\n",
      "9           10   Hoffmann       68526     Ladenburg\n",
      "--------------------------------------------------------\n",
      "Tabelle food\n",
      "   food_ID              name  price_per_kg          producer       origin\n",
      "0        1       Hundefutter          4.00   Wau Dosenfutter  Deutschland\n",
      "1        2      Katzenfutter          8.00  Miau Dosenfutter        China\n",
      "2        3  Getreidemischung         10.00  Jerry's Getreide  Deutschland\n",
      "3        4      Pferdefutter          0.65          Hottehue       Taiwan\n",
      "4        5       Fischfutter          2.30             Blubb     Atlantis\n",
      "--------------------------------------------------------\n",
      "Tabelle animals\n",
      "        name  food\n",
      "0       Hund     1\n",
      "1      Katze     2\n",
      "2   Nagetier     3\n",
      "3  Hauspferd     4\n",
      "4  Goldfisch     5\n",
      "--------------------------------------------------------\n",
      "Tabelle orders\n",
      "    order_Nr        date  transact\n",
      "0          1  2021-04-22         2\n",
      "1          2  2021-04-25         1\n",
      "2          3  2021-05-03         1\n",
      "3          4  2021-06-06         3\n",
      "4          5  2021-07-22         7\n",
      "5          6  2021-10-23         4\n",
      "6          7  2022-01-20         5\n",
      "7          8  2022-02-15         5\n",
      "8          9  2022-03-21         3\n",
      "9         10  2022-03-22         6\n",
      "10        11  2022-03-23         6\n",
      "11        12  2022-03-23         3\n",
      "--------------------------------------------------------\n",
      "Tabelle employee\n",
      "   employee_ID       name gender  wage\n",
      "0            1   Schaefer      w  1000\n",
      "1            2      Bauer      m  1200\n",
      "2            3       Koch      w  2500\n",
      "3            4    Richter      m  3000\n",
      "4            5      Klein      m  1750\n",
      "5            6       Wolf      m  2200\n",
      "6            7  Schroeder      w  1750\n",
      "7            8    Neumann      w  1200\n",
      "8            9    Schwarz      w  1000\n",
      "9           10      Braun      w  2000\n",
      "--------------------------------------------------------\n",
      "Tabellen customer_buys_food\n",
      "    C_ID  F_ID  amount  O_ID  E_ID\n",
      "0      1     3       5     4    10\n",
      "1      2     4       2     1     2\n",
      "2      3     2       3     2     4\n",
      "3      4     1       5     3     5\n",
      "4      5     5       2     5     7\n",
      "5      6     1       1     6     3\n",
      "6      7     2       3    10     3\n",
      "7      8     5       1     9     1\n",
      "8      9     4       2     7     6\n",
      "9     10     3       2    11     3\n",
      "10     2     3       2     8     3\n",
      "11     3     2       6    12     3\n",
      "--------------------------------------------------------\n"
     ]
    }
   ],
   "source": [
    "print(\"Tabelle customer\")\n",
    "print(pd.read_sql_query(\"SELECT * FROM customer\", conn))\n",
    "print(\"--------------------------------------------------------\")\n",
    "print(\"Tabelle food\")\n",
    "print(pd.read_sql_query(\"SELECT * FROM food\", conn))\n",
    "print(\"--------------------------------------------------------\")\n",
    "print(\"Tabelle animals\")\n",
    "print(pd.read_sql_query(\"SELECT * FROM animals\", conn))\n",
    "print(\"--------------------------------------------------------\")\n",
    "print(\"Tabelle orders\")\n",
    "print(pd.read_sql_query(\"SELECT * FROM orders\", conn))\n",
    "print(\"--------------------------------------------------------\")\n",
    "print(\"Tabelle employee\")\n",
    "print(pd.read_sql_query(\"SELECT * FROM employee\", conn))\n",
    "print(\"--------------------------------------------------------\")\n",
    "print(\"Tabellen customer_buys_food\")\n",
    "print(pd.read_sql_query(\"SELECT * FROM customer_buys_food\", conn))\n",
    "print(\"--------------------------------------------------------\")"
   ]
  },
  {
   "cell_type": "markdown",
   "metadata": {},
   "source": [
    "# Aufgaben zu Teil 2"
   ]
  },
  {
   "cell_type": "markdown",
   "metadata": {},
   "source": [
    "## ER-Diagramm"
   ]
  },
  {
   "cell_type": "markdown",
   "metadata": {},
   "source": [
    "[<img src=\"https://raw.githubusercontent.com/Fuenfgeld/2022TeamBDataEngineeringBC/main/Presentation/Bilder/nur_tabellen.draw_io.drawio_3.png\">](https://raw.githubusercontent.com/Fuenfgeld/2022TeamBDataEngineeringBC/main/Presentation/Bilder/nur_tabellen.draw_io.drawio_3.png)"
   ]
  },
  {
   "cell_type": "markdown",
   "metadata": {},
   "source": [
    "## SUBQUERIES"
   ]
  },
  {
   "cell_type": "markdown",
   "metadata": {},
   "source": [
    "#### Beispiel: Welche Kunden (C_ID) haben Futter gekauft, das in China hergestellt wurde?"
   ]
  },
  {
   "cell_type": "code",
   "execution_count": 12,
   "metadata": {},
   "outputs": [
    {
     "name": "stdout",
     "output_type": "stream",
     "text": [
      "   C_ID\n",
      "0     3\n",
      "1     7\n",
      "2     3\n"
     ]
    }
   ],
   "source": [
    "print(pd.read_sql_query('''\n",
    "    SELECT C_ID \n",
    "    FROM customer_buys_food\n",
    "    WHERE F_ID =\n",
    "       (SELECT food_ID FROM food WHERE origin == 'China')\n",
    "    ''', conn))"
   ]
  },
  {
   "cell_type": "markdown",
   "metadata": {},
   "source": [
    "### Aufgabe 2.1: Welche Bestellungen (O_ID) wurden von den Verkäufern abgewickelt, die mehr als 2000 verdienen?"
   ]
  },
  {
   "cell_type": "code",
   "execution_count": 13,
   "metadata": {},
   "outputs": [
    {
     "ename": "DatabaseError",
     "evalue": "Execution failed on sql '\n     SELECT ???? \n     FROM ????\n     WHERE ???? ??\n       (SELECT ???? FROM ???? WHERE ???? > 2000)\n     ': near \"?\": syntax error",
     "output_type": "error",
     "traceback": [
      "\u001b[1;31m---------------------------------------------------------------------------\u001b[0m",
      "\u001b[1;31mOperationalError\u001b[0m                          Traceback (most recent call last)",
      "File \u001b[1;32mC:\\ProgramData\\Anaconda3\\lib\\site-packages\\pandas\\io\\sql.py:2020\u001b[0m, in \u001b[0;36mSQLiteDatabase.execute\u001b[1;34m(self, *args, **kwargs)\u001b[0m\n\u001b[0;32m   2019\u001b[0m \u001b[38;5;28;01mtry\u001b[39;00m:\n\u001b[1;32m-> 2020\u001b[0m     cur\u001b[38;5;241m.\u001b[39mexecute(\u001b[38;5;241m*\u001b[39margs, \u001b[38;5;241m*\u001b[39m\u001b[38;5;241m*\u001b[39mkwargs)\n\u001b[0;32m   2021\u001b[0m     \u001b[38;5;28;01mreturn\u001b[39;00m cur\n",
      "\u001b[1;31mOperationalError\u001b[0m: near \"?\": syntax error",
      "\nThe above exception was the direct cause of the following exception:\n",
      "\u001b[1;31mDatabaseError\u001b[0m                             Traceback (most recent call last)",
      "Input \u001b[1;32mIn [13]\u001b[0m, in \u001b[0;36m<cell line: 2>\u001b[1;34m()\u001b[0m\n\u001b[0;32m      1\u001b[0m \u001b[38;5;66;03m# Ersetze die Fragezeichen \u001b[39;00m\n\u001b[1;32m----> 2\u001b[0m \u001b[38;5;28mprint\u001b[39m(\u001b[43mpd\u001b[49m\u001b[38;5;241;43m.\u001b[39;49m\u001b[43mread_sql_query\u001b[49m\u001b[43m(\u001b[49m\u001b[38;5;124;43m'''\u001b[39;49m\n\u001b[0;32m      3\u001b[0m \u001b[38;5;124;43m     SELECT ???? \u001b[39;49m\n\u001b[0;32m      4\u001b[0m \u001b[38;5;124;43m     FROM ????\u001b[39;49m\n\u001b[0;32m      5\u001b[0m \u001b[38;5;124;43m     WHERE ???? ??\u001b[39;49m\n\u001b[0;32m      6\u001b[0m \u001b[38;5;124;43m       (SELECT ???? FROM ???? WHERE ???? > 2000)\u001b[39;49m\n\u001b[0;32m      7\u001b[0m \u001b[38;5;124;43m     \u001b[39;49m\u001b[38;5;124;43m'''\u001b[39;49m\u001b[43m,\u001b[49m\u001b[43m \u001b[49m\u001b[43mconn\u001b[49m\u001b[43m)\u001b[49m)\n",
      "File \u001b[1;32mC:\\ProgramData\\Anaconda3\\lib\\site-packages\\pandas\\io\\sql.py:399\u001b[0m, in \u001b[0;36mread_sql_query\u001b[1;34m(sql, con, index_col, coerce_float, params, parse_dates, chunksize, dtype)\u001b[0m\n\u001b[0;32m    341\u001b[0m \u001b[38;5;124;03m\"\"\"\u001b[39;00m\n\u001b[0;32m    342\u001b[0m \u001b[38;5;124;03mRead SQL query into a DataFrame.\u001b[39;00m\n\u001b[0;32m    343\u001b[0m \n\u001b[1;32m   (...)\u001b[0m\n\u001b[0;32m    396\u001b[0m \u001b[38;5;124;03mparameter will be converted to UTC.\u001b[39;00m\n\u001b[0;32m    397\u001b[0m \u001b[38;5;124;03m\"\"\"\u001b[39;00m\n\u001b[0;32m    398\u001b[0m pandas_sql \u001b[38;5;241m=\u001b[39m pandasSQL_builder(con)\n\u001b[1;32m--> 399\u001b[0m \u001b[38;5;28;01mreturn\u001b[39;00m \u001b[43mpandas_sql\u001b[49m\u001b[38;5;241;43m.\u001b[39;49m\u001b[43mread_query\u001b[49m\u001b[43m(\u001b[49m\n\u001b[0;32m    400\u001b[0m \u001b[43m    \u001b[49m\u001b[43msql\u001b[49m\u001b[43m,\u001b[49m\n\u001b[0;32m    401\u001b[0m \u001b[43m    \u001b[49m\u001b[43mindex_col\u001b[49m\u001b[38;5;241;43m=\u001b[39;49m\u001b[43mindex_col\u001b[49m\u001b[43m,\u001b[49m\n\u001b[0;32m    402\u001b[0m \u001b[43m    \u001b[49m\u001b[43mparams\u001b[49m\u001b[38;5;241;43m=\u001b[39;49m\u001b[43mparams\u001b[49m\u001b[43m,\u001b[49m\n\u001b[0;32m    403\u001b[0m \u001b[43m    \u001b[49m\u001b[43mcoerce_float\u001b[49m\u001b[38;5;241;43m=\u001b[39;49m\u001b[43mcoerce_float\u001b[49m\u001b[43m,\u001b[49m\n\u001b[0;32m    404\u001b[0m \u001b[43m    \u001b[49m\u001b[43mparse_dates\u001b[49m\u001b[38;5;241;43m=\u001b[39;49m\u001b[43mparse_dates\u001b[49m\u001b[43m,\u001b[49m\n\u001b[0;32m    405\u001b[0m \u001b[43m    \u001b[49m\u001b[43mchunksize\u001b[49m\u001b[38;5;241;43m=\u001b[39;49m\u001b[43mchunksize\u001b[49m\u001b[43m,\u001b[49m\n\u001b[0;32m    406\u001b[0m \u001b[43m    \u001b[49m\u001b[43mdtype\u001b[49m\u001b[38;5;241;43m=\u001b[39;49m\u001b[43mdtype\u001b[49m\u001b[43m,\u001b[49m\n\u001b[0;32m    407\u001b[0m \u001b[43m\u001b[49m\u001b[43m)\u001b[49m\n",
      "File \u001b[1;32mC:\\ProgramData\\Anaconda3\\lib\\site-packages\\pandas\\io\\sql.py:2080\u001b[0m, in \u001b[0;36mSQLiteDatabase.read_query\u001b[1;34m(self, sql, index_col, coerce_float, params, parse_dates, chunksize, dtype)\u001b[0m\n\u001b[0;32m   2068\u001b[0m \u001b[38;5;28;01mdef\u001b[39;00m \u001b[38;5;21mread_query\u001b[39m(\n\u001b[0;32m   2069\u001b[0m     \u001b[38;5;28mself\u001b[39m,\n\u001b[0;32m   2070\u001b[0m     sql,\n\u001b[1;32m   (...)\u001b[0m\n\u001b[0;32m   2076\u001b[0m     dtype: DtypeArg \u001b[38;5;241m|\u001b[39m \u001b[38;5;28;01mNone\u001b[39;00m \u001b[38;5;241m=\u001b[39m \u001b[38;5;28;01mNone\u001b[39;00m,\n\u001b[0;32m   2077\u001b[0m ):\n\u001b[0;32m   2079\u001b[0m     args \u001b[38;5;241m=\u001b[39m _convert_params(sql, params)\n\u001b[1;32m-> 2080\u001b[0m     cursor \u001b[38;5;241m=\u001b[39m \u001b[38;5;28;43mself\u001b[39;49m\u001b[38;5;241;43m.\u001b[39;49m\u001b[43mexecute\u001b[49m\u001b[43m(\u001b[49m\u001b[38;5;241;43m*\u001b[39;49m\u001b[43margs\u001b[49m\u001b[43m)\u001b[49m\n\u001b[0;32m   2081\u001b[0m     columns \u001b[38;5;241m=\u001b[39m [col_desc[\u001b[38;5;241m0\u001b[39m] \u001b[38;5;28;01mfor\u001b[39;00m col_desc \u001b[38;5;129;01min\u001b[39;00m cursor\u001b[38;5;241m.\u001b[39mdescription]\n\u001b[0;32m   2083\u001b[0m     \u001b[38;5;28;01mif\u001b[39;00m chunksize \u001b[38;5;129;01mis\u001b[39;00m \u001b[38;5;129;01mnot\u001b[39;00m \u001b[38;5;28;01mNone\u001b[39;00m:\n",
      "File \u001b[1;32mC:\\ProgramData\\Anaconda3\\lib\\site-packages\\pandas\\io\\sql.py:2032\u001b[0m, in \u001b[0;36mSQLiteDatabase.execute\u001b[1;34m(self, *args, **kwargs)\u001b[0m\n\u001b[0;32m   2029\u001b[0m     \u001b[38;5;28;01mraise\u001b[39;00m ex \u001b[38;5;28;01mfrom\u001b[39;00m \u001b[38;5;21;01minner_exc\u001b[39;00m\n\u001b[0;32m   2031\u001b[0m ex \u001b[38;5;241m=\u001b[39m DatabaseError(\u001b[38;5;124mf\u001b[39m\u001b[38;5;124m\"\u001b[39m\u001b[38;5;124mExecution failed on sql \u001b[39m\u001b[38;5;124m'\u001b[39m\u001b[38;5;132;01m{\u001b[39;00margs[\u001b[38;5;241m0\u001b[39m]\u001b[38;5;132;01m}\u001b[39;00m\u001b[38;5;124m'\u001b[39m\u001b[38;5;124m: \u001b[39m\u001b[38;5;132;01m{\u001b[39;00mexc\u001b[38;5;132;01m}\u001b[39;00m\u001b[38;5;124m\"\u001b[39m)\n\u001b[1;32m-> 2032\u001b[0m \u001b[38;5;28;01mraise\u001b[39;00m ex \u001b[38;5;28;01mfrom\u001b[39;00m \u001b[38;5;21;01mexc\u001b[39;00m\n",
      "\u001b[1;31mDatabaseError\u001b[0m: Execution failed on sql '\n     SELECT ???? \n     FROM ????\n     WHERE ???? ??\n       (SELECT ???? FROM ???? WHERE ???? > 2000)\n     ': near \"?\": syntax error"
     ]
    }
   ],
   "source": [
    "# Ersetze die Fragezeichen \n",
    "print(pd.read_sql_query('''\n",
    "     SELECT ???? \n",
    "     FROM ????\n",
    "     WHERE ???? ??\n",
    "       (SELECT ???? FROM ???? WHERE ???? > 2000)\n",
    "     ''', conn))"
   ]
  },
  {
   "cell_type": "markdown",
   "metadata": {},
   "source": [
    "### Aufgabe 2.2: Welche Kunden (name) haben Futter von weiblichen Verkäufern verkauft bekommen?"
   ]
  },
  {
   "cell_type": "code",
   "execution_count": 14,
   "metadata": {},
   "outputs": [
    {
     "ename": "DatabaseError",
     "evalue": "Execution failed on sql '\n    \n    ????\n        )\n    ': near \"?\": syntax error",
     "output_type": "error",
     "traceback": [
      "\u001b[1;31m---------------------------------------------------------------------------\u001b[0m",
      "\u001b[1;31mOperationalError\u001b[0m                          Traceback (most recent call last)",
      "File \u001b[1;32mC:\\ProgramData\\Anaconda3\\lib\\site-packages\\pandas\\io\\sql.py:2020\u001b[0m, in \u001b[0;36mSQLiteDatabase.execute\u001b[1;34m(self, *args, **kwargs)\u001b[0m\n\u001b[0;32m   2019\u001b[0m \u001b[38;5;28;01mtry\u001b[39;00m:\n\u001b[1;32m-> 2020\u001b[0m     cur\u001b[38;5;241m.\u001b[39mexecute(\u001b[38;5;241m*\u001b[39margs, \u001b[38;5;241m*\u001b[39m\u001b[38;5;241m*\u001b[39mkwargs)\n\u001b[0;32m   2021\u001b[0m     \u001b[38;5;28;01mreturn\u001b[39;00m cur\n",
      "\u001b[1;31mOperationalError\u001b[0m: near \"?\": syntax error",
      "\nThe above exception was the direct cause of the following exception:\n",
      "\u001b[1;31mDatabaseError\u001b[0m                             Traceback (most recent call last)",
      "Input \u001b[1;32mIn [14]\u001b[0m, in \u001b[0;36m<cell line: 3>\u001b[1;34m()\u001b[0m\n\u001b[0;32m      1\u001b[0m \u001b[38;5;66;03m# Schreibe die Abfrage an die Stelle der Fragezeichen\u001b[39;00m\n\u001b[0;32m      2\u001b[0m \u001b[38;5;66;03m# Tipp: Es müssen zwei ineinander verschachtelte Subqueries verwendet werden.\u001b[39;00m\n\u001b[1;32m----> 3\u001b[0m \u001b[38;5;28mprint\u001b[39m(\u001b[43mpd\u001b[49m\u001b[38;5;241;43m.\u001b[39;49m\u001b[43mread_sql_query\u001b[49m\u001b[43m(\u001b[49m\u001b[38;5;124;43m'''\u001b[39;49m\n\u001b[0;32m      4\u001b[0m \u001b[38;5;124;43m    \u001b[39;49m\n\u001b[0;32m      5\u001b[0m \u001b[38;5;124;43m    ????\u001b[39;49m\n\u001b[0;32m      6\u001b[0m \u001b[38;5;124;43m        )\u001b[39;49m\n\u001b[0;32m      7\u001b[0m \u001b[38;5;124;43m    \u001b[39;49m\u001b[38;5;124;43m'''\u001b[39;49m\u001b[43m,\u001b[49m\u001b[43m \u001b[49m\u001b[43mconn\u001b[49m\u001b[43m)\u001b[49m)\n",
      "File \u001b[1;32mC:\\ProgramData\\Anaconda3\\lib\\site-packages\\pandas\\io\\sql.py:399\u001b[0m, in \u001b[0;36mread_sql_query\u001b[1;34m(sql, con, index_col, coerce_float, params, parse_dates, chunksize, dtype)\u001b[0m\n\u001b[0;32m    341\u001b[0m \u001b[38;5;124;03m\"\"\"\u001b[39;00m\n\u001b[0;32m    342\u001b[0m \u001b[38;5;124;03mRead SQL query into a DataFrame.\u001b[39;00m\n\u001b[0;32m    343\u001b[0m \n\u001b[1;32m   (...)\u001b[0m\n\u001b[0;32m    396\u001b[0m \u001b[38;5;124;03mparameter will be converted to UTC.\u001b[39;00m\n\u001b[0;32m    397\u001b[0m \u001b[38;5;124;03m\"\"\"\u001b[39;00m\n\u001b[0;32m    398\u001b[0m pandas_sql \u001b[38;5;241m=\u001b[39m pandasSQL_builder(con)\n\u001b[1;32m--> 399\u001b[0m \u001b[38;5;28;01mreturn\u001b[39;00m \u001b[43mpandas_sql\u001b[49m\u001b[38;5;241;43m.\u001b[39;49m\u001b[43mread_query\u001b[49m\u001b[43m(\u001b[49m\n\u001b[0;32m    400\u001b[0m \u001b[43m    \u001b[49m\u001b[43msql\u001b[49m\u001b[43m,\u001b[49m\n\u001b[0;32m    401\u001b[0m \u001b[43m    \u001b[49m\u001b[43mindex_col\u001b[49m\u001b[38;5;241;43m=\u001b[39;49m\u001b[43mindex_col\u001b[49m\u001b[43m,\u001b[49m\n\u001b[0;32m    402\u001b[0m \u001b[43m    \u001b[49m\u001b[43mparams\u001b[49m\u001b[38;5;241;43m=\u001b[39;49m\u001b[43mparams\u001b[49m\u001b[43m,\u001b[49m\n\u001b[0;32m    403\u001b[0m \u001b[43m    \u001b[49m\u001b[43mcoerce_float\u001b[49m\u001b[38;5;241;43m=\u001b[39;49m\u001b[43mcoerce_float\u001b[49m\u001b[43m,\u001b[49m\n\u001b[0;32m    404\u001b[0m \u001b[43m    \u001b[49m\u001b[43mparse_dates\u001b[49m\u001b[38;5;241;43m=\u001b[39;49m\u001b[43mparse_dates\u001b[49m\u001b[43m,\u001b[49m\n\u001b[0;32m    405\u001b[0m \u001b[43m    \u001b[49m\u001b[43mchunksize\u001b[49m\u001b[38;5;241;43m=\u001b[39;49m\u001b[43mchunksize\u001b[49m\u001b[43m,\u001b[49m\n\u001b[0;32m    406\u001b[0m \u001b[43m    \u001b[49m\u001b[43mdtype\u001b[49m\u001b[38;5;241;43m=\u001b[39;49m\u001b[43mdtype\u001b[49m\u001b[43m,\u001b[49m\n\u001b[0;32m    407\u001b[0m \u001b[43m\u001b[49m\u001b[43m)\u001b[49m\n",
      "File \u001b[1;32mC:\\ProgramData\\Anaconda3\\lib\\site-packages\\pandas\\io\\sql.py:2080\u001b[0m, in \u001b[0;36mSQLiteDatabase.read_query\u001b[1;34m(self, sql, index_col, coerce_float, params, parse_dates, chunksize, dtype)\u001b[0m\n\u001b[0;32m   2068\u001b[0m \u001b[38;5;28;01mdef\u001b[39;00m \u001b[38;5;21mread_query\u001b[39m(\n\u001b[0;32m   2069\u001b[0m     \u001b[38;5;28mself\u001b[39m,\n\u001b[0;32m   2070\u001b[0m     sql,\n\u001b[1;32m   (...)\u001b[0m\n\u001b[0;32m   2076\u001b[0m     dtype: DtypeArg \u001b[38;5;241m|\u001b[39m \u001b[38;5;28;01mNone\u001b[39;00m \u001b[38;5;241m=\u001b[39m \u001b[38;5;28;01mNone\u001b[39;00m,\n\u001b[0;32m   2077\u001b[0m ):\n\u001b[0;32m   2079\u001b[0m     args \u001b[38;5;241m=\u001b[39m _convert_params(sql, params)\n\u001b[1;32m-> 2080\u001b[0m     cursor \u001b[38;5;241m=\u001b[39m \u001b[38;5;28;43mself\u001b[39;49m\u001b[38;5;241;43m.\u001b[39;49m\u001b[43mexecute\u001b[49m\u001b[43m(\u001b[49m\u001b[38;5;241;43m*\u001b[39;49m\u001b[43margs\u001b[49m\u001b[43m)\u001b[49m\n\u001b[0;32m   2081\u001b[0m     columns \u001b[38;5;241m=\u001b[39m [col_desc[\u001b[38;5;241m0\u001b[39m] \u001b[38;5;28;01mfor\u001b[39;00m col_desc \u001b[38;5;129;01min\u001b[39;00m cursor\u001b[38;5;241m.\u001b[39mdescription]\n\u001b[0;32m   2083\u001b[0m     \u001b[38;5;28;01mif\u001b[39;00m chunksize \u001b[38;5;129;01mis\u001b[39;00m \u001b[38;5;129;01mnot\u001b[39;00m \u001b[38;5;28;01mNone\u001b[39;00m:\n",
      "File \u001b[1;32mC:\\ProgramData\\Anaconda3\\lib\\site-packages\\pandas\\io\\sql.py:2032\u001b[0m, in \u001b[0;36mSQLiteDatabase.execute\u001b[1;34m(self, *args, **kwargs)\u001b[0m\n\u001b[0;32m   2029\u001b[0m     \u001b[38;5;28;01mraise\u001b[39;00m ex \u001b[38;5;28;01mfrom\u001b[39;00m \u001b[38;5;21;01minner_exc\u001b[39;00m\n\u001b[0;32m   2031\u001b[0m ex \u001b[38;5;241m=\u001b[39m DatabaseError(\u001b[38;5;124mf\u001b[39m\u001b[38;5;124m\"\u001b[39m\u001b[38;5;124mExecution failed on sql \u001b[39m\u001b[38;5;124m'\u001b[39m\u001b[38;5;132;01m{\u001b[39;00margs[\u001b[38;5;241m0\u001b[39m]\u001b[38;5;132;01m}\u001b[39;00m\u001b[38;5;124m'\u001b[39m\u001b[38;5;124m: \u001b[39m\u001b[38;5;132;01m{\u001b[39;00mexc\u001b[38;5;132;01m}\u001b[39;00m\u001b[38;5;124m\"\u001b[39m)\n\u001b[1;32m-> 2032\u001b[0m \u001b[38;5;28;01mraise\u001b[39;00m ex \u001b[38;5;28;01mfrom\u001b[39;00m \u001b[38;5;21;01mexc\u001b[39;00m\n",
      "\u001b[1;31mDatabaseError\u001b[0m: Execution failed on sql '\n    \n    ????\n        )\n    ': near \"?\": syntax error"
     ]
    }
   ],
   "source": [
    "# Schreibe die Abfrage an die Stelle der Fragezeichen\n",
    "# Tipp: Es müssen zwei ineinander verschachtelte Subqueries verwendet werden.\n",
    "print(pd.read_sql_query('''\n",
    "    \n",
    "    ????\n",
    "        )\n",
    "    ''', conn))"
   ]
  },
  {
   "cell_type": "markdown",
   "metadata": {},
   "source": [
    "# Aufgaben zu Teil 3"
   ]
  },
  {
   "cell_type": "markdown",
   "metadata": {},
   "source": [
    "## Bitte führen Sie diesen Teil aus "
   ]
  },
  {
   "cell_type": "code",
   "execution_count": 16,
   "metadata": {},
   "outputs": [],
   "source": [
    "# Sternschema erstellen\n",
    "#cursor.execute('''PRAGMA foreign_keys = OFF;''')  # disable foreign keys\n",
    "#conn.commit()\n",
    "cursor.execute('''CREATE TABLE IF NOT EXISTS food_new(\n",
    "                  food_id INT PRIMARY KEY,\n",
    "                  name TEXT,\n",
    "                  price_per_kg FLOAT,\n",
    "                  producer TEXT,\n",
    "                  origin TEXT,\n",
    "                  animal TEXT\n",
    "                  );''')\n",
    "\n",
    "cursor.execute('''CREATE TABLE IF NOT EXISTS customer_new(\n",
    "                  cust_id INT PRIMARY KEY NOT NULL UNIQUE,\n",
    "                  name TEXT,\n",
    "                  postal_code nvarchar(5),\n",
    "                  city TEXT\n",
    "                  );''')\n",
    "\n",
    "cursor.execute('''CREATE TABLE IF NOT EXISTS employee_new(\n",
    "                  empl_id INT PRIMARY KEY NOT NULL UNIQUE,\n",
    "                  name TEXT,\n",
    "                  gender nvarchar(1),\n",
    "                  wage INT\n",
    "                  );''')\n",
    "conn.commit()\n",
    "\n",
    "# Tabellen mit Daten füllen\n",
    "cursor.execute('''INSERT INTO food_new(food_id, name, price_per_kg, producer, origin, animal)\n",
    "                  SELECT food.food_ID, food.name, food.price_per_kg, food.producer, food.origin, animals.name\n",
    "                  FROM food\n",
    "                  INNER JOIN animals ON food.food_ID = animals.food;\n",
    "                  ''')\n",
    "conn.commit()\n",
    "    \n",
    "cursor.execute('''INSERT INTO employee_new(empl_id, name, gender, wage)\n",
    "                  SELECT employee_ID, name, gender, wage\n",
    "                  FROM employee;\n",
    "                  ''')    \n",
    "    \n",
    "cursor.execute('''INSERT INTO customer_new(cust_id, name, postal_code, city)\n",
    "                  SELECT customer_ID, name, postal_code, city\n",
    "                  FROM customer;\n",
    "                  ''')\n",
    "\n",
    "conn.commit()\n",
    "cursor.execute('''\n",
    "    CREATE TABLE IF NOT EXISTS sales(\n",
    "        order_nr  INT PRIMARY KEY NOT NULL UNIQUE,\n",
    "        transact INT,\n",
    "        date DATE,\n",
    "        custumer_id int, \n",
    "        food_id INT,\n",
    "        amount INT,\n",
    "        employee_id INT,\n",
    "            foreign key(food_id) references food_new(food_id),\n",
    "            foreign key(custumer_id) references customer_new(cust_id),\n",
    "            foreign key(employee_id) references employee_new(empl_id)\n",
    "        );''')\n",
    "\n",
    "cursor.execute('''\n",
    "    INSERT INTO sales( order_nr, transact, date, custumer_id, food_id, amount,employee_id )\n",
    "    SELECT order_Nr,transact, date, C_ID, food_ID, amount, E_ID \n",
    "    FROM orders\n",
    "    LEFT JOIN \n",
    "        customer_buys_food ON orders.order_Nr = customer_buys_food.O_ID\n",
    "    LEFt JOIN \n",
    "        food ON customer_buys_food.F_ID = food.food_ID;\n",
    "    ''')\n",
    "cursor.execute(''' PRAGMA table_info(sales);''')\n",
    "records = cursor.fetchall()"
   ]
  },
  {
   "cell_type": "markdown",
   "metadata": {},
   "source": [
    "### Hiermit werden die Inhalte der Dimensionstabellen angezeigt"
   ]
  },
  {
   "cell_type": "code",
   "execution_count": 17,
   "metadata": {},
   "outputs": [
    {
     "name": "stdout",
     "output_type": "stream",
     "text": [
      "Tabelle customer_new\n",
      "   cust_id       name postal_code          city\n",
      "0        1    Mueller       68723    Oftersheim\n",
      "1        2    Schmidt       68766    Hockenheim\n",
      "2        3  Schneider       68526     Ladenburg\n",
      "3        4    Fischer       68753     Waghäusel\n",
      "4        5      Weber       68799     Reilingen\n",
      "5        6      Meyer       68549     Ilvesheim\n",
      "6        7     Wagner       69221    Dossenheim\n",
      "7        8     Becker       69251       Gaiberg\n",
      "8        9     Schulz       69151  Neckargemünd\n",
      "9       10   Hoffmann       68526     Ladenburg\n",
      "--------------------------------------------------------\n",
      "Tabelle food_new\n",
      "   food_id              name  price_per_kg          producer       origin  \\\n",
      "0        1       Hundefutter          4.00   Wau Dosenfutter  Deutschland   \n",
      "1        2      Katzenfutter          8.00  Miau Dosenfutter        China   \n",
      "2        3  Getreidemischung         10.00  Jerry's Getreide  Deutschland   \n",
      "3        4      Pferdefutter          0.65          Hottehue       Taiwan   \n",
      "4        5       Fischfutter          2.30             Blubb     Atlantis   \n",
      "\n",
      "      animal  \n",
      "0       Hund  \n",
      "1      Katze  \n",
      "2   Nagetier  \n",
      "3  Hauspferd  \n",
      "4  Goldfisch  \n",
      "--------------------------------------------------------\n",
      "Tabelle employee_new\n",
      "   employee_ID       name gender  wage\n",
      "0            1   Schaefer      w  1000\n",
      "1            2      Bauer      m  1200\n",
      "2            3       Koch      w  2500\n",
      "3            4    Richter      m  3000\n",
      "4            5      Klein      m  1750\n",
      "5            6       Wolf      m  2200\n",
      "6            7  Schroeder      w  1750\n",
      "7            8    Neumann      w  1200\n",
      "8            9    Schwarz      w  1000\n",
      "9           10      Braun      w  2000\n",
      "--------------------------------------------------------\n"
     ]
    }
   ],
   "source": [
    "print(\"Tabelle customer_new\")\n",
    "print(pd.read_sql_query(\"SELECT * FROM customer_new\", conn))\n",
    "print(\"--------------------------------------------------------\")\n",
    "print(\"Tabelle food_new\")\n",
    "print(pd.read_sql_query(\"SELECT * FROM food_new\", conn))\n",
    "print(\"--------------------------------------------------------\")\n",
    "print(\"Tabelle employee_new\")\n",
    "print(pd.read_sql_query(\"SELECT * FROM employee\", conn))\n",
    "print(\"--------------------------------------------------------\")"
   ]
  },
  {
   "cell_type": "markdown",
   "metadata": {},
   "source": [
    "### Hiermit werden die Inhalte der Faktentabelle angezeigt"
   ]
  },
  {
   "cell_type": "code",
   "execution_count": 18,
   "metadata": {},
   "outputs": [
    {
     "name": "stdout",
     "output_type": "stream",
     "text": [
      "    order_nr  transact        date  custumer_id  food_id  amount  employee_id\n",
      "0          1         2  2021-04-22            2        4       2            2\n",
      "1          2         1  2021-04-25            3        2       3            4\n",
      "2          3         1  2021-05-03            4        1       5            5\n",
      "3          4         3  2021-06-06            1        3       5           10\n",
      "4          5         7  2021-07-22            5        5       2            7\n",
      "5          6         4  2021-10-23            6        1       1            3\n",
      "6          7         5  2022-01-20            9        4       2            6\n",
      "7          8         5  2022-02-15            2        3       2            3\n",
      "8          9         3  2022-03-21            8        5       1            1\n",
      "9         10         6  2022-03-22            7        2       3            3\n",
      "10        11         6  2022-03-23           10        3       2            3\n",
      "11        12         3  2022-03-23            3        2       6            3\n"
     ]
    }
   ],
   "source": [
    "print(pd.read_sql_query(\"SELECT * FROM sales\", conn))"
   ]
  },
  {
   "cell_type": "markdown",
   "metadata": {},
   "source": [
    "## JOINS"
   ]
  },
  {
   "cell_type": "markdown",
   "metadata": {},
   "source": [
    "#### Beispiel: Welcher Verkäufer hat am meisten Umsatz erwirtschaftet?"
   ]
  },
  {
   "cell_type": "code",
   "execution_count": 20,
   "metadata": {},
   "outputs": [
    {
     "name": "stdout",
     "output_type": "stream",
     "text": [
      "    employee  employee_ID  amount  price_per_kg  sum_sales\n",
      "0       Koch            3       1          4.00      116.0\n",
      "1      Braun           10       5         10.00       50.0\n",
      "2    Richter            4       3          8.00       24.0\n",
      "3      Klein            5       5          4.00       20.0\n",
      "4  Schroeder            7       2          2.30        4.6\n",
      "5   Schaefer            1       1          2.30        2.3\n",
      "6       Wolf            6       2          0.65        1.3\n",
      "7      Bauer            2       2          0.65        1.3\n"
     ]
    }
   ],
   "source": [
    "print(pd.read_sql_query('''\n",
    "    SELECT \n",
    "    employee.name as employee, employee.employee_ID, customer_buys_food.amount, food.price_per_kg,\n",
    "    SUM(food.price_per_kg*customer_buys_food.amount) as sum_sales\n",
    "    FROM employee\n",
    "    LEFT JOIN \n",
    "        customer_buys_food  ON employee.employee_ID = customer_buys_food.E_ID\n",
    "    INNER JOIN \n",
    "        food ON customer_buys_food.F_ID = food.food_ID \n",
    "    GROUP BY employee.name\n",
    "    ORDER BY sum_sales DESC\n",
    "    ''', conn))"
   ]
  },
  {
   "cell_type": "markdown",
   "metadata": {},
   "source": [
    "### Aufgabe 3.1: Welcher Verkäufer hat am häufigsten Futter verkauft? Zeigen Sie seinen Namen, seine ID und sein Gehalt an."
   ]
  },
  {
   "cell_type": "code",
   "execution_count": 15,
   "metadata": {
    "scrolled": true
   },
   "outputs": [
    {
     "name": "stdout",
     "output_type": "stream",
     "text": [
      "   employee_ID       name  wage  sum_sales\n",
      "0            3       Koch  2500          5\n",
      "1           10      Braun  2000          1\n",
      "2            7  Schroeder  1750          1\n",
      "3            6       Wolf  2200          1\n",
      "4            5      Klein  1750          1\n",
      "5            4    Richter  3000          1\n",
      "6            2      Bauer  1200          1\n",
      "7            1   Schaefer  1000          1\n"
     ]
    }
   ],
   "source": [
    "print(pd.read_sql_query('''\n",
    "    SELECT employee.employee_ID, employee.name, employee.wage, COUNT(customer_buys_food.O_ID) as sum_sales\n",
    "    FROM customer_buys_food\n",
    "    LEFT JOIN \n",
    "        employee ON employee.employee_ID = customer_buys_food.E_ID\n",
    "    GROUP BY customer_buys_food.E_ID\n",
    "    ORDER BY sum_sales DESC\n",
    "    ''', conn))"
   ]
  },
  {
   "cell_type": "markdown",
   "metadata": {},
   "source": [
    "### Aufgabe:"
   ]
  },
  {
   "cell_type": "code",
   "execution_count": 19,
   "metadata": {},
   "outputs": [
    {
     "name": "stdout",
     "output_type": "stream",
     "text": [
      "   order_nr  transact        date  custumer_id  food_id  amount  employee_id\n",
      "0         2         1  2021-04-25            3        2       3            4\n",
      "1         6         4  2021-10-23            6        1       1            3\n",
      "2         7         5  2022-01-20            9        4       2            6\n",
      "3         8         5  2022-02-15            2        3       2            3\n",
      "4        10         6  2022-03-22            7        2       3            3\n",
      "5        11         6  2022-03-23           10        3       2            3\n",
      "6        12         3  2022-03-23            3        2       6            3\n"
     ]
    }
   ],
   "source": [
    "print(pd.read_sql_query('''\n",
    "    SELECT * FROM sales\n",
    "    WHERE employee_id IN\n",
    "       (SELECT empl_id FROM employee_new WHERE wage > 2000)\n",
    "    ''', conn))"
   ]
  },
  {
   "cell_type": "markdown",
   "metadata": {
    "id": "Eu-QLJbladMx"
   },
   "source": [
    "### Close connection"
   ]
  },
  {
   "cell_type": "code",
   "execution_count": null,
   "metadata": {
    "id": "jWWrN75EadMx"
   },
   "outputs": [],
   "source": [
    "#conn.close()"
   ]
  }
 ],
 "metadata": {
  "colab": {
   "collapsed_sections": [],
   "name": "SQLite_Workshop.ipynb",
   "provenance": []
  },
  "kernelspec": {
   "display_name": "Python 3 (ipykernel)",
   "language": "python",
   "name": "python3"
  },
  "language_info": {
   "codemirror_mode": {
    "name": "ipython",
    "version": 3
   },
   "file_extension": ".py",
   "mimetype": "text/x-python",
   "name": "python",
   "nbconvert_exporter": "python",
   "pygments_lexer": "ipython3",
   "version": "3.9.12"
  }
 },
 "nbformat": 4,
 "nbformat_minor": 1
}
