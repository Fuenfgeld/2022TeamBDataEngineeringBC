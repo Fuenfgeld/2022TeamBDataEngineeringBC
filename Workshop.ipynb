{
 "cells": [
  {
   "cell_type": "markdown",
   "metadata": {
    "id": "lZfbJN0EadMl"
   },
   "source": [
    "# SQLite Workshop"
   ]
  },
  {
   "cell_type": "markdown",
   "metadata": {
    "id": "yjxTEKZSadMp"
   },
   "source": [
    "### Load Libraries"
   ]
  },
  {
   "cell_type": "code",
   "execution_count": 60,
   "metadata": {
    "id": "h7a6BCkrI3lC"
   },
   "outputs": [],
   "source": [
    "import sqlite3\n",
    "import pandas as pd"
   ]
  },
  {
   "cell_type": "markdown",
   "metadata": {
    "id": "-xrj1LUKadMr"
   },
   "source": [
    "### Load GitHub repo"
   ]
  },
  {
   "cell_type": "code",
   "execution_count": 61,
   "metadata": {
    "colab": {
     "base_uri": "https://localhost:8080/"
    },
    "id": "51Emunq_gVrR",
    "outputId": "5f5edc26-47b8-4c11-d862-77d976363547"
   },
   "outputs": [
    {
     "name": "stdout",
     "output_type": "stream",
     "text": [
      "[WinError 2] Das System kann die angegebene Datei nicht finden: '/content/'\n",
      "c:\\Users\\jungc\\Desktop\\2022TeamBDataEngineeringBC\n"
     ]
    },
    {
     "name": "stderr",
     "output_type": "stream",
     "text": [
      "UsageError: Line magic function `%rm` not found.\n"
     ]
    }
   ],
   "source": [
    "%cd /content/\n",
    "%rm -r ./2022TeamBDataEngineeringBC\n",
    "!git clone https://github.com/Fuenfgeld/2022TeamBDataEngineeringBC.git\n",
    "%cd ./2022TeamBDataEngineeringBC/"
   ]
  },
  {
   "cell_type": "markdown",
   "metadata": {
    "id": "ludke7zgadMs"
   },
   "source": [
    "### Connect to Database"
   ]
  },
  {
   "cell_type": "code",
   "execution_count": 62,
   "metadata": {
    "colab": {
     "base_uri": "https://localhost:8080/"
    },
    "id": "5dgmrIH9gnX3",
    "outputId": "da027f88-54a1-45f0-e982-fbae5a06a991"
   },
   "outputs": [
    {
     "name": "stdout",
     "output_type": "stream",
     "text": [
      "Opened database successfully\n"
     ]
    }
   ],
   "source": [
    "conn = sqlite3.connect('sqlite_workshop.db')\n",
    "cursor = conn.cursor()\n",
    "print(\"Opened database successfully\");"
   ]
  },
  {
   "cell_type": "markdown",
   "metadata": {},
   "source": [
    "### Delete tales if exists"
   ]
  },
  {
   "cell_type": "code",
   "execution_count": 63,
   "metadata": {},
   "outputs": [
    {
     "data": {
      "text/plain": [
       "<sqlite3.Cursor at 0x2239bef98f0>"
      ]
     },
     "execution_count": 63,
     "metadata": {},
     "output_type": "execute_result"
    }
   ],
   "source": [
    "cursor.execute(\"DROP TABLE IF EXISTS food\")\n",
    "cursor.execute(\"DROP TABLE IF EXISTS orders\")\n",
    "cursor.execute(\"DROP TABLE IF EXISTS animals\")\n",
    "cursor.execute(\"DROP TABLE IF EXISTS customer\")\n",
    "#cursor.execute(\"DROP TABLE IF EXISTS producer\")\n",
    "cursor.execute(\"DROP TABLE IF EXISTS customer_buys_food\")\n",
    "cursor.execute(\"DROP TABLE IF EXISTS employee\")\n",
    "cursor.execute(\"DROP TABLE IF EXISTS sales\")\n",
    "cursor.execute(\"DROP TABLE IF EXISTS food_new\")\n",
    "cursor.execute(\"DROP TABLE IF EXISTS customer_new\")\n",
    "cursor.execute(\"DROP TABLE IF EXISTS employee_new\")\n",
    "#cursor.execute(\"DROP TABLE IF EXISTS employee_sells_to_customer\")"
   ]
  },
  {
   "cell_type": "markdown",
   "metadata": {
    "id": "2ySsuxihadMt"
   },
   "source": [
    "### Load CSVs into Dataframe"
   ]
  },
  {
   "cell_type": "code",
   "execution_count": 64,
   "metadata": {},
   "outputs": [],
   "source": [
    "food = pd.read_csv('tables/initial_tables/Futter.csv', sep=\";\")\n",
    "customer = pd.read_csv('tables/initial_tables/Kunden.csv', sep=\";\")\n",
    "animals = pd.read_csv('tables/initial_tables/Tiere.csv', sep=\";\")\n",
    "orders = pd.read_csv('tables/initial_tables/Order.csv', sep=\";\")\n",
    "employee = pd.read_csv('tables/initial_tables/Verkaeufer.csv', sep=\";\")\n",
    "customer_buys_food = pd.read_csv('tables/initial_tables/Customer_buys_Food.csv', sep=\";\")"
   ]
  },
  {
   "cell_type": "markdown",
   "metadata": {
    "id": "LIUA1ROCadMu"
   },
   "source": [
    "### Create Tables"
   ]
  },
  {
   "cell_type": "code",
   "execution_count": 65,
   "metadata": {},
   "outputs": [
    {
     "data": {
      "text/plain": [
       "<sqlite3.Cursor at 0x2239bef98f0>"
      ]
     },
     "execution_count": 65,
     "metadata": {},
     "output_type": "execute_result"
    }
   ],
   "source": [
    "cursor.execute('''\n",
    "\t\tCREATE TABLE IF NOT EXISTS customer (\n",
    "\t\t\tcustomer_ID int primary key,\n",
    "            name nvarchar(50),\n",
    "\t\t\tpostal_code nvarchar(5),\n",
    "\t\t\tcity nvarchar(50)\n",
    "\t\t\t)\n",
    "               ''')\n",
    "\n",
    "cursor.execute('''\n",
    "\t\tCREATE TABLE IF NOT EXISTS employee (\n",
    "\t\t\temployee_ID int primary key,\n",
    "            name nvarchar(50),\n",
    "            gender nvarchar(1),\n",
    "\t\t\twage int\n",
    "\t\t\t)\n",
    "               ''')\n",
    "\n",
    "cursor.execute('''\n",
    "\t\tCREATE TABLE IF NOT EXISTS food (\n",
    "\t\t\tfood_ID int primary key,\n",
    "            name nvarchar(50),\n",
    "\t\t\tprice_per_kg float,\n",
    "            producer nvarchar(50),\n",
    "            origin nvarchar(50)\n",
    "\t\t\t)\n",
    "               ''')\n",
    "\n",
    "cursor.execute('''\n",
    "\t\tCREATE TABLE IF NOT EXISTS animals (\n",
    "            name nvarchar(50) primary key,\n",
    "\t\t\tfood int,\n",
    "\t\t\tforeign key(food) references food(food_ID)\n",
    "\t\t\t)\n",
    "               ''') \n",
    "cursor.execute('''\n",
    "\t\tCREATE TABLE IF NOT EXISTS orders (\n",
    "            order_Nr int primary key,\n",
    "            date Date,\n",
    "            transact int\n",
    "\t\t\t)\n",
    "               ''')\n",
    "\n",
    "\n",
    "cursor.execute('''\n",
    "\t\tCREATE TABLE IF NOT EXISTS customer_buys_food (\n",
    "            C_ID int,\n",
    "            F_ID int,\n",
    "\t\t\tamount int,\n",
    "            O_ID int,\n",
    "            E_ID int,\n",
    "            foreign key(C_ID) references customer(customer_ID)\n",
    "\t\t\tforeign key(F_ID) references food(food_ID)\n",
    "            foreign key(O_ID) references orders(order_Nr)\n",
    "            foreign key(E_ID) references employee(employee_ID)\n",
    "\t\t\t)\n",
    "               ''') "
   ]
  },
  {
   "cell_type": "markdown",
   "metadata": {
    "id": "hqexOZTDadMv"
   },
   "source": [
    "### Insert Dataframe in Table"
   ]
  },
  {
   "cell_type": "code",
   "execution_count": 66,
   "metadata": {},
   "outputs": [
    {
     "data": {
      "text/plain": [
       "12"
      ]
     },
     "execution_count": 66,
     "metadata": {},
     "output_type": "execute_result"
    }
   ],
   "source": [
    "customer.to_sql('customer', conn, if_exists='append', index=False)\n",
    "animals.to_sql('animals', conn, if_exists='append', index=False)\n",
    "food.to_sql('food', conn, if_exists='append', index=False)\n",
    "orders.to_sql('orders', conn, if_exists='append', index=False)\n",
    "employee.to_sql('employee', conn, if_exists='append', index=False)\n",
    "customer_buys_food.to_sql('customer_buys_food', conn, if_exists='append', index=False)"
   ]
  },
  {
   "cell_type": "markdown",
   "metadata": {
    "id": "4QthnM4tadMw"
   },
   "source": [
    "### Output table contents"
   ]
  },
  {
   "cell_type": "code",
   "execution_count": 67,
   "metadata": {
    "colab": {
     "base_uri": "https://localhost:8080/"
    },
    "id": "EaYhlJx3adMx",
    "outputId": "9140483f-237d-4783-98c8-42d99d0c51da"
   },
   "outputs": [
    {
     "name": "stdout",
     "output_type": "stream",
     "text": [
      "   customer_ID       name postal_code          city\n",
      "0            1    Mueller       68723    Oftersheim\n",
      "1            2    Schmidt       68766    Hockenheim\n",
      "2            3  Schneider       68526     Ladenburg\n",
      "3            4    Fischer       68753     Waghäusel\n",
      "4            5      Weber       68799     Reilingen\n",
      "5            6      Meyer       68549     Ilvesheim\n",
      "6            7     Wagner       69221    Dossenheim\n",
      "7            8     Becker       69251       Gaiberg\n",
      "8            9     Schulz       69151  Neckargemünd\n",
      "9           10   Hoffmann       68526     Ladenburg\n",
      "--------------------------------------------------------\n",
      "   food_ID              name  price_per_kg          producer       origin\n",
      "0        1       Hundefutter          4.00   Wau Dosenfutter  Deutschland\n",
      "1        2      Katzenfutter          8.00  Miau Dosenfutter        China\n",
      "2        3  Getreidemischung         10.00  Jerry's Getreide  Deutschland\n",
      "3        4      Pferdefutter          0.65          Hottehue       Taiwan\n",
      "4        5       Fischfutter          2.30             Blubb     Atlantis\n",
      "--------------------------------------------------------\n",
      "        name  food\n",
      "0       Hund     1\n",
      "1      Katze     2\n",
      "2   Nagetier     3\n",
      "3  Hauspferd     4\n",
      "4  Goldfisch     5\n"
     ]
    }
   ],
   "source": [
    "print(pd.read_sql_query(\"SELECT * FROM customer\", conn))\n",
    "print(\"--------------------------------------------------------\")\n",
    "print(pd.read_sql_query(\"SELECT * FROM food\", conn))\n",
    "print(\"--------------------------------------------------------\")\n",
    "print(pd.read_sql_query(\"SELECT * FROM animals\", conn))"
   ]
  },
  {
   "cell_type": "code",
   "execution_count": 68,
   "metadata": {},
   "outputs": [
    {
     "name": "stdout",
     "output_type": "stream",
     "text": [
      "    order_Nr        date  transact\n",
      "0          1  2021-04-22         2\n",
      "1          2  2021-04-25         1\n",
      "2          3  2021-05-03         1\n",
      "3          4  2021-06-06         3\n",
      "4          5  2021-07-22         7\n",
      "5          6  2021-10-23         4\n",
      "6          7  2022-01-20         5\n",
      "7          8  2022-02-15         5\n",
      "8          9  2022-03-21         3\n",
      "9         10  2022-03-22         6\n",
      "10        11  2022-03-23         6\n",
      "11        12  2022-03-23         3\n",
      "--------------------------------------------------------\n",
      "   employee_ID       name gender  wage\n",
      "0            1   Schaefer      w  1000\n",
      "1            2      Bauer      m  1200\n",
      "2            3       Koch      w  2500\n",
      "3            4    Richter      m  3000\n",
      "4            5      Klein      m  1750\n",
      "5            6       Wolf      m  2200\n",
      "6            7  Schroeder      w  1750\n",
      "7            8    Neumann      w  1200\n",
      "8            9    Schwarz      w  1000\n",
      "9           10      Braun      w  2000\n",
      "--------------------------------------------------------\n",
      "Tab customer_buys_food\n",
      "    C_ID  F_ID  amount  O_ID  E_ID\n",
      "0      1     3       5     4    10\n",
      "1      2     4       2     1     2\n",
      "2      3     2       3     2     4\n",
      "3      4     1       5     3     5\n",
      "4      5     5       2     5     7\n",
      "5      6     1       1     6     3\n",
      "6      7     2       3    10     3\n",
      "7      8     5       1     9     1\n",
      "8      9     4       2     7     6\n",
      "9     10     3       2    11     3\n",
      "10     2     3       2     8     3\n",
      "11     3     2       6    12     3\n",
      "--------------------------------------------------------\n"
     ]
    }
   ],
   "source": [
    "print(pd.read_sql_query(\"SELECT * FROM orders\", conn))\n",
    "print(\"--------------------------------------------------------\")\n",
    "print(pd.read_sql_query(\"SELECT * FROM employee\", conn))\n",
    "print(\"--------------------------------------------------------\")\n",
    "print(\"Tab customer_buys_food\")\n",
    "print(pd.read_sql_query(\"SELECT * FROM customer_buys_food\", conn))\n",
    "print(\"--------------------------------------------------------\")"
   ]
  },
  {
   "cell_type": "markdown",
   "metadata": {
    "id": "jdLVR06CeLfN"
   },
   "source": [
    "### Output Table Info\n"
   ]
  },
  {
   "cell_type": "code",
   "execution_count": 69,
   "metadata": {
    "colab": {
     "base_uri": "https://localhost:8080/"
    },
    "id": "rwVSe1sLeCM8",
    "outputId": "7b6fd612-307d-46e3-a7ee-fdf3f2bf2eac"
   },
   "outputs": [
    {
     "name": "stdout",
     "output_type": "stream",
     "text": [
      "   cid      name  type  notnull dflt_value  pk\n",
      "0    0  order_Nr   int        0       None   1\n",
      "1    1      date  Date        0       None   0\n",
      "2    2  transact   int        0       None   0\n",
      "--------------------------------------------------------\n",
      "   cid          name          type  notnull dflt_value  pk\n",
      "0    0       food_ID           int        0       None   1\n",
      "1    1          name  nvarchar(50)        0       None   0\n",
      "2    2  price_per_kg         float        0       None   0\n",
      "3    3      producer  nvarchar(50)        0       None   0\n",
      "4    4        origin  nvarchar(50)        0       None   0\n",
      "--------------------------------------------------------\n",
      "   cid  name          type  notnull dflt_value  pk\n",
      "0    0  name  nvarchar(50)        0       None   1\n",
      "1    1  food           int        0       None   0\n"
     ]
    }
   ],
   "source": [
    "print(pd.read_sql_query(\"PRAGMA table_info('orders')\", conn))\n",
    "print(\"--------------------------------------------------------\")\n",
    "print(pd.read_sql_query(\"PRAGMA table_info('food')\", conn))\n",
    "print(\"--------------------------------------------------------\")\n",
    "print(pd.read_sql_query(\"PRAGMA table_info('animals')\", conn))"
   ]
  },
  {
   "cell_type": "code",
   "execution_count": 70,
   "metadata": {},
   "outputs": [
    {
     "name": "stdout",
     "output_type": "stream",
     "text": [
      "   cid         name          type  notnull dflt_value  pk\n",
      "0    0  customer_ID           int        0       None   1\n",
      "1    1         name  nvarchar(50)        0       None   0\n",
      "2    2  postal_code   nvarchar(5)        0       None   0\n",
      "3    3         city  nvarchar(50)        0       None   0\n",
      "--------------------------------------------------------\n",
      "   cid    name type  notnull dflt_value  pk\n",
      "0    0    C_ID  int        0       None   0\n",
      "1    1    F_ID  int        0       None   0\n",
      "2    2  amount  int        0       None   0\n",
      "3    3    O_ID  int        0       None   0\n",
      "4    4    E_ID  int        0       None   0\n",
      "--------------------------------------------------------\n",
      "   cid         name          type  notnull dflt_value  pk\n",
      "0    0  employee_ID           int        0       None   1\n",
      "1    1         name  nvarchar(50)        0       None   0\n",
      "2    2       gender   nvarchar(1)        0       None   0\n",
      "3    3         wage           int        0       None   0\n"
     ]
    }
   ],
   "source": [
    "print(pd.read_sql_query(\"PRAGMA table_info('customer')\", conn))\n",
    "print(\"--------------------------------------------------------\")\n",
    "print(pd.read_sql_query(\"PRAGMA table_info('customer_buys_food')\", conn))\n",
    "print(\"--------------------------------------------------------\")\n",
    "print(pd.read_sql_query(\"PRAGMA table_info('employee')\", conn))"
   ]
  },
  {
   "cell_type": "markdown",
   "metadata": {},
   "source": [
    "### Get foreign keys\n",
    "Emtpy DataFrame means there are no foreign keys"
   ]
  },
  {
   "cell_type": "markdown",
   "metadata": {},
   "source": [
    "Orders table"
   ]
  },
  {
   "cell_type": "code",
   "execution_count": 71,
   "metadata": {},
   "outputs": [
    {
     "name": "stdout",
     "output_type": "stream",
     "text": [
      "Empty DataFrame\n",
      "Columns: [id, seq, table, from, to, on_update, on_delete, match]\n",
      "Index: []\n"
     ]
    }
   ],
   "source": [
    "print(pd.read_sql_query(\"PRAGMA foreign_key_list('orders')\", conn))"
   ]
  },
  {
   "cell_type": "markdown",
   "metadata": {},
   "source": [
    "Food table"
   ]
  },
  {
   "cell_type": "code",
   "execution_count": 72,
   "metadata": {},
   "outputs": [
    {
     "name": "stdout",
     "output_type": "stream",
     "text": [
      "Empty DataFrame\n",
      "Columns: [id, seq, table, from, to, on_update, on_delete, match]\n",
      "Index: []\n"
     ]
    }
   ],
   "source": [
    "print(pd.read_sql_query(\"PRAGMA foreign_key_list('food')\", conn))"
   ]
  },
  {
   "cell_type": "markdown",
   "metadata": {},
   "source": [
    "Animals table"
   ]
  },
  {
   "cell_type": "code",
   "execution_count": 73,
   "metadata": {},
   "outputs": [
    {
     "name": "stdout",
     "output_type": "stream",
     "text": [
      "   id  seq table  from       to  on_update  on_delete match\n",
      "0   0    0  food  food  food_ID  NO ACTION  NO ACTION  NONE\n"
     ]
    }
   ],
   "source": [
    "print(pd.read_sql_query(\"PRAGMA foreign_key_list('Animals')\", conn))"
   ]
  },
  {
   "cell_type": "markdown",
   "metadata": {},
   "source": [
    "Customer Table"
   ]
  },
  {
   "cell_type": "code",
   "execution_count": 74,
   "metadata": {},
   "outputs": [
    {
     "name": "stdout",
     "output_type": "stream",
     "text": [
      "Empty DataFrame\n",
      "Columns: [id, seq, table, from, to, on_update, on_delete, match]\n",
      "Index: []\n"
     ]
    }
   ],
   "source": [
    "print(pd.read_sql_query(\"PRAGMA foreign_key_list('customer')\", conn))"
   ]
  },
  {
   "cell_type": "markdown",
   "metadata": {},
   "source": [
    "Customer_buys_food table"
   ]
  },
  {
   "cell_type": "code",
   "execution_count": 75,
   "metadata": {},
   "outputs": [
    {
     "name": "stdout",
     "output_type": "stream",
     "text": [
      "   id  seq     table  from           to  on_update  on_delete match\n",
      "0   0    0  employee  E_ID  employee_ID  NO ACTION  NO ACTION  NONE\n",
      "1   1    0    orders  O_ID     order_Nr  NO ACTION  NO ACTION  NONE\n",
      "2   2    0      food  F_ID      food_ID  NO ACTION  NO ACTION  NONE\n",
      "3   3    0  customer  C_ID  customer_ID  NO ACTION  NO ACTION  NONE\n"
     ]
    }
   ],
   "source": [
    "print(pd.read_sql_query(\"PRAGMA foreign_key_list('customer_buys_food')\", conn))"
   ]
  },
  {
   "cell_type": "markdown",
   "metadata": {},
   "source": [
    "Employee_sells_to_customer table"
   ]
  },
  {
   "cell_type": "code",
   "execution_count": 76,
   "metadata": {},
   "outputs": [
    {
     "name": "stdout",
     "output_type": "stream",
     "text": [
      "Empty DataFrame\n",
      "Columns: [id, seq, table, from, to, on_update, on_delete, match]\n",
      "Index: []\n"
     ]
    }
   ],
   "source": [
    "print(pd.read_sql_query(\"PRAGMA foreign_key_list('employee_sells_to_customer')\", conn))"
   ]
  },
  {
   "cell_type": "markdown",
   "metadata": {},
   "source": [
    "Employee table"
   ]
  },
  {
   "cell_type": "code",
   "execution_count": 77,
   "metadata": {},
   "outputs": [
    {
     "name": "stdout",
     "output_type": "stream",
     "text": [
      "Empty DataFrame\n",
      "Columns: [id, seq, table, from, to, on_update, on_delete, match]\n",
      "Index: []\n"
     ]
    }
   ],
   "source": [
    "print(pd.read_sql_query(\"PRAGMA foreign_key_list('employee')\", conn))"
   ]
  },
  {
   "cell_type": "markdown",
   "metadata": {},
   "source": [
    "### INNER JOIN\n",
    "\n",
    "SQLite INNER JOIN gibt die Datensätze zurück, bei denen sich tabel1 und tabel2 überschneiden."
   ]
  },
  {
   "cell_type": "code",
   "execution_count": 78,
   "metadata": {},
   "outputs": [
    {
     "name": "stdout",
     "output_type": "stream",
     "text": [
      "        name            f_name\n",
      "0       Hund       Hundefutter\n",
      "1      Katze      Katzenfutter\n",
      "2   Nagetier  Getreidemischung\n",
      "3  Hauspferd      Pferdefutter\n",
      "4  Goldfisch       Fischfutter\n"
     ]
    }
   ],
   "source": [
    "print(pd.read_sql_query('''\n",
    "SELECT animals.name,food.name as f_name FROM animals \n",
    "        INNER JOIN food ON animals.food = food.food_ID''', conn))"
   ]
  },
  {
   "cell_type": "markdown",
   "metadata": {},
   "source": [
    "###  LEFT JOIN\n",
    "\n",
    "SQLite LEFT OUTER JOIN gibt alle Datensätze aus tabele1 und nur die Datensätze aus tabele2 zurück, die sich mit Tabelle1 überschneiden."
   ]
  },
  {
   "attachments": {
    "image.png": {
     "image/png": "[encoded data removed]"
    }
   },
   "cell_type": "markdown",
   "metadata": {},
   "source": [
    "![image.png](attachment:image.png)"
   ]
  },
  {
   "cell_type": "code",
   "execution_count": 79,
   "metadata": {},
   "outputs": [
    {
     "name": "stdout",
     "output_type": "stream",
     "text": [
      "         name  amount\n",
      "0     Mueller       5\n",
      "1     Schmidt       2\n",
      "2     Schmidt       2\n",
      "3   Schneider       3\n",
      "4   Schneider       6\n",
      "5     Fischer       5\n",
      "6       Weber       2\n",
      "7       Meyer       1\n",
      "8      Wagner       3\n",
      "9      Becker       1\n",
      "10     Schulz       2\n",
      "11   Hoffmann       2\n"
     ]
    }
   ],
   "source": [
    "print(pd.read_sql_query('''\n",
    "    SELECT customer.name, customer_buys_food.amount FROM customer\n",
    "    LEFT JOIN customer_buys_food ON customer.customer_ID = customer_buys_food.C_ID''', conn\n",
    "    ))"
   ]
  },
  {
   "cell_type": "markdown",
   "metadata": {},
   "source": [
    "###  MULTIPLE JOIN"
   ]
  },
  {
   "cell_type": "code",
   "execution_count": 90,
   "metadata": {},
   "outputs": [
    {
     "name": "stdout",
     "output_type": "stream",
     "text": [
      "        name  amount  price_per_kg   sum\n",
      "0     Becker       1          2.30   2.3\n",
      "1    Fischer       5          4.00  20.0\n",
      "2   Hoffmann       2         10.00  20.0\n",
      "3      Meyer       1          4.00   4.0\n",
      "4    Mueller       5         10.00  50.0\n",
      "5    Schmidt       2          0.65   1.3\n",
      "6  Schneider       3          8.00  24.0\n",
      "7     Schulz       2          0.65   1.3\n",
      "8     Wagner       3          8.00  24.0\n",
      "9      Weber       2          2.30   4.6\n"
     ]
    }
   ],
   "source": [
    "##Wie viel Geld hat jeder Kunder ausgegeben?\n",
    "print(pd.read_sql_query('''\n",
    "    SELECT \n",
    "    customer.name, customer_buys_food.amount,food.price_per_kg,\n",
    "    food.price_per_kg*customer_buys_food.amount as sum\n",
    "    FROM customer\n",
    "    LEFT JOIN \n",
    "    customer_buys_food  ON customer.customer_ID = customer_buys_food.C_ID\n",
    "    INNER JOIN \n",
    "    food ON customer_buys_food.F_ID = food.food_ID \n",
    "    GROUP BY customer.name\n",
    "    ''', conn))"
   ]
  },
  {
   "cell_type": "code",
   "execution_count": 81,
   "metadata": {},
   "outputs": [
    {
     "name": "stdout",
     "output_type": "stream",
     "text": [
      "   order_Nr        date  transact\n",
      "0         2  2021-04-25         1\n",
      "1         6  2021-10-23         4\n",
      "2         7  2022-01-20         5\n",
      "3         8  2022-02-15         5\n",
      "4        10  2022-03-22         6\n",
      "5        11  2022-03-23         6\n",
      "6        12  2022-03-23         3\n"
     ]
    }
   ],
   "source": [
    "##Subselct\n",
    "print(pd.read_sql_query('''\n",
    "    SELECT * FROM orders\n",
    "    WHERE orders.order_Nr IN\n",
    "        (SELECT customer_buys_food.O_ID FROM customer_buys_food\n",
    "    WHERE customer_buys_food.E_ID IN\n",
    "       (SELECT employee_ID FROM employee WHERE employee.wage > 2000))\n",
    "    ''', conn))"
   ]
  },
  {
   "cell_type": "code",
   "execution_count": 82,
   "metadata": {},
   "outputs": [
    {
     "name": "stdout",
     "output_type": "stream",
     "text": [
      "   C_ID  F_ID  amount  O_ID  E_ID\n",
      "0     3     2       3     2     4\n",
      "1     6     1       1     6     3\n",
      "2     7     2       3    10     3\n",
      "3     9     4       2     7     6\n",
      "4    10     3       2    11     3\n",
      "5     2     3       2     8     3\n",
      "6     3     2       6    12     3\n"
     ]
    }
   ],
   "source": [
    "###Subselect\n",
    "print(pd.read_sql_query('''\n",
    " SELECT * FROM customer_buys_food\n",
    "    WHERE customer_buys_food.E_ID IN\n",
    "       (SELECT employee_ID FROM employee WHERE employee.wage > 2000)\n",
    "    ''', conn))"
   ]
  },
  {
   "cell_type": "code",
   "execution_count": 83,
   "metadata": {},
   "outputs": [
    {
     "name": "stdout",
     "output_type": "stream",
     "text": [
      "(0, 'food_id', 'INT', 0, None, 1)\n",
      "(1, 'name', 'TEXT', 0, None, 0)\n",
      "(2, 'price_per_kg', 'FLOAT', 0, None, 0)\n",
      "(3, 'producer', 'TEXT', 0, None, 0)\n",
      "(4, 'origin', 'TEXT', 0, None, 0)\n",
      "(5, 'animal', 'TEXT', 0, None, 0)\n",
      "(1, 'Schaefer', 'w', 1000)\n",
      "(2, 'Bauer', 'm', 1200)\n",
      "(3, 'Koch', 'w', 2500)\n",
      "(4, 'Richter', 'm', 3000)\n",
      "(5, 'Klein', 'm', 1750)\n",
      "(6, 'Wolf', 'm', 2200)\n",
      "(7, 'Schroeder', 'w', 1750)\n",
      "(8, 'Neumann', 'w', 1200)\n",
      "(9, 'Schwarz', 'w', 1000)\n",
      "(10, 'Braun', 'w', 2000)\n",
      "(0, 'cust_id', 'INT', 1, None, 1)\n",
      "(1, 'name', 'TEXT', 0, None, 0)\n",
      "(2, 'postal_code', 'nvarchar(5)', 0, None, 0)\n",
      "(3, 'city', 'TEXT', 0, None, 0)\n",
      "(1, 'Mueller', '68723', 'Oftersheim')\n",
      "(2, 'Schmidt', '68766', 'Hockenheim')\n",
      "(3, 'Schneider', '68526', 'Ladenburg')\n",
      "(4, 'Fischer', '68753', 'Waghäusel')\n",
      "(5, 'Weber', '68799', 'Reilingen')\n",
      "(6, 'Meyer', '68549', 'Ilvesheim')\n",
      "(7, 'Wagner', '69221', 'Dossenheim')\n",
      "(8, 'Becker', '69251', 'Gaiberg')\n",
      "(9, 'Schulz', '69151', 'Neckargemünd')\n",
      "(10, 'Hoffmann', '68526', 'Ladenburg')\n"
     ]
    }
   ],
   "source": [
    "cursor.execute('''PRAGMA foreign_keys = OFF;''')  # disable foreign keys\n",
    "conn.commit()\n",
    "\n",
    "\n",
    "cursor.execute('''CREATE TABLE IF NOT EXISTS food_new(\n",
    "                  food_id INT PRIMARY KEY,\n",
    "                  name TEXT,\n",
    "                  price_per_kg FLOAT,\n",
    "                  producer TEXT,\n",
    "                  origin TEXT,\n",
    "                  animal TEXT\n",
    "                  );''')\n",
    "\n",
    "cursor.execute('''CREATE TABLE IF NOT EXISTS customer_new(\n",
    "                  cust_id INT PRIMARY KEY NOT NULL UNIQUE,\n",
    "                  name TEXT,\n",
    "                  postal_code nvarchar(5),\n",
    "                  city TEXT\n",
    "                  );''')\n",
    "\n",
    "cursor.execute('''CREATE TABLE IF NOT EXISTS employee_new(\n",
    "                  empl_id INT PRIMARY KEY NOT NULL UNIQUE,\n",
    "                  name TEXT,\n",
    "                  gender nvarchar(1),\n",
    "                  wage INT\n",
    "                  );''')\n",
    "\n",
    "conn.commit()\n",
    "\n",
    "\n",
    "cursor.execute('''INSERT INTO food_new(food_id, name, price_per_kg, producer, origin)\n",
    "                  SELECT food_ID, name, price_per_kg, producer, origin\n",
    "                  FROM food;\n",
    "                  ''')\n",
    "conn.commit()\n",
    "cursor.execute(''' SELECT * FROM food_new;''')\n",
    "cursor.execute(''' PRAGMA table_info(food_new);''')\n",
    "records = cursor.fetchall()\n",
    "for row in records:\n",
    "  print(row)\n",
    "    \n",
    "cursor.execute('''INSERT INTO employee_new(empl_id, name, gender, wage)\n",
    "                  SELECT employee_ID, name, gender, wage\n",
    "                  FROM employee;\n",
    "                  ''')\n",
    "\n",
    "conn.commit()\n",
    "cursor.execute(''' SELECT * FROM employee_new;''')\n",
    "records = cursor.fetchall()\n",
    "\n",
    "for row in records:\n",
    "  print(row)\n",
    "    \n",
    "    \n",
    "cursor.execute(''' SELECT * FROM customer_new;''')\n",
    "cursor.execute(''' PRAGMA table_info(customer_new);''')\n",
    "records = cursor.fetchall()\n",
    "for row in records:\n",
    "  print(row)\n",
    "    \n",
    "cursor.execute('''INSERT INTO customer_new(cust_id, name, postal_code, city)\n",
    "                  SELECT customer_ID, name, postal_code, city\n",
    "                  FROM customer;\n",
    "                  ''')\n",
    "\n",
    "conn.commit()\n",
    "cursor.execute(''' SELECT * FROM customer_new;''')\n",
    "records = cursor.fetchall()\n",
    "for row in records:\n",
    "  print(row)"
   ]
  },
  {
   "cell_type": "code",
   "execution_count": 84,
   "metadata": {},
   "outputs": [
    {
     "name": "stdout",
     "output_type": "stream",
     "text": [
      "    order_Nr  transact        date  customer_id  food_id  amount  employee_id\n",
      "0          1         2  2021-04-22            2        4       2            2\n",
      "1          2         1  2021-04-25            3        2       3            4\n",
      "2          3         1  2021-05-03            4        1       5            5\n",
      "3          4         3  2021-06-06            1        3       5           10\n",
      "4          5         7  2021-07-22            5        5       2            7\n",
      "5          6         4  2021-10-23            6        1       1            3\n",
      "6          7         5  2022-01-20            9        4       2            6\n",
      "7          8         5  2022-02-15            2        3       2            3\n",
      "8          9         3  2022-03-21            8        5       1            1\n",
      "9         10         6  2022-03-22            7        2       3            3\n",
      "10        11         6  2022-03-23           10        3       2            3\n",
      "11        12         3  2022-03-23            3        2       6            3\n"
     ]
    }
   ],
   "source": [
    "### Joins for sales table\n",
    "print(pd.read_sql_query('''\n",
    "    SELECT order_Nr,transact, date, C_ID as customer_id, food_ID as food_id, amount, E_ID AS employee_id FROM orders\n",
    "    LEFT JOIN customer_buys_food ON orders.order_Nr = customer_buys_food.O_ID\n",
    "    LEFt JOIN food ON customer_buys_food.F_ID = food.food_ID \n",
    "    ''', conn))"
   ]
  },
  {
   "cell_type": "code",
   "execution_count": 85,
   "metadata": {},
   "outputs": [
    {
     "data": {
      "text/plain": [
       "<sqlite3.Cursor at 0x2239bef98f0>"
      ]
     },
     "execution_count": 85,
     "metadata": {},
     "output_type": "execute_result"
    }
   ],
   "source": [
    "cursor.execute('''CREATE TABLE IF NOT EXISTS sales(\n",
    "                  order_nr  INT PRIMARY KEY NOT NULL UNIQUE,\n",
    "                  transact,\n",
    "                  date DATE,\n",
    "                  custumer_id int, \n",
    "                  food_id INT,\n",
    "                  amount INT,\n",
    "                  employee_id INT,\n",
    "                  foreign key(food_id) references food_new(food_id),\n",
    "                  foreign key(custumer_id) references customer_new(cust_id),\n",
    "                  foreign key(employee_id) references employee_new(empl_id)\n",
    "                  );''')"
   ]
  },
  {
   "cell_type": "code",
   "execution_count": 86,
   "metadata": {},
   "outputs": [
    {
     "data": {
      "text/plain": [
       "<sqlite3.Cursor at 0x2239bef98f0>"
      ]
     },
     "execution_count": 86,
     "metadata": {},
     "output_type": "execute_result"
    }
   ],
   "source": [
    "cursor.execute('''INSERT INTO sales( order_nr, transact, date, custumer_id, food_id, amount,employee_id )\n",
    "                  SELECT order_Nr,transact, date, C_ID, food_ID, amount, E_ID FROM orders\n",
    "    LEFT JOIN customer_buys_food ON orders.order_Nr = customer_buys_food.O_ID\n",
    "    LEFt JOIN food ON customer_buys_food.F_ID = food.food_ID;\n",
    "    ''')"
   ]
  },
  {
   "cell_type": "code",
   "execution_count": 87,
   "metadata": {},
   "outputs": [
    {
     "name": "stdout",
     "output_type": "stream",
     "text": [
      "    order_nr  transact        date  custumer_id  food_id  amount  employee_id\n",
      "0          1         2  2021-04-22            2        4       2            2\n",
      "1          2         1  2021-04-25            3        2       3            4\n",
      "2          3         1  2021-05-03            4        1       5            5\n",
      "3          4         3  2021-06-06            1        3       5           10\n",
      "4          5         7  2021-07-22            5        5       2            7\n",
      "5          6         4  2021-10-23            6        1       1            3\n",
      "6          7         5  2022-01-20            9        4       2            6\n",
      "7          8         5  2022-02-15            2        3       2            3\n",
      "8          9         3  2022-03-21            8        5       1            1\n",
      "9         10         6  2022-03-22            7        2       3            3\n",
      "10        11         6  2022-03-23           10        3       2            3\n",
      "11        12         3  2022-03-23            3        2       6            3\n"
     ]
    }
   ],
   "source": [
    "print(pd.read_sql_query(\"SELECT * FROM sales\", conn))"
   ]
  },
  {
   "cell_type": "code",
   "execution_count": 88,
   "metadata": {},
   "outputs": [],
   "source": [
    "cursor.execute(''' PRAGMA table_info(sales);''')\n",
    "records = cursor.fetchall()"
   ]
  },
  {
   "cell_type": "markdown",
   "metadata": {},
   "source": [
    "### Teil 1"
   ]
  },
  {
   "cell_type": "code",
   "execution_count": null,
   "metadata": {},
   "outputs": [],
   "source": [
    "# Bitte lösche oben, was du nicht brauchst und was du brauchst mach in deinen Teil rein :)\n",
    "\n",
    "# Bitte schreibe deine Aufgaben hier:\n",
    "\n",
    "# Bitte mache deine Lösungen in Workshop_loesungen rein :)"
   ]
  },
  {
   "cell_type": "markdown",
   "metadata": {},
   "source": [
    "### Teil 2"
   ]
  },
  {
   "cell_type": "code",
   "execution_count": null,
   "metadata": {},
   "outputs": [],
   "source": [
    "# Bitte lösche oben, was du nicht brauchst und was du brauchst mach in deinen Teil rein :)\n",
    "\n",
    "# Bitte schreibe deine Aufgaben hier:\n",
    "\n",
    "# Bitte mache deine Lösungen in Workshop_loesungen rein :)"
   ]
  },
  {
   "cell_type": "markdown",
   "metadata": {},
   "source": [
    "### Teil 3"
   ]
  },
  {
   "cell_type": "code",
   "execution_count": null,
   "metadata": {},
   "outputs": [],
   "source": [
    "# Bitte lösche oben, was du nicht brauchst und was du brauchst mach in deinen Teil rein :)\n",
    "\n",
    "# Bitte schreibe deine Aufgaben hier:\n",
    "\n",
    "# Bitte mache deine Lösungen in Workshop_loesungen rein :)"
   ]
  },
  {
   "cell_type": "markdown",
   "metadata": {
    "id": "Eu-QLJbladMx"
   },
   "source": [
    "### Close connection"
   ]
  },
  {
   "cell_type": "code",
   "execution_count": 89,
   "metadata": {
    "id": "jWWrN75EadMx"
   },
   "outputs": [],
   "source": [
    "#conn.close()"
   ]
  }
 ],
 "metadata": {
  "colab": {
   "collapsed_sections": [],
   "name": "SQLite_Workshop.ipynb",
   "provenance": []
  },
  "kernelspec": {
   "display_name": "Python 3",
   "language": "python",
   "name": "python3"
  },
  "language_info": {
   "codemirror_mode": {
    "name": "ipython",
    "version": 3
   },
   "file_extension": ".py",
   "mimetype": "text/x-python",
   "name": "python",
   "nbconvert_exporter": "python",
   "pygments_lexer": "ipython3",
   "version": "3.8.8"
  }
 },
 "nbformat": 4,
 "nbformat_minor": 1
}
